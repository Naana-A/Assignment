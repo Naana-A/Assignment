{
 "cells": [
  {
   "cell_type": "code",
   "execution_count": 1,
   "id": "df4e0d6e",
   "metadata": {},
   "outputs": [],
   "source": [
    "#importing libraries\n",
    "import pandas as pd\n",
    "import numpy as np\n",
    "import matplotlib.pyplot as plt\n",
    "import warnings\n",
    "warnings.filterwarnings('ignore')\n",
    "import  seaborn as sns\n",
    "from sklearn.ensemble import RandomForestClassifier\n",
    "from sklearn.model_selection import train_test_split\n"
   ]
  },
  {
   "cell_type": "code",
   "execution_count": 2,
   "id": "511b2ae7",
   "metadata": {},
   "outputs": [
    {
     "data": {
      "text/html": [
       "<div>\n",
       "<style scoped>\n",
       "    .dataframe tbody tr th:only-of-type {\n",
       "        vertical-align: middle;\n",
       "    }\n",
       "\n",
       "    .dataframe tbody tr th {\n",
       "        vertical-align: top;\n",
       "    }\n",
       "\n",
       "    .dataframe thead th {\n",
       "        text-align: right;\n",
       "    }\n",
       "</style>\n",
       "<table border=\"1\" class=\"dataframe\">\n",
       "  <thead>\n",
       "    <tr style=\"text-align: right;\">\n",
       "      <th></th>\n",
       "      <th>Unnamed: 0</th>\n",
       "      <th>gbifID</th>\n",
       "      <th>eventDate</th>\n",
       "      <th>country</th>\n",
       "      <th>continent</th>\n",
       "      <th>stateProvince</th>\n",
       "      <th>decimalLatitude</th>\n",
       "      <th>decimalLongitude</th>\n",
       "      <th>species</th>\n",
       "    </tr>\n",
       "  </thead>\n",
       "  <tbody>\n",
       "    <tr>\n",
       "      <th>0</th>\n",
       "      <td>0</td>\n",
       "      <td>2574007008</td>\n",
       "      <td>2020-01-23 01:38:00</td>\n",
       "      <td>Australia</td>\n",
       "      <td>Australia</td>\n",
       "      <td>New South Wales</td>\n",
       "      <td>-32.719457</td>\n",
       "      <td>152.159267</td>\n",
       "      <td>Litoria Fallax</td>\n",
       "    </tr>\n",
       "    <tr>\n",
       "      <th>1</th>\n",
       "      <td>1</td>\n",
       "      <td>3457021422</td>\n",
       "      <td>2010-03-14 22:23:00</td>\n",
       "      <td>Costa Rica</td>\n",
       "      <td>Central America</td>\n",
       "      <td>Puntarenas</td>\n",
       "      <td>8.496999</td>\n",
       "      <td>-83.318613</td>\n",
       "      <td>Agalychnis Callidryas</td>\n",
       "    </tr>\n",
       "    <tr>\n",
       "      <th>2</th>\n",
       "      <td>2</td>\n",
       "      <td>1571195309</td>\n",
       "      <td>2014-04-11 19:51:57</td>\n",
       "      <td>Costa Rica</td>\n",
       "      <td>Central America</td>\n",
       "      <td>Heredia</td>\n",
       "      <td>10.450801</td>\n",
       "      <td>-84.068659</td>\n",
       "      <td>Agalychnis Callidryas</td>\n",
       "    </tr>\n",
       "    <tr>\n",
       "      <th>3</th>\n",
       "      <td>3</td>\n",
       "      <td>2265778539</td>\n",
       "      <td>2018-07-21 21:24:21</td>\n",
       "      <td>Costa Rica</td>\n",
       "      <td>Central America</td>\n",
       "      <td>Puntarenas</td>\n",
       "      <td>9.756705</td>\n",
       "      <td>-84.613363</td>\n",
       "      <td>Agalychnis Callidryas</td>\n",
       "    </tr>\n",
       "    <tr>\n",
       "      <th>4</th>\n",
       "      <td>4</td>\n",
       "      <td>3407962690</td>\n",
       "      <td>2021-10-29 13:57:00</td>\n",
       "      <td>Australia</td>\n",
       "      <td>Australia</td>\n",
       "      <td>Queensland</td>\n",
       "      <td>-26.714302</td>\n",
       "      <td>152.815096</td>\n",
       "      <td>Litoria Fallax</td>\n",
       "    </tr>\n",
       "  </tbody>\n",
       "</table>\n",
       "</div>"
      ],
      "text/plain": [
       "   Unnamed: 0      gbifID           eventDate     country        continent  \\\n",
       "0           0  2574007008 2020-01-23 01:38:00   Australia        Australia   \n",
       "1           1  3457021422 2010-03-14 22:23:00  Costa Rica  Central America   \n",
       "2           2  1571195309 2014-04-11 19:51:57  Costa Rica  Central America   \n",
       "3           3  2265778539 2018-07-21 21:24:21  Costa Rica  Central America   \n",
       "4           4  3407962690 2021-10-29 13:57:00   Australia        Australia   \n",
       "\n",
       "     stateProvince  decimalLatitude  decimalLongitude                species  \n",
       "0  New South Wales       -32.719457        152.159267         Litoria Fallax  \n",
       "1       Puntarenas         8.496999        -83.318613  Agalychnis Callidryas  \n",
       "2          Heredia        10.450801        -84.068659  Agalychnis Callidryas  \n",
       "3       Puntarenas         9.756705        -84.613363  Agalychnis Callidryas  \n",
       "4       Queensland       -26.714302        152.815096         Litoria Fallax  "
      ]
     },
     "execution_count": 2,
     "metadata": {},
     "output_type": "execute_result"
    }
   ],
   "source": [
    "# importing the datasets\n",
    "frogdata= pd.read_excel(\"all_frog_data.xlsx\")\n",
    "frogdata.head()"
   ]
  },
  {
   "cell_type": "code",
   "execution_count": 3,
   "id": "a60a9429",
   "metadata": {},
   "outputs": [
    {
     "name": "stdout",
     "output_type": "stream",
     "text": [
      "<class 'pandas.core.frame.DataFrame'>\n",
      "RangeIndex: 193791 entries, 0 to 193790\n",
      "Data columns (total 9 columns):\n",
      " #   Column            Non-Null Count   Dtype         \n",
      "---  ------            --------------   -----         \n",
      " 0   Unnamed: 0        193791 non-null  int64         \n",
      " 1   gbifID            193791 non-null  int64         \n",
      " 2   eventDate         185026 non-null  datetime64[ns]\n",
      " 3   country           193791 non-null  object        \n",
      " 4   continent         193791 non-null  object        \n",
      " 5   stateProvince     193790 non-null  object        \n",
      " 6   decimalLatitude   193791 non-null  float64       \n",
      " 7   decimalLongitude  193788 non-null  float64       \n",
      " 8   species           193791 non-null  object        \n",
      "dtypes: datetime64[ns](1), float64(2), int64(2), object(4)\n",
      "memory usage: 13.3+ MB\n"
     ]
    }
   ],
   "source": [
    "frogdata.info()"
   ]
  },
  {
   "cell_type": "code",
   "execution_count": 4,
   "id": "9f8a974f",
   "metadata": {},
   "outputs": [
    {
     "data": {
      "text/html": [
       "<div>\n",
       "<style scoped>\n",
       "    .dataframe tbody tr th:only-of-type {\n",
       "        vertical-align: middle;\n",
       "    }\n",
       "\n",
       "    .dataframe tbody tr th {\n",
       "        vertical-align: top;\n",
       "    }\n",
       "\n",
       "    .dataframe thead th {\n",
       "        text-align: right;\n",
       "    }\n",
       "</style>\n",
       "<table border=\"1\" class=\"dataframe\">\n",
       "  <thead>\n",
       "    <tr style=\"text-align: right;\">\n",
       "      <th></th>\n",
       "      <th>Unnamed: 0</th>\n",
       "      <th>gbifID</th>\n",
       "      <th>country</th>\n",
       "      <th>continent</th>\n",
       "      <th>decimalLatitude</th>\n",
       "      <th>decimalLongitude</th>\n",
       "      <th>species</th>\n",
       "      <th>occurrenceStatus</th>\n",
       "      <th>key</th>\n",
       "      <th>ppt_mean</th>\n",
       "      <th>soil_mean</th>\n",
       "      <th>tmax_mean</th>\n",
       "      <th>tmin_mean</th>\n",
       "    </tr>\n",
       "  </thead>\n",
       "  <tbody>\n",
       "    <tr>\n",
       "      <th>0</th>\n",
       "      <td>0</td>\n",
       "      <td>2574007008</td>\n",
       "      <td>Australia</td>\n",
       "      <td>Australia</td>\n",
       "      <td>-32.719457</td>\n",
       "      <td>152.159267</td>\n",
       "      <td>Litoria Fallax</td>\n",
       "      <td>1</td>\n",
       "      <td>0</td>\n",
       "      <td>96.00000</td>\n",
       "      <td>118.71667</td>\n",
       "      <td>23.830004</td>\n",
       "      <td>13.908336</td>\n",
       "    </tr>\n",
       "    <tr>\n",
       "      <th>1</th>\n",
       "      <td>1</td>\n",
       "      <td>3457021422</td>\n",
       "      <td>Costa Rica</td>\n",
       "      <td>Central America</td>\n",
       "      <td>8.496999</td>\n",
       "      <td>-83.318613</td>\n",
       "      <td>Agalychnis Callidryas</td>\n",
       "      <td>0</td>\n",
       "      <td>1</td>\n",
       "      <td>231.51666</td>\n",
       "      <td>131.88333</td>\n",
       "      <td>31.841667</td>\n",
       "      <td>21.111668</td>\n",
       "    </tr>\n",
       "    <tr>\n",
       "      <th>2</th>\n",
       "      <td>2</td>\n",
       "      <td>1571195309</td>\n",
       "      <td>Costa Rica</td>\n",
       "      <td>Central America</td>\n",
       "      <td>10.450801</td>\n",
       "      <td>-84.068659</td>\n",
       "      <td>Agalychnis Callidryas</td>\n",
       "      <td>0</td>\n",
       "      <td>2</td>\n",
       "      <td>279.20000</td>\n",
       "      <td>51.70000</td>\n",
       "      <td>31.341671</td>\n",
       "      <td>22.455004</td>\n",
       "    </tr>\n",
       "    <tr>\n",
       "      <th>3</th>\n",
       "      <td>3</td>\n",
       "      <td>2265778539</td>\n",
       "      <td>Costa Rica</td>\n",
       "      <td>Central America</td>\n",
       "      <td>9.756705</td>\n",
       "      <td>-84.613363</td>\n",
       "      <td>Agalychnis Callidryas</td>\n",
       "      <td>0</td>\n",
       "      <td>3</td>\n",
       "      <td>192.10000</td>\n",
       "      <td>171.81667</td>\n",
       "      <td>31.043331</td>\n",
       "      <td>20.061670</td>\n",
       "    </tr>\n",
       "    <tr>\n",
       "      <th>4</th>\n",
       "      <td>4</td>\n",
       "      <td>3407962690</td>\n",
       "      <td>Australia</td>\n",
       "      <td>Australia</td>\n",
       "      <td>-26.714302</td>\n",
       "      <td>152.815096</td>\n",
       "      <td>Litoria Fallax</td>\n",
       "      <td>1</td>\n",
       "      <td>4</td>\n",
       "      <td>84.80000</td>\n",
       "      <td>111.61667</td>\n",
       "      <td>25.933338</td>\n",
       "      <td>13.801668</td>\n",
       "    </tr>\n",
       "  </tbody>\n",
       "</table>\n",
       "</div>"
      ],
      "text/plain": [
       "   Unnamed: 0      gbifID     country        continent  decimalLatitude  \\\n",
       "0           0  2574007008   Australia        Australia       -32.719457   \n",
       "1           1  3457021422  Costa Rica  Central America         8.496999   \n",
       "2           2  1571195309  Costa Rica  Central America        10.450801   \n",
       "3           3  2265778539  Costa Rica  Central America         9.756705   \n",
       "4           4  3407962690   Australia        Australia       -26.714302   \n",
       "\n",
       "   decimalLongitude                species  occurrenceStatus  key   ppt_mean  \\\n",
       "0        152.159267         Litoria Fallax                 1    0   96.00000   \n",
       "1        -83.318613  Agalychnis Callidryas                 0    1  231.51666   \n",
       "2        -84.068659  Agalychnis Callidryas                 0    2  279.20000   \n",
       "3        -84.613363  Agalychnis Callidryas                 0    3  192.10000   \n",
       "4        152.815096         Litoria Fallax                 1    4   84.80000   \n",
       "\n",
       "   soil_mean  tmax_mean  tmin_mean  \n",
       "0  118.71667  23.830004  13.908336  \n",
       "1  131.88333  31.841667  21.111668  \n",
       "2   51.70000  31.341671  22.455004  \n",
       "3  171.81667  31.043331  20.061670  \n",
       "4  111.61667  25.933338  13.801668  "
      ]
     },
     "execution_count": 4,
     "metadata": {},
     "output_type": "execute_result"
    }
   ],
   "source": [
    "ML= pd.read_excel(\"All_MLOut_new.xlsx\")\n",
    "ML.head()"
   ]
  },
  {
   "cell_type": "markdown",
   "id": "b30f2f0f",
   "metadata": {},
   "source": [
    "since both of the data set contain some common columns, we will drop the common columns so it doesnt duplicate before we merge them"
   ]
  },
  {
   "cell_type": "code",
   "execution_count": 5,
   "id": "0901ac49",
   "metadata": {},
   "outputs": [
    {
     "data": {
      "text/html": [
       "<div>\n",
       "<style scoped>\n",
       "    .dataframe tbody tr th:only-of-type {\n",
       "        vertical-align: middle;\n",
       "    }\n",
       "\n",
       "    .dataframe tbody tr th {\n",
       "        vertical-align: top;\n",
       "    }\n",
       "\n",
       "    .dataframe thead th {\n",
       "        text-align: right;\n",
       "    }\n",
       "</style>\n",
       "<table border=\"1\" class=\"dataframe\">\n",
       "  <thead>\n",
       "    <tr style=\"text-align: right;\">\n",
       "      <th></th>\n",
       "      <th>gbifID</th>\n",
       "      <th>eventDate</th>\n",
       "      <th>stateProvince</th>\n",
       "    </tr>\n",
       "  </thead>\n",
       "  <tbody>\n",
       "    <tr>\n",
       "      <th>0</th>\n",
       "      <td>2574007008</td>\n",
       "      <td>2020-01-23 01:38:00</td>\n",
       "      <td>New South Wales</td>\n",
       "    </tr>\n",
       "    <tr>\n",
       "      <th>1</th>\n",
       "      <td>3457021422</td>\n",
       "      <td>2010-03-14 22:23:00</td>\n",
       "      <td>Puntarenas</td>\n",
       "    </tr>\n",
       "    <tr>\n",
       "      <th>2</th>\n",
       "      <td>1571195309</td>\n",
       "      <td>2014-04-11 19:51:57</td>\n",
       "      <td>Heredia</td>\n",
       "    </tr>\n",
       "    <tr>\n",
       "      <th>3</th>\n",
       "      <td>2265778539</td>\n",
       "      <td>2018-07-21 21:24:21</td>\n",
       "      <td>Puntarenas</td>\n",
       "    </tr>\n",
       "    <tr>\n",
       "      <th>4</th>\n",
       "      <td>3407962690</td>\n",
       "      <td>2021-10-29 13:57:00</td>\n",
       "      <td>Queensland</td>\n",
       "    </tr>\n",
       "    <tr>\n",
       "      <th>...</th>\n",
       "      <td>...</td>\n",
       "      <td>...</td>\n",
       "      <td>...</td>\n",
       "    </tr>\n",
       "    <tr>\n",
       "      <th>193786</th>\n",
       "      <td>1322002619</td>\n",
       "      <td>NaT</td>\n",
       "      <td>Panamá</td>\n",
       "    </tr>\n",
       "    <tr>\n",
       "      <th>193787</th>\n",
       "      <td>1319899134</td>\n",
       "      <td>1937-04-01 00:00:00</td>\n",
       "      <td>Panamá</td>\n",
       "    </tr>\n",
       "    <tr>\n",
       "      <th>193788</th>\n",
       "      <td>1318901755</td>\n",
       "      <td>1937-04-05 00:00:00</td>\n",
       "      <td>Panamá</td>\n",
       "    </tr>\n",
       "    <tr>\n",
       "      <th>193789</th>\n",
       "      <td>1322299951</td>\n",
       "      <td>2002-07-09 00:00:00</td>\n",
       "      <td>Gracias a Dios</td>\n",
       "    </tr>\n",
       "    <tr>\n",
       "      <th>193790</th>\n",
       "      <td>1320529451</td>\n",
       "      <td>2001-10-11 00:00:00</td>\n",
       "      <td>Gracias a Dios</td>\n",
       "    </tr>\n",
       "  </tbody>\n",
       "</table>\n",
       "<p>193791 rows × 3 columns</p>\n",
       "</div>"
      ],
      "text/plain": [
       "            gbifID           eventDate    stateProvince\n",
       "0       2574007008 2020-01-23 01:38:00  New South Wales\n",
       "1       3457021422 2010-03-14 22:23:00       Puntarenas\n",
       "2       1571195309 2014-04-11 19:51:57          Heredia\n",
       "3       2265778539 2018-07-21 21:24:21       Puntarenas\n",
       "4       3407962690 2021-10-29 13:57:00       Queensland\n",
       "...            ...                 ...              ...\n",
       "193786  1322002619                 NaT           Panamá\n",
       "193787  1319899134 1937-04-01 00:00:00           Panamá\n",
       "193788  1318901755 1937-04-05 00:00:00           Panamá\n",
       "193789  1322299951 2002-07-09 00:00:00   Gracias a Dios\n",
       "193790  1320529451 2001-10-11 00:00:00   Gracias a Dios\n",
       "\n",
       "[193791 rows x 3 columns]"
      ]
     },
     "execution_count": 5,
     "metadata": {},
     "output_type": "execute_result"
    }
   ],
   "source": [
    "#dropping duplicate columns\n",
    "frogdata= frogdata.drop(['Unnamed: 0','country', 'continent','decimalLatitude', 'decimalLongitude','species' ], axis=1)\n",
    "frogdata"
   ]
  },
  {
   "cell_type": "code",
   "execution_count": 6,
   "id": "d7c147d0",
   "metadata": {},
   "outputs": [
    {
     "data": {
      "text/html": [
       "<div>\n",
       "<style scoped>\n",
       "    .dataframe tbody tr th:only-of-type {\n",
       "        vertical-align: middle;\n",
       "    }\n",
       "\n",
       "    .dataframe tbody tr th {\n",
       "        vertical-align: top;\n",
       "    }\n",
       "\n",
       "    .dataframe thead th {\n",
       "        text-align: right;\n",
       "    }\n",
       "</style>\n",
       "<table border=\"1\" class=\"dataframe\">\n",
       "  <thead>\n",
       "    <tr style=\"text-align: right;\">\n",
       "      <th></th>\n",
       "      <th>gbifID</th>\n",
       "      <th>eventDate</th>\n",
       "      <th>stateProvince</th>\n",
       "      <th>Unnamed: 0</th>\n",
       "      <th>country</th>\n",
       "      <th>continent</th>\n",
       "      <th>decimalLatitude</th>\n",
       "      <th>decimalLongitude</th>\n",
       "      <th>species</th>\n",
       "      <th>occurrenceStatus</th>\n",
       "      <th>key</th>\n",
       "      <th>ppt_mean</th>\n",
       "      <th>soil_mean</th>\n",
       "      <th>tmax_mean</th>\n",
       "      <th>tmin_mean</th>\n",
       "    </tr>\n",
       "  </thead>\n",
       "  <tbody>\n",
       "    <tr>\n",
       "      <th>0</th>\n",
       "      <td>2574007008</td>\n",
       "      <td>2020-01-23 01:38:00</td>\n",
       "      <td>New South Wales</td>\n",
       "      <td>0</td>\n",
       "      <td>Australia</td>\n",
       "      <td>Australia</td>\n",
       "      <td>-32.719457</td>\n",
       "      <td>152.159267</td>\n",
       "      <td>Litoria Fallax</td>\n",
       "      <td>1</td>\n",
       "      <td>0</td>\n",
       "      <td>96.00000</td>\n",
       "      <td>118.71667</td>\n",
       "      <td>23.830004</td>\n",
       "      <td>13.908336</td>\n",
       "    </tr>\n",
       "    <tr>\n",
       "      <th>1</th>\n",
       "      <td>3457021422</td>\n",
       "      <td>2010-03-14 22:23:00</td>\n",
       "      <td>Puntarenas</td>\n",
       "      <td>1</td>\n",
       "      <td>Costa Rica</td>\n",
       "      <td>Central America</td>\n",
       "      <td>8.496999</td>\n",
       "      <td>-83.318613</td>\n",
       "      <td>Agalychnis Callidryas</td>\n",
       "      <td>0</td>\n",
       "      <td>1</td>\n",
       "      <td>231.51666</td>\n",
       "      <td>131.88333</td>\n",
       "      <td>31.841667</td>\n",
       "      <td>21.111668</td>\n",
       "    </tr>\n",
       "    <tr>\n",
       "      <th>2</th>\n",
       "      <td>1571195309</td>\n",
       "      <td>2014-04-11 19:51:57</td>\n",
       "      <td>Heredia</td>\n",
       "      <td>2</td>\n",
       "      <td>Costa Rica</td>\n",
       "      <td>Central America</td>\n",
       "      <td>10.450801</td>\n",
       "      <td>-84.068659</td>\n",
       "      <td>Agalychnis Callidryas</td>\n",
       "      <td>0</td>\n",
       "      <td>2</td>\n",
       "      <td>279.20000</td>\n",
       "      <td>51.70000</td>\n",
       "      <td>31.341671</td>\n",
       "      <td>22.455004</td>\n",
       "    </tr>\n",
       "    <tr>\n",
       "      <th>3</th>\n",
       "      <td>2265778539</td>\n",
       "      <td>2018-07-21 21:24:21</td>\n",
       "      <td>Puntarenas</td>\n",
       "      <td>3</td>\n",
       "      <td>Costa Rica</td>\n",
       "      <td>Central America</td>\n",
       "      <td>9.756705</td>\n",
       "      <td>-84.613363</td>\n",
       "      <td>Agalychnis Callidryas</td>\n",
       "      <td>0</td>\n",
       "      <td>3</td>\n",
       "      <td>192.10000</td>\n",
       "      <td>171.81667</td>\n",
       "      <td>31.043331</td>\n",
       "      <td>20.061670</td>\n",
       "    </tr>\n",
       "    <tr>\n",
       "      <th>4</th>\n",
       "      <td>3407962690</td>\n",
       "      <td>2021-10-29 13:57:00</td>\n",
       "      <td>Queensland</td>\n",
       "      <td>4</td>\n",
       "      <td>Australia</td>\n",
       "      <td>Australia</td>\n",
       "      <td>-26.714302</td>\n",
       "      <td>152.815096</td>\n",
       "      <td>Litoria Fallax</td>\n",
       "      <td>1</td>\n",
       "      <td>4</td>\n",
       "      <td>84.80000</td>\n",
       "      <td>111.61667</td>\n",
       "      <td>25.933338</td>\n",
       "      <td>13.801668</td>\n",
       "    </tr>\n",
       "    <tr>\n",
       "      <th>...</th>\n",
       "      <td>...</td>\n",
       "      <td>...</td>\n",
       "      <td>...</td>\n",
       "      <td>...</td>\n",
       "      <td>...</td>\n",
       "      <td>...</td>\n",
       "      <td>...</td>\n",
       "      <td>...</td>\n",
       "      <td>...</td>\n",
       "      <td>...</td>\n",
       "      <td>...</td>\n",
       "      <td>...</td>\n",
       "      <td>...</td>\n",
       "      <td>...</td>\n",
       "      <td>...</td>\n",
       "    </tr>\n",
       "    <tr>\n",
       "      <th>193786</th>\n",
       "      <td>1322002619</td>\n",
       "      <td>NaT</td>\n",
       "      <td>Panamá</td>\n",
       "      <td>193786</td>\n",
       "      <td>Panama</td>\n",
       "      <td>Central America</td>\n",
       "      <td>8.806900</td>\n",
       "      <td>-79.515300</td>\n",
       "      <td>Dendrobates Auratus</td>\n",
       "      <td>0</td>\n",
       "      <td>193786</td>\n",
       "      <td>158.16667</td>\n",
       "      <td>214.81667</td>\n",
       "      <td>31.203335</td>\n",
       "      <td>24.071667</td>\n",
       "    </tr>\n",
       "    <tr>\n",
       "      <th>193787</th>\n",
       "      <td>1319899134</td>\n",
       "      <td>1937-04-01 00:00:00</td>\n",
       "      <td>Panamá</td>\n",
       "      <td>193787</td>\n",
       "      <td>Panama</td>\n",
       "      <td>Central America</td>\n",
       "      <td>8.806900</td>\n",
       "      <td>-79.515300</td>\n",
       "      <td>Dendrobates Auratus</td>\n",
       "      <td>0</td>\n",
       "      <td>193787</td>\n",
       "      <td>158.16667</td>\n",
       "      <td>214.81667</td>\n",
       "      <td>31.203335</td>\n",
       "      <td>24.071667</td>\n",
       "    </tr>\n",
       "    <tr>\n",
       "      <th>193788</th>\n",
       "      <td>1318901755</td>\n",
       "      <td>1937-04-05 00:00:00</td>\n",
       "      <td>Panamá</td>\n",
       "      <td>193788</td>\n",
       "      <td>Panama</td>\n",
       "      <td>Central America</td>\n",
       "      <td>8.791700</td>\n",
       "      <td>-79.561100</td>\n",
       "      <td>Dendrobates Auratus</td>\n",
       "      <td>0</td>\n",
       "      <td>193788</td>\n",
       "      <td>158.16667</td>\n",
       "      <td>214.81667</td>\n",
       "      <td>31.203335</td>\n",
       "      <td>24.071667</td>\n",
       "    </tr>\n",
       "    <tr>\n",
       "      <th>193789</th>\n",
       "      <td>1322299951</td>\n",
       "      <td>2002-07-09 00:00:00</td>\n",
       "      <td>Gracias a Dios</td>\n",
       "      <td>193789</td>\n",
       "      <td>Honduras</td>\n",
       "      <td>Central America</td>\n",
       "      <td>15.091100</td>\n",
       "      <td>-83.557800</td>\n",
       "      <td>Agalychnis Callidryas</td>\n",
       "      <td>0</td>\n",
       "      <td>193789</td>\n",
       "      <td>190.06667</td>\n",
       "      <td>141.43333</td>\n",
       "      <td>29.326668</td>\n",
       "      <td>23.588335</td>\n",
       "    </tr>\n",
       "    <tr>\n",
       "      <th>193790</th>\n",
       "      <td>1320529451</td>\n",
       "      <td>2001-10-11 00:00:00</td>\n",
       "      <td>Gracias a Dios</td>\n",
       "      <td>193790</td>\n",
       "      <td>Honduras</td>\n",
       "      <td>Central America</td>\n",
       "      <td>14.927500</td>\n",
       "      <td>-84.533900</td>\n",
       "      <td>Agalychnis Callidryas</td>\n",
       "      <td>0</td>\n",
       "      <td>193790</td>\n",
       "      <td>206.53334</td>\n",
       "      <td>142.61667</td>\n",
       "      <td>30.230005</td>\n",
       "      <td>22.480005</td>\n",
       "    </tr>\n",
       "  </tbody>\n",
       "</table>\n",
       "<p>193791 rows × 15 columns</p>\n",
       "</div>"
      ],
      "text/plain": [
       "            gbifID           eventDate    stateProvince  Unnamed: 0  \\\n",
       "0       2574007008 2020-01-23 01:38:00  New South Wales           0   \n",
       "1       3457021422 2010-03-14 22:23:00       Puntarenas           1   \n",
       "2       1571195309 2014-04-11 19:51:57          Heredia           2   \n",
       "3       2265778539 2018-07-21 21:24:21       Puntarenas           3   \n",
       "4       3407962690 2021-10-29 13:57:00       Queensland           4   \n",
       "...            ...                 ...              ...         ...   \n",
       "193786  1322002619                 NaT           Panamá      193786   \n",
       "193787  1319899134 1937-04-01 00:00:00           Panamá      193787   \n",
       "193788  1318901755 1937-04-05 00:00:00           Panamá      193788   \n",
       "193789  1322299951 2002-07-09 00:00:00   Gracias a Dios      193789   \n",
       "193790  1320529451 2001-10-11 00:00:00   Gracias a Dios      193790   \n",
       "\n",
       "           country        continent  decimalLatitude  decimalLongitude  \\\n",
       "0        Australia        Australia       -32.719457        152.159267   \n",
       "1       Costa Rica  Central America         8.496999        -83.318613   \n",
       "2       Costa Rica  Central America        10.450801        -84.068659   \n",
       "3       Costa Rica  Central America         9.756705        -84.613363   \n",
       "4        Australia        Australia       -26.714302        152.815096   \n",
       "...            ...              ...              ...               ...   \n",
       "193786      Panama  Central America         8.806900        -79.515300   \n",
       "193787      Panama  Central America         8.806900        -79.515300   \n",
       "193788      Panama  Central America         8.791700        -79.561100   \n",
       "193789    Honduras  Central America        15.091100        -83.557800   \n",
       "193790    Honduras  Central America        14.927500        -84.533900   \n",
       "\n",
       "                      species  occurrenceStatus     key   ppt_mean  soil_mean  \\\n",
       "0              Litoria Fallax                 1       0   96.00000  118.71667   \n",
       "1       Agalychnis Callidryas                 0       1  231.51666  131.88333   \n",
       "2       Agalychnis Callidryas                 0       2  279.20000   51.70000   \n",
       "3       Agalychnis Callidryas                 0       3  192.10000  171.81667   \n",
       "4              Litoria Fallax                 1       4   84.80000  111.61667   \n",
       "...                       ...               ...     ...        ...        ...   \n",
       "193786    Dendrobates Auratus                 0  193786  158.16667  214.81667   \n",
       "193787    Dendrobates Auratus                 0  193787  158.16667  214.81667   \n",
       "193788    Dendrobates Auratus                 0  193788  158.16667  214.81667   \n",
       "193789  Agalychnis Callidryas                 0  193789  190.06667  141.43333   \n",
       "193790  Agalychnis Callidryas                 0  193790  206.53334  142.61667   \n",
       "\n",
       "        tmax_mean  tmin_mean  \n",
       "0       23.830004  13.908336  \n",
       "1       31.841667  21.111668  \n",
       "2       31.341671  22.455004  \n",
       "3       31.043331  20.061670  \n",
       "4       25.933338  13.801668  \n",
       "...           ...        ...  \n",
       "193786  31.203335  24.071667  \n",
       "193787  31.203335  24.071667  \n",
       "193788  31.203335  24.071667  \n",
       "193789  29.326668  23.588335  \n",
       "193790  30.230005  22.480005  \n",
       "\n",
       "[193791 rows x 15 columns]"
      ]
     },
     "execution_count": 6,
     "metadata": {},
     "output_type": "execute_result"
    }
   ],
   "source": [
    "#merging the 2 data sets\n",
    "Frogdata=frogdata.merge(ML,on='gbifID')\n",
    "Frogdata"
   ]
  },
  {
   "cell_type": "code",
   "execution_count": 7,
   "id": "bc2d4c46",
   "metadata": {},
   "outputs": [
    {
     "name": "stdout",
     "output_type": "stream",
     "text": [
      "<class 'pandas.core.frame.DataFrame'>\n",
      "Int64Index: 193791 entries, 0 to 193790\n",
      "Data columns (total 15 columns):\n",
      " #   Column            Non-Null Count   Dtype         \n",
      "---  ------            --------------   -----         \n",
      " 0   gbifID            193791 non-null  int64         \n",
      " 1   eventDate         185026 non-null  datetime64[ns]\n",
      " 2   stateProvince     193790 non-null  object        \n",
      " 3   Unnamed: 0        193791 non-null  int64         \n",
      " 4   country           193791 non-null  object        \n",
      " 5   continent         193791 non-null  object        \n",
      " 6   decimalLatitude   193791 non-null  float64       \n",
      " 7   decimalLongitude  193791 non-null  float64       \n",
      " 8   species           193791 non-null  object        \n",
      " 9   occurrenceStatus  193791 non-null  int64         \n",
      " 10  key               193791 non-null  int64         \n",
      " 11  ppt_mean          161812 non-null  float64       \n",
      " 12  soil_mean         161812 non-null  float64       \n",
      " 13  tmax_mean         161812 non-null  float64       \n",
      " 14  tmin_mean         161812 non-null  float64       \n",
      "dtypes: datetime64[ns](1), float64(6), int64(4), object(4)\n",
      "memory usage: 23.7+ MB\n"
     ]
    }
   ],
   "source": [
    "#get column info\n",
    "Frogdata.info()"
   ]
  },
  {
   "cell_type": "markdown",
   "id": "92633f02",
   "metadata": {},
   "source": [
    "Some of the columns contains null values so we will find the total null values and move from there."
   ]
  },
  {
   "cell_type": "code",
   "execution_count": 8,
   "id": "68b7bde7",
   "metadata": {},
   "outputs": [
    {
     "data": {
      "text/plain": [
       "gbifID                  0\n",
       "eventDate            8765\n",
       "stateProvince           1\n",
       "Unnamed: 0              0\n",
       "country                 0\n",
       "continent               0\n",
       "decimalLatitude         0\n",
       "decimalLongitude        0\n",
       "species                 0\n",
       "occurrenceStatus        0\n",
       "key                     0\n",
       "ppt_mean            31979\n",
       "soil_mean           31979\n",
       "tmax_mean           31979\n",
       "tmin_mean           31979\n",
       "dtype: int64"
      ]
     },
     "execution_count": 8,
     "metadata": {},
     "output_type": "execute_result"
    }
   ],
   "source": [
    "#TOTAL null values\n",
    "Frogdata.isnull().sum()"
   ]
  },
  {
   "cell_type": "code",
   "execution_count": 9,
   "id": "a330921d",
   "metadata": {},
   "outputs": [
    {
     "data": {
      "text/plain": [
       "Index(['gbifID', 'eventDate', 'stateProvince', 'Unnamed: 0', 'country',\n",
       "       'continent', 'decimalLatitude', 'decimalLongitude', 'species',\n",
       "       'occurrenceStatus', 'key', 'ppt_mean', 'soil_mean', 'tmax_mean',\n",
       "       'tmin_mean'],\n",
       "      dtype='object')"
      ]
     },
     "execution_count": 9,
     "metadata": {},
     "output_type": "execute_result"
    }
   ],
   "source": [
    "Frogdata.columns"
   ]
  },
  {
   "cell_type": "markdown",
   "id": "8b7add11",
   "metadata": {},
   "source": [
    "So now that we know the columns with null values, we will replace them with either the mean or median depending on their distribution"
   ]
  },
  {
   "cell_type": "code",
   "execution_count": 10,
   "id": "f2af7de1",
   "metadata": {},
   "outputs": [],
   "source": [
    "#finding and replacing the median of ppt_mean and soil_mean\n",
    "median= Frogdata.groupby([\"species\", \"country\"])[[\"ppt_mean\", \"soil_mean\"]].transform(\"median\")\n"
   ]
  },
  {
   "cell_type": "code",
   "execution_count": 11,
   "id": "1e4d216d",
   "metadata": {},
   "outputs": [],
   "source": [
    "Frogdata[[\"ppt_mean\", \"soil_mean\"]] = Frogdata[[\"ppt_mean\", \"soil_mean\"]].fillna(median)"
   ]
  },
  {
   "cell_type": "code",
   "execution_count": 12,
   "id": "0e97f66e",
   "metadata": {},
   "outputs": [],
   "source": [
    "#finding and replacing the mean of tmax_mean and tmin_mean\n",
    "mean= Frogdata.groupby([\"species\", \"country\"])[[\"tmax_mean\", \"tmin_mean\"]].transform(\"mean\")"
   ]
  },
  {
   "cell_type": "code",
   "execution_count": 13,
   "id": "c56b6ca8",
   "metadata": {},
   "outputs": [],
   "source": [
    "Frogdata[[\"tmax_mean\", \"tmin_mean\"]] = Frogdata[[\"tmax_mean\", \"tmin_mean\"]].fillna(mean)"
   ]
  },
  {
   "cell_type": "code",
   "execution_count": 14,
   "id": "f4e32a5e",
   "metadata": {},
   "outputs": [
    {
     "name": "stdout",
     "output_type": "stream",
     "text": [
      "<class 'pandas.core.frame.DataFrame'>\n",
      "Int64Index: 193791 entries, 0 to 193790\n",
      "Data columns (total 15 columns):\n",
      " #   Column            Non-Null Count   Dtype         \n",
      "---  ------            --------------   -----         \n",
      " 0   gbifID            193791 non-null  int64         \n",
      " 1   eventDate         185026 non-null  datetime64[ns]\n",
      " 2   stateProvince     193790 non-null  object        \n",
      " 3   Unnamed: 0        193791 non-null  int64         \n",
      " 4   country           193791 non-null  object        \n",
      " 5   continent         193791 non-null  object        \n",
      " 6   decimalLatitude   193791 non-null  float64       \n",
      " 7   decimalLongitude  193791 non-null  float64       \n",
      " 8   species           193791 non-null  object        \n",
      " 9   occurrenceStatus  193791 non-null  int64         \n",
      " 10  key               193791 non-null  int64         \n",
      " 11  ppt_mean          193791 non-null  float64       \n",
      " 12  soil_mean         193791 non-null  float64       \n",
      " 13  tmax_mean         193791 non-null  float64       \n",
      " 14  tmin_mean         193791 non-null  float64       \n",
      "dtypes: datetime64[ns](1), float64(6), int64(4), object(4)\n",
      "memory usage: 23.7+ MB\n"
     ]
    }
   ],
   "source": [
    "Frogdata.info()"
   ]
  },
  {
   "cell_type": "markdown",
   "id": "f5552a0c",
   "metadata": {},
   "source": [
    "Now that we have replace some of the null values with the mean and median, we will drop the missing values in the state province column."
   ]
  },
  {
   "cell_type": "code",
   "execution_count": 15,
   "id": "cf12742f",
   "metadata": {},
   "outputs": [
    {
     "name": "stdout",
     "output_type": "stream",
     "text": [
      "<class 'pandas.core.frame.DataFrame'>\n",
      "Int64Index: 193790 entries, 0 to 193790\n",
      "Data columns (total 15 columns):\n",
      " #   Column            Non-Null Count   Dtype         \n",
      "---  ------            --------------   -----         \n",
      " 0   gbifID            193790 non-null  int64         \n",
      " 1   eventDate         185025 non-null  datetime64[ns]\n",
      " 2   stateProvince     193790 non-null  object        \n",
      " 3   Unnamed: 0        193790 non-null  int64         \n",
      " 4   country           193790 non-null  object        \n",
      " 5   continent         193790 non-null  object        \n",
      " 6   decimalLatitude   193790 non-null  float64       \n",
      " 7   decimalLongitude  193790 non-null  float64       \n",
      " 8   species           193790 non-null  object        \n",
      " 9   occurrenceStatus  193790 non-null  int64         \n",
      " 10  key               193790 non-null  int64         \n",
      " 11  ppt_mean          193790 non-null  float64       \n",
      " 12  soil_mean         193790 non-null  float64       \n",
      " 13  tmax_mean         193790 non-null  float64       \n",
      " 14  tmin_mean         193790 non-null  float64       \n",
      "dtypes: datetime64[ns](1), float64(6), int64(4), object(4)\n",
      "memory usage: 23.7+ MB\n"
     ]
    }
   ],
   "source": [
    "#dropping missing values\n",
    "Frogdata= Frogdata.dropna(subset=[\"stateProvince\"])\n",
    "Frogdata.info()"
   ]
  },
  {
   "cell_type": "markdown",
   "id": "decd9a4c",
   "metadata": {},
   "source": [
    "We will now drop the key and unnamed column since they don't affect the  data\n"
   ]
  },
  {
   "cell_type": "code",
   "execution_count": 16,
   "id": "27b546f3",
   "metadata": {},
   "outputs": [
    {
     "data": {
      "text/html": [
       "<div>\n",
       "<style scoped>\n",
       "    .dataframe tbody tr th:only-of-type {\n",
       "        vertical-align: middle;\n",
       "    }\n",
       "\n",
       "    .dataframe tbody tr th {\n",
       "        vertical-align: top;\n",
       "    }\n",
       "\n",
       "    .dataframe thead th {\n",
       "        text-align: right;\n",
       "    }\n",
       "</style>\n",
       "<table border=\"1\" class=\"dataframe\">\n",
       "  <thead>\n",
       "    <tr style=\"text-align: right;\">\n",
       "      <th></th>\n",
       "      <th>gbifID</th>\n",
       "      <th>eventDate</th>\n",
       "      <th>stateProvince</th>\n",
       "      <th>country</th>\n",
       "      <th>continent</th>\n",
       "      <th>decimalLatitude</th>\n",
       "      <th>decimalLongitude</th>\n",
       "      <th>species</th>\n",
       "      <th>ppt_mean</th>\n",
       "      <th>soil_mean</th>\n",
       "      <th>tmax_mean</th>\n",
       "      <th>tmin_mean</th>\n",
       "    </tr>\n",
       "  </thead>\n",
       "  <tbody>\n",
       "    <tr>\n",
       "      <th>0</th>\n",
       "      <td>2574007008</td>\n",
       "      <td>2020-01-23 01:38:00</td>\n",
       "      <td>New South Wales</td>\n",
       "      <td>Australia</td>\n",
       "      <td>Australia</td>\n",
       "      <td>-32.719457</td>\n",
       "      <td>152.159267</td>\n",
       "      <td>Litoria Fallax</td>\n",
       "      <td>96.00000</td>\n",
       "      <td>118.71667</td>\n",
       "      <td>23.830004</td>\n",
       "      <td>13.908336</td>\n",
       "    </tr>\n",
       "    <tr>\n",
       "      <th>1</th>\n",
       "      <td>3457021422</td>\n",
       "      <td>2010-03-14 22:23:00</td>\n",
       "      <td>Puntarenas</td>\n",
       "      <td>Costa Rica</td>\n",
       "      <td>Central America</td>\n",
       "      <td>8.496999</td>\n",
       "      <td>-83.318613</td>\n",
       "      <td>Agalychnis Callidryas</td>\n",
       "      <td>231.51666</td>\n",
       "      <td>131.88333</td>\n",
       "      <td>31.841667</td>\n",
       "      <td>21.111668</td>\n",
       "    </tr>\n",
       "    <tr>\n",
       "      <th>2</th>\n",
       "      <td>1571195309</td>\n",
       "      <td>2014-04-11 19:51:57</td>\n",
       "      <td>Heredia</td>\n",
       "      <td>Costa Rica</td>\n",
       "      <td>Central America</td>\n",
       "      <td>10.450801</td>\n",
       "      <td>-84.068659</td>\n",
       "      <td>Agalychnis Callidryas</td>\n",
       "      <td>279.20000</td>\n",
       "      <td>51.70000</td>\n",
       "      <td>31.341671</td>\n",
       "      <td>22.455004</td>\n",
       "    </tr>\n",
       "    <tr>\n",
       "      <th>3</th>\n",
       "      <td>2265778539</td>\n",
       "      <td>2018-07-21 21:24:21</td>\n",
       "      <td>Puntarenas</td>\n",
       "      <td>Costa Rica</td>\n",
       "      <td>Central America</td>\n",
       "      <td>9.756705</td>\n",
       "      <td>-84.613363</td>\n",
       "      <td>Agalychnis Callidryas</td>\n",
       "      <td>192.10000</td>\n",
       "      <td>171.81667</td>\n",
       "      <td>31.043331</td>\n",
       "      <td>20.061670</td>\n",
       "    </tr>\n",
       "    <tr>\n",
       "      <th>4</th>\n",
       "      <td>3407962690</td>\n",
       "      <td>2021-10-29 13:57:00</td>\n",
       "      <td>Queensland</td>\n",
       "      <td>Australia</td>\n",
       "      <td>Australia</td>\n",
       "      <td>-26.714302</td>\n",
       "      <td>152.815096</td>\n",
       "      <td>Litoria Fallax</td>\n",
       "      <td>84.80000</td>\n",
       "      <td>111.61667</td>\n",
       "      <td>25.933338</td>\n",
       "      <td>13.801668</td>\n",
       "    </tr>\n",
       "    <tr>\n",
       "      <th>...</th>\n",
       "      <td>...</td>\n",
       "      <td>...</td>\n",
       "      <td>...</td>\n",
       "      <td>...</td>\n",
       "      <td>...</td>\n",
       "      <td>...</td>\n",
       "      <td>...</td>\n",
       "      <td>...</td>\n",
       "      <td>...</td>\n",
       "      <td>...</td>\n",
       "      <td>...</td>\n",
       "      <td>...</td>\n",
       "    </tr>\n",
       "    <tr>\n",
       "      <th>193786</th>\n",
       "      <td>1322002619</td>\n",
       "      <td>NaT</td>\n",
       "      <td>Panamá</td>\n",
       "      <td>Panama</td>\n",
       "      <td>Central America</td>\n",
       "      <td>8.806900</td>\n",
       "      <td>-79.515300</td>\n",
       "      <td>Dendrobates Auratus</td>\n",
       "      <td>158.16667</td>\n",
       "      <td>214.81667</td>\n",
       "      <td>31.203335</td>\n",
       "      <td>24.071667</td>\n",
       "    </tr>\n",
       "    <tr>\n",
       "      <th>193787</th>\n",
       "      <td>1319899134</td>\n",
       "      <td>1937-04-01 00:00:00</td>\n",
       "      <td>Panamá</td>\n",
       "      <td>Panama</td>\n",
       "      <td>Central America</td>\n",
       "      <td>8.806900</td>\n",
       "      <td>-79.515300</td>\n",
       "      <td>Dendrobates Auratus</td>\n",
       "      <td>158.16667</td>\n",
       "      <td>214.81667</td>\n",
       "      <td>31.203335</td>\n",
       "      <td>24.071667</td>\n",
       "    </tr>\n",
       "    <tr>\n",
       "      <th>193788</th>\n",
       "      <td>1318901755</td>\n",
       "      <td>1937-04-05 00:00:00</td>\n",
       "      <td>Panamá</td>\n",
       "      <td>Panama</td>\n",
       "      <td>Central America</td>\n",
       "      <td>8.791700</td>\n",
       "      <td>-79.561100</td>\n",
       "      <td>Dendrobates Auratus</td>\n",
       "      <td>158.16667</td>\n",
       "      <td>214.81667</td>\n",
       "      <td>31.203335</td>\n",
       "      <td>24.071667</td>\n",
       "    </tr>\n",
       "    <tr>\n",
       "      <th>193789</th>\n",
       "      <td>1322299951</td>\n",
       "      <td>2002-07-09 00:00:00</td>\n",
       "      <td>Gracias a Dios</td>\n",
       "      <td>Honduras</td>\n",
       "      <td>Central America</td>\n",
       "      <td>15.091100</td>\n",
       "      <td>-83.557800</td>\n",
       "      <td>Agalychnis Callidryas</td>\n",
       "      <td>190.06667</td>\n",
       "      <td>141.43333</td>\n",
       "      <td>29.326668</td>\n",
       "      <td>23.588335</td>\n",
       "    </tr>\n",
       "    <tr>\n",
       "      <th>193790</th>\n",
       "      <td>1320529451</td>\n",
       "      <td>2001-10-11 00:00:00</td>\n",
       "      <td>Gracias a Dios</td>\n",
       "      <td>Honduras</td>\n",
       "      <td>Central America</td>\n",
       "      <td>14.927500</td>\n",
       "      <td>-84.533900</td>\n",
       "      <td>Agalychnis Callidryas</td>\n",
       "      <td>206.53334</td>\n",
       "      <td>142.61667</td>\n",
       "      <td>30.230005</td>\n",
       "      <td>22.480005</td>\n",
       "    </tr>\n",
       "  </tbody>\n",
       "</table>\n",
       "<p>193790 rows × 12 columns</p>\n",
       "</div>"
      ],
      "text/plain": [
       "            gbifID           eventDate    stateProvince     country  \\\n",
       "0       2574007008 2020-01-23 01:38:00  New South Wales   Australia   \n",
       "1       3457021422 2010-03-14 22:23:00       Puntarenas  Costa Rica   \n",
       "2       1571195309 2014-04-11 19:51:57          Heredia  Costa Rica   \n",
       "3       2265778539 2018-07-21 21:24:21       Puntarenas  Costa Rica   \n",
       "4       3407962690 2021-10-29 13:57:00       Queensland   Australia   \n",
       "...            ...                 ...              ...         ...   \n",
       "193786  1322002619                 NaT           Panamá      Panama   \n",
       "193787  1319899134 1937-04-01 00:00:00           Panamá      Panama   \n",
       "193788  1318901755 1937-04-05 00:00:00           Panamá      Panama   \n",
       "193789  1322299951 2002-07-09 00:00:00   Gracias a Dios    Honduras   \n",
       "193790  1320529451 2001-10-11 00:00:00   Gracias a Dios    Honduras   \n",
       "\n",
       "              continent  decimalLatitude  decimalLongitude  \\\n",
       "0             Australia       -32.719457        152.159267   \n",
       "1       Central America         8.496999        -83.318613   \n",
       "2       Central America        10.450801        -84.068659   \n",
       "3       Central America         9.756705        -84.613363   \n",
       "4             Australia       -26.714302        152.815096   \n",
       "...                 ...              ...               ...   \n",
       "193786  Central America         8.806900        -79.515300   \n",
       "193787  Central America         8.806900        -79.515300   \n",
       "193788  Central America         8.791700        -79.561100   \n",
       "193789  Central America        15.091100        -83.557800   \n",
       "193790  Central America        14.927500        -84.533900   \n",
       "\n",
       "                      species   ppt_mean  soil_mean  tmax_mean  tmin_mean  \n",
       "0              Litoria Fallax   96.00000  118.71667  23.830004  13.908336  \n",
       "1       Agalychnis Callidryas  231.51666  131.88333  31.841667  21.111668  \n",
       "2       Agalychnis Callidryas  279.20000   51.70000  31.341671  22.455004  \n",
       "3       Agalychnis Callidryas  192.10000  171.81667  31.043331  20.061670  \n",
       "4              Litoria Fallax   84.80000  111.61667  25.933338  13.801668  \n",
       "...                       ...        ...        ...        ...        ...  \n",
       "193786    Dendrobates Auratus  158.16667  214.81667  31.203335  24.071667  \n",
       "193787    Dendrobates Auratus  158.16667  214.81667  31.203335  24.071667  \n",
       "193788    Dendrobates Auratus  158.16667  214.81667  31.203335  24.071667  \n",
       "193789  Agalychnis Callidryas  190.06667  141.43333  29.326668  23.588335  \n",
       "193790  Agalychnis Callidryas  206.53334  142.61667  30.230005  22.480005  \n",
       "\n",
       "[193790 rows x 12 columns]"
      ]
     },
     "execution_count": 16,
     "metadata": {},
     "output_type": "execute_result"
    }
   ],
   "source": [
    "#dropping unnamed and key, and occurrence status columns\n",
    "Frogdata=Frogdata.drop(['Unnamed: 0','key', 'occurrenceStatus' ], axis=1)\n",
    "Frogdata"
   ]
  },
  {
   "cell_type": "code",
   "execution_count": 17,
   "id": "72c2347c",
   "metadata": {},
   "outputs": [
    {
     "name": "stdout",
     "output_type": "stream",
     "text": [
      "<class 'pandas.core.frame.DataFrame'>\n",
      "Int64Index: 193790 entries, 0 to 193790\n",
      "Data columns (total 12 columns):\n",
      " #   Column            Non-Null Count   Dtype         \n",
      "---  ------            --------------   -----         \n",
      " 0   gbifID            193790 non-null  int64         \n",
      " 1   eventDate         185025 non-null  datetime64[ns]\n",
      " 2   stateProvince     193790 non-null  object        \n",
      " 3   country           193790 non-null  object        \n",
      " 4   continent         193790 non-null  object        \n",
      " 5   decimalLatitude   193790 non-null  float64       \n",
      " 6   decimalLongitude  193790 non-null  float64       \n",
      " 7   species           193790 non-null  object        \n",
      " 8   ppt_mean          193790 non-null  float64       \n",
      " 9   soil_mean         193790 non-null  float64       \n",
      " 10  tmax_mean         193790 non-null  float64       \n",
      " 11  tmin_mean         193790 non-null  float64       \n",
      "dtypes: datetime64[ns](1), float64(6), int64(1), object(4)\n",
      "memory usage: 19.2+ MB\n"
     ]
    }
   ],
   "source": [
    "#checking if columns have been dropped\n",
    "Frogdata.info()"
   ]
  },
  {
   "cell_type": "markdown",
   "id": "36e4edcc",
   "metadata": {},
   "source": [
    "# UNIVARIATE ANALYSIS"
   ]
  },
  {
   "cell_type": "markdown",
   "id": "089b6ee8",
   "metadata": {},
   "source": [
    "# Event Date"
   ]
  },
  {
   "cell_type": "code",
   "execution_count": 18,
   "id": "3436163a",
   "metadata": {},
   "outputs": [
    {
     "data": {
      "text/plain": [
       "2010-12-17 00:00:00    1712\n",
       "2010-11-01 00:00:00     894\n",
       "2010-12-18 00:00:00     800\n",
       "2010-12-01 00:00:00     756\n",
       "2010-11-05 00:00:00     669\n",
       "                       ... \n",
       "2021-04-09 20:36:52       1\n",
       "2017-01-13 11:25:00       1\n",
       "2020-01-17 10:46:30       1\n",
       "2018-02-11 03:31:00       1\n",
       "1924-03-28 00:00:00       1\n",
       "Name: eventDate, Length: 18147, dtype: int64"
      ]
     },
     "execution_count": 18,
     "metadata": {},
     "output_type": "execute_result"
    }
   ],
   "source": [
    "Frogdata[\"eventDate\"].value_counts()"
   ]
  },
  {
   "cell_type": "markdown",
   "id": "174dbd30",
   "metadata": {},
   "source": [
    "# country"
   ]
  },
  {
   "cell_type": "code",
   "execution_count": 19,
   "id": "04b3e39c",
   "metadata": {},
   "outputs": [
    {
     "data": {
      "text/plain": [
       "Australia             188020\n",
       "Central America         3930\n",
       "Africa                  1737\n",
       "unknown or invalid       103\n",
       "Name: continent, dtype: int64"
      ]
     },
     "execution_count": 19,
     "metadata": {},
     "output_type": "execute_result"
    }
   ],
   "source": [
    "Frogdata[\"continent\"].value_counts()"
   ]
  },
  {
   "cell_type": "markdown",
   "id": "221ec095",
   "metadata": {},
   "source": [
    "since the country contains some invalid or unknown countries, we will replace the columns with the right countries"
   ]
  },
  {
   "cell_type": "code",
   "execution_count": 20,
   "id": "b95701ac",
   "metadata": {},
   "outputs": [],
   "source": [
    "#replacing unknown countries with Namibia\n",
    "Frogdata=Frogdata.replace({'country':{'unknown or invalid':'Namibia'}})"
   ]
  },
  {
   "cell_type": "code",
   "execution_count": 21,
   "id": "85e9fa15",
   "metadata": {},
   "outputs": [
    {
     "data": {
      "text/plain": [
       "Australia       188020\n",
       "Costa Rica        2257\n",
       "South Africa      1348\n",
       "Panama             755\n",
       "Mexico             455\n",
       "Honduras           144\n",
       "Colombia           135\n",
       "Nicaragua          133\n",
       "Zimbabwe           110\n",
       "Mozambique         107\n",
       "Namibia            103\n",
       "Eswatini            62\n",
       "Botswana            41\n",
       "Zambia              32\n",
       "Guatemala           30\n",
       "Belize              21\n",
       "Malawi              18\n",
       "Lesotho             17\n",
       "Angola               2\n",
       "Name: country, dtype: int64"
      ]
     },
     "execution_count": 21,
     "metadata": {},
     "output_type": "execute_result"
    }
   ],
   "source": [
    "#checking if they have been replaced\n",
    "Frogdata[\"country\"].value_counts()"
   ]
  },
  {
   "cell_type": "markdown",
   "id": "a6b4ceb0",
   "metadata": {},
   "source": [
    "Australia was the highest country recorded."
   ]
  },
  {
   "cell_type": "markdown",
   "id": "c6fdde8c",
   "metadata": {},
   "source": [
    "# Continent"
   ]
  },
  {
   "cell_type": "code",
   "execution_count": 22,
   "id": "a9380778",
   "metadata": {},
   "outputs": [
    {
     "data": {
      "text/plain": [
       "Australia             188020\n",
       "Central America         3930\n",
       "Africa                  1737\n",
       "unknown or invalid       103\n",
       "Name: continent, dtype: int64"
      ]
     },
     "execution_count": 22,
     "metadata": {},
     "output_type": "execute_result"
    }
   ],
   "source": [
    "Frogdata[\"continent\"].value_counts()"
   ]
  },
  {
   "cell_type": "markdown",
   "id": "32882592",
   "metadata": {},
   "source": [
    "We will also repalce the unknown continents with the right continent"
   ]
  },
  {
   "cell_type": "code",
   "execution_count": 23,
   "id": "e35bb834",
   "metadata": {},
   "outputs": [],
   "source": [
    "#replacing the unknown continents with Africa\n",
    "Frogdata=Frogdata.replace({'continent':{'unknown or invalid':'Africa'}})"
   ]
  },
  {
   "cell_type": "code",
   "execution_count": 24,
   "id": "ba9c1dfe",
   "metadata": {},
   "outputs": [
    {
     "data": {
      "text/plain": [
       "Australia          188020\n",
       "Central America      3930\n",
       "Africa               1840\n",
       "Name: continent, dtype: int64"
      ]
     },
     "execution_count": 24,
     "metadata": {},
     "output_type": "execute_result"
    }
   ],
   "source": [
    "#checking if replacement has been done\n",
    "Frogdata[\"continent\"].value_counts()"
   ]
  },
  {
   "cell_type": "markdown",
   "id": "5c1c09ce",
   "metadata": {},
   "source": [
    "Replacement has been done and we can see Australia had the highest records"
   ]
  },
  {
   "cell_type": "markdown",
   "id": "e0f67c24",
   "metadata": {},
   "source": [
    "# State Province"
   ]
  },
  {
   "cell_type": "code",
   "execution_count": 25,
   "id": "b03a110b",
   "metadata": {},
   "outputs": [
    {
     "data": {
      "text/plain": [
       "New South Wales      99480\n",
       "Victoria             37093\n",
       "South Australia      16786\n",
       "Queensland           13397\n",
       "Western Australia    10242\n",
       "                     ...  \n",
       "México                   1\n",
       "Thaba- Tseka             1\n",
       "Zambezi                  1\n",
       "Thaba-Tseka              1\n",
       "Qacha's Nek              1\n",
       "Name: stateProvince, Length: 145, dtype: int64"
      ]
     },
     "execution_count": 25,
     "metadata": {},
     "output_type": "execute_result"
    }
   ],
   "source": [
    "Frogdata[\"stateProvince\"].value_counts()"
   ]
  },
  {
   "cell_type": "markdown",
   "id": "9b612fe2",
   "metadata": {},
   "source": [
    "\n",
    "NSW was the highest state province recorded"
   ]
  },
  {
   "cell_type": "markdown",
   "id": "961c122d",
   "metadata": {},
   "source": [
    "# Decimal Latitude"
   ]
  },
  {
   "cell_type": "code",
   "execution_count": 26,
   "id": "b4e388d1",
   "metadata": {},
   "outputs": [
    {
     "data": {
      "text/plain": [
       "count    193790.000000\n",
       "mean        -32.582185\n",
       "std           7.800672\n",
       "min         -43.766700\n",
       "25%         -36.000000\n",
       "50%         -33.835933\n",
       "75%         -32.289656\n",
       "max          21.349444\n",
       "Name: decimalLatitude, dtype: float64"
      ]
     },
     "execution_count": 26,
     "metadata": {},
     "output_type": "execute_result"
    }
   ],
   "source": [
    "Frogdata.decimalLatitude.describe()"
   ]
  },
  {
   "cell_type": "code",
   "execution_count": 27,
   "id": "aa27bf7e",
   "metadata": {},
   "outputs": [
    {
     "data": {
      "image/png": "[encoded data removed]",
      "text/plain": [
       "<Figure size 432x288 with 1 Axes>"
      ]
     },
     "metadata": {
      "needs_background": "light"
     },
     "output_type": "display_data"
    }
   ],
   "source": [
    "plt.hist(Frogdata[\"decimalLatitude\"], bins = 5)\n",
    "plt.show()"
   ]
  },
  {
   "cell_type": "code",
   "execution_count": 28,
   "id": "e32a7d65",
   "metadata": {},
   "outputs": [
    {
     "data": {
      "image/png": "[encoded data removed]",
      "text/plain": [
       "<Figure size 432x288 with 1 Axes>"
      ]
     },
     "metadata": {
      "needs_background": "light"
     },
     "output_type": "display_data"
    }
   ],
   "source": [
    "#boxplot to better explain the histogram\n",
    "plt.boxplot(Frogdata['decimalLatitude'])\n",
    "plt.show()"
   ]
  },
  {
   "cell_type": "markdown",
   "id": "53f330fb",
   "metadata": {},
   "source": [
    "\n",
    "\n",
    "# decimal longitude"
   ]
  },
  {
   "cell_type": "code",
   "execution_count": 29,
   "id": "8f708946",
   "metadata": {},
   "outputs": [
    {
     "data": {
      "text/plain": [
       "count    193790.000000\n",
       "mean        140.656300\n",
       "std          35.357720\n",
       "min         -99.221738\n",
       "25%         144.589642\n",
       "50%         149.974293\n",
       "75%         151.194750\n",
       "max         153.636442\n",
       "Name: decimalLongitude, dtype: float64"
      ]
     },
     "execution_count": 29,
     "metadata": {},
     "output_type": "execute_result"
    }
   ],
   "source": [
    "Frogdata.decimalLongitude.describe()"
   ]
  },
  {
   "cell_type": "code",
   "execution_count": 30,
   "id": "501c9fca",
   "metadata": {},
   "outputs": [
    {
     "data": {
      "image/png": "[encoded data removed]",
      "text/plain": [
       "<Figure size 432x288 with 1 Axes>"
      ]
     },
     "metadata": {
      "needs_background": "light"
     },
     "output_type": "display_data"
    }
   ],
   "source": [
    "plt.hist(Frogdata[\"decimalLongitude\"], bins = 5)\n",
    "plt.show()"
   ]
  },
  {
   "cell_type": "code",
   "execution_count": 31,
   "id": "9bbd6019",
   "metadata": {},
   "outputs": [
    {
     "data": {
      "image/png": "[encoded data removed]",
      "text/plain": [
       "<Figure size 432x288 with 1 Axes>"
      ]
     },
     "metadata": {
      "needs_background": "light"
     },
     "output_type": "display_data"
    }
   ],
   "source": [
    " plt.boxplot(Frogdata['decimalLongitude'])\n",
    "plt.show()"
   ]
  },
  {
   "cell_type": "markdown",
   "id": "09031ebb",
   "metadata": {},
   "source": [
    "# Species"
   ]
  },
  {
   "cell_type": "code",
   "execution_count": 32,
   "id": "70bff08b",
   "metadata": {},
   "outputs": [
    {
     "data": {
      "text/plain": [
       "Crinia Signifera             126657\n",
       "Litoria Fallax                47332\n",
       "Crinia Glauerti                9393\n",
       "Ranoidea Australis             4097\n",
       "Agalychnis Callidryas          2212\n",
       "Dendrobates Auratus            1717\n",
       "Xenopus Laevis                 1139\n",
       "Chiromantis Xerampelina         702\n",
       "Austrochaperina Pluvialis       541\n",
       "Name: species, dtype: int64"
      ]
     },
     "execution_count": 32,
     "metadata": {},
     "output_type": "execute_result"
    }
   ],
   "source": [
    "Frogdata[\"species\"].value_counts()"
   ]
  },
  {
   "cell_type": "markdown",
   "id": "cc3451e6",
   "metadata": {},
   "source": [
    "# ppt_mean"
   ]
  },
  {
   "cell_type": "code",
   "execution_count": 33,
   "id": "1a07b428",
   "metadata": {},
   "outputs": [
    {
     "data": {
      "text/plain": [
       "count    193790.000000\n",
       "mean         67.954459\n",
       "std          30.378853\n",
       "min           0.766667\n",
       "25%          51.116665\n",
       "50%          64.600000\n",
       "75%          72.133330\n",
       "max         368.750000\n",
       "Name: ppt_mean, dtype: float64"
      ]
     },
     "execution_count": 33,
     "metadata": {},
     "output_type": "execute_result"
    }
   ],
   "source": [
    "Frogdata.ppt_mean.describe()"
   ]
  },
  {
   "cell_type": "code",
   "execution_count": 34,
   "id": "9d498bce",
   "metadata": {
    "scrolled": false
   },
   "outputs": [
    {
     "data": {
      "image/png": "[encoded data removed]",
      "text/plain": [
       "<Figure size 432x288 with 1 Axes>"
      ]
     },
     "metadata": {
      "needs_background": "light"
     },
     "output_type": "display_data"
    }
   ],
   "source": [
    "plt.hist(Frogdata[\"ppt_mean\"], bins = 5)\n",
    "plt.show()"
   ]
  },
  {
   "cell_type": "code",
   "execution_count": 35,
   "id": "c7eca359",
   "metadata": {},
   "outputs": [
    {
     "data": {
      "image/png": "[encoded data removed]",
      "text/plain": [
       "<Figure size 432x288 with 1 Axes>"
      ]
     },
     "metadata": {
      "needs_background": "light"
     },
     "output_type": "display_data"
    }
   ],
   "source": [
    " plt.boxplot(Frogdata['ppt_mean'])\n",
    "plt.show()"
   ]
  },
  {
   "cell_type": "markdown",
   "id": "5ad13e4c",
   "metadata": {},
   "source": [
    "max of the precipitation mean is 368.8ml which is quite high. the precipitation of the data is high"
   ]
  },
  {
   "cell_type": "markdown",
   "id": "106d1205",
   "metadata": {},
   "source": [
    "# soil_mean"
   ]
  },
  {
   "cell_type": "code",
   "execution_count": 36,
   "id": "5ac7e9b7",
   "metadata": {},
   "outputs": [
    {
     "data": {
      "text/plain": [
       "count    193790.000000\n",
       "mean         53.598059\n",
       "std          46.716954\n",
       "min           0.000000\n",
       "25%          26.000000\n",
       "50%          46.250000\n",
       "75%          63.883335\n",
       "max         403.716670\n",
       "Name: soil_mean, dtype: float64"
      ]
     },
     "execution_count": 36,
     "metadata": {},
     "output_type": "execute_result"
    }
   ],
   "source": [
    "Frogdata.soil_mean.describe()"
   ]
  },
  {
   "cell_type": "code",
   "execution_count": 37,
   "id": "dd25172c",
   "metadata": {},
   "outputs": [
    {
     "data": {
      "image/png": "[encoded data removed]",
      "text/plain": [
       "<Figure size 432x288 with 1 Axes>"
      ]
     },
     "metadata": {
      "needs_background": "light"
     },
     "output_type": "display_data"
    }
   ],
   "source": [
    "plt.hist(Frogdata[\"soil_mean\"], bins = 5)\n",
    "plt.show()"
   ]
  },
  {
   "cell_type": "code",
   "execution_count": 38,
   "id": "e84b08fd",
   "metadata": {},
   "outputs": [
    {
     "data": {
      "image/png": "[encoded data removed]",
      "text/plain": [
       "<Figure size 432x288 with 1 Axes>"
      ]
     },
     "metadata": {
      "needs_background": "light"
     },
     "output_type": "display_data"
    }
   ],
   "source": [
    "plt.boxplot(Frogdata['soil_mean'])\n",
    "plt.show()"
   ]
  },
  {
   "cell_type": "markdown",
   "id": "55c494c2",
   "metadata": {},
   "source": [
    "# tmax_mean"
   ]
  },
  {
   "cell_type": "code",
   "execution_count": 39,
   "id": "900998b5",
   "metadata": {},
   "outputs": [
    {
     "data": {
      "text/plain": [
       "count    193790.000000\n",
       "mean         22.699185\n",
       "std           3.295337\n",
       "min          10.465001\n",
       "25%          20.701666\n",
       "50%          22.295000\n",
       "75%          24.438335\n",
       "max          37.401672\n",
       "Name: tmax_mean, dtype: float64"
      ]
     },
     "execution_count": 39,
     "metadata": {},
     "output_type": "execute_result"
    }
   ],
   "source": [
    "Frogdata.tmax_mean.describe()"
   ]
  },
  {
   "cell_type": "code",
   "execution_count": 40,
   "id": "5de4402d",
   "metadata": {},
   "outputs": [
    {
     "data": {
      "image/png": "[encoded data removed]",
      "text/plain": [
       "<Figure size 432x288 with 1 Axes>"
      ]
     },
     "metadata": {
      "needs_background": "light"
     },
     "output_type": "display_data"
    }
   ],
   "source": [
    "plt.hist(Frogdata[\"tmax_mean\"], bins = 5)\n",
    "plt.show()"
   ]
  },
  {
   "cell_type": "code",
   "execution_count": 41,
   "id": "add8f80a",
   "metadata": {},
   "outputs": [
    {
     "data": {
      "image/png": "[encoded data removed]",
      "text/plain": [
       "<Figure size 432x288 with 1 Axes>"
      ]
     },
     "metadata": {
      "needs_background": "light"
     },
     "output_type": "display_data"
    }
   ],
   "source": [
    "plt.boxplot(Frogdata['tmax_mean'])\n",
    "plt.show()"
   ]
  },
  {
   "cell_type": "markdown",
   "id": "3bcf7bd4",
   "metadata": {},
   "source": [
    "# tmin_mean"
   ]
  },
  {
   "cell_type": "code",
   "execution_count": 42,
   "id": "74cda91d",
   "metadata": {},
   "outputs": [
    {
     "data": {
      "text/plain": [
       "count    193790.000000\n",
       "mean         11.167678\n",
       "std           3.292430\n",
       "min           0.758334\n",
       "25%           9.066668\n",
       "50%          10.867501\n",
       "75%          12.738334\n",
       "max          25.253334\n",
       "Name: tmin_mean, dtype: float64"
      ]
     },
     "execution_count": 42,
     "metadata": {},
     "output_type": "execute_result"
    }
   ],
   "source": [
    "Frogdata.tmin_mean.describe()"
   ]
  },
  {
   "cell_type": "code",
   "execution_count": 43,
   "id": "bffdf3a6",
   "metadata": {},
   "outputs": [
    {
     "data": {
      "image/png": "[encoded data removed]",
      "text/plain": [
       "<Figure size 432x288 with 1 Axes>"
      ]
     },
     "metadata": {
      "needs_background": "light"
     },
     "output_type": "display_data"
    }
   ],
   "source": [
    "plt.hist(Frogdata[\"tmin_mean\"], bins = 5)\n",
    "plt.show()"
   ]
  },
  {
   "cell_type": "code",
   "execution_count": 44,
   "id": "66040d61",
   "metadata": {},
   "outputs": [
    {
     "data": {
      "image/png": "[encoded data removed]",
      "text/plain": [
       "<Figure size 432x288 with 1 Axes>"
      ]
     },
     "metadata": {
      "needs_background": "light"
     },
     "output_type": "display_data"
    }
   ],
   "source": [
    "plt.boxplot(Frogdata['tmin_mean'])\n",
    "plt.show()"
   ]
  },
  {
   "cell_type": "markdown",
   "id": "d1fe8e95",
   "metadata": {},
   "source": [
    "# MULTIVARIATE"
   ]
  },
  {
   "cell_type": "markdown",
   "id": "a1c83d31",
   "metadata": {},
   "source": [
    "# checking the continent with their various species recorded"
   ]
  },
  {
   "cell_type": "code",
   "execution_count": 45,
   "id": "de0aeaab",
   "metadata": {},
   "outputs": [],
   "source": [
    "Australia_data = Frogdata[Frogdata['continent'] == 'Australia']\n",
    "Africa_data = Frogdata[Frogdata['continent'] == 'Africa']\n",
    "CentralAmerica_data = Frogdata[Frogdata['continent'] == 'Central America']\n"
   ]
  },
  {
   "cell_type": "code",
   "execution_count": 46,
   "id": "25f501e2",
   "metadata": {},
   "outputs": [
    {
     "data": {
      "text/plain": [
       "Text(0.5, 1.0, 'Australia')"
      ]
     },
     "execution_count": 46,
     "metadata": {},
     "output_type": "execute_result"
    },
    {
     "data": {
      "image/png": "[encoded data removed]",
      "text/plain": [
       "<Figure size 576x576 with 1 Axes>"
      ]
     },
     "metadata": {},
     "output_type": "display_data"
    }
   ],
   "source": [
    "#checking Australia\n",
    "Australia_data.groupby('species')['continent'].count().plot(kind = 'pie', autopct = '%1.2f%%', figsize = (8,8), fontsize = 10)\n",
    "plt.title('Australia')"
   ]
  },
  {
   "cell_type": "markdown",
   "id": "2fb6c938",
   "metadata": {},
   "source": [
    "In Australia, the Crinia Signifera was the highest Species recorded and the Austrochaperina Pluvialis was the least species recorded"
   ]
  },
  {
   "cell_type": "code",
   "execution_count": 47,
   "id": "6d181c18",
   "metadata": {},
   "outputs": [
    {
     "data": {
      "text/plain": [
       "Text(0.5, 1.0, 'Africa')"
      ]
     },
     "execution_count": 47,
     "metadata": {},
     "output_type": "execute_result"
    },
    {
     "data": {
      "image/png": "[encoded data removed]",
      "text/plain": [
       "<Figure size 576x576 with 1 Axes>"
      ]
     },
     "metadata": {},
     "output_type": "display_data"
    }
   ],
   "source": [
    "#checking Africa\n",
    "Africa_data.groupby('species')['continent'].count().plot(kind = 'pie', autopct = '%1.2f%%', figsize = (8,8), fontsize = 10)\n",
    "plt.title('Africa')"
   ]
  },
  {
   "cell_type": "markdown",
   "id": "b0dd609b",
   "metadata": {},
   "source": [
    "In Africa, the Chiromantis Xerampelina was the highest species recoreded and the xenopus laevis was the least recorded. Only two species were recorded in Africa"
   ]
  },
  {
   "cell_type": "code",
   "execution_count": 48,
   "id": "51ecaf9c",
   "metadata": {},
   "outputs": [
    {
     "data": {
      "text/plain": [
       "Text(0.5, 1.0, 'Central America')"
      ]
     },
     "execution_count": 48,
     "metadata": {},
     "output_type": "execute_result"
    },
    {
     "data": {
      "image/png": "[encoded data removed]",
      "text/plain": [
       "<Figure size 576x576 with 1 Axes>"
      ]
     },
     "metadata": {},
     "output_type": "display_data"
    }
   ],
   "source": [
    "#checking for Central America\n",
    "CentralAmerica_data.groupby('species')['continent'].count().plot(kind = 'pie', autopct = '%1.2f%%', figsize = (8,8), fontsize = 10)\n",
    "plt.title('Central America')"
   ]
  },
  {
   "cell_type": "markdown",
   "id": "4c1fd7ca",
   "metadata": {},
   "source": [
    "In Central America, the Agalychnis Callidryas was the highest species recorded and the Xenopus Laevis was the least recorded"
   ]
  },
  {
   "cell_type": "code",
   "execution_count": 49,
   "id": "9c107e83",
   "metadata": {},
   "outputs": [
    {
     "data": {
      "text/html": [
       "<div>\n",
       "<style scoped>\n",
       "    .dataframe tbody tr th:only-of-type {\n",
       "        vertical-align: middle;\n",
       "    }\n",
       "\n",
       "    .dataframe tbody tr th {\n",
       "        vertical-align: top;\n",
       "    }\n",
       "\n",
       "    .dataframe thead th {\n",
       "        text-align: right;\n",
       "    }\n",
       "</style>\n",
       "<table border=\"1\" class=\"dataframe\">\n",
       "  <thead>\n",
       "    <tr style=\"text-align: right;\">\n",
       "      <th></th>\n",
       "      <th></th>\n",
       "      <th>tmin_mean</th>\n",
       "    </tr>\n",
       "    <tr>\n",
       "      <th>continent</th>\n",
       "      <th>species</th>\n",
       "      <th></th>\n",
       "    </tr>\n",
       "  </thead>\n",
       "  <tbody>\n",
       "    <tr>\n",
       "      <th rowspan=\"2\" valign=\"top\">Africa</th>\n",
       "      <th>Chiromantis Xerampelina</th>\n",
       "      <td>20.705004</td>\n",
       "    </tr>\n",
       "    <tr>\n",
       "      <th>Xenopus Laevis</th>\n",
       "      <td>19.120000</td>\n",
       "    </tr>\n",
       "    <tr>\n",
       "      <th rowspan=\"5\" valign=\"top\">Australia</th>\n",
       "      <th>Austrochaperina Pluvialis</th>\n",
       "      <td>20.905000</td>\n",
       "    </tr>\n",
       "    <tr>\n",
       "      <th>Crinia Glauerti</th>\n",
       "      <td>18.586668</td>\n",
       "    </tr>\n",
       "    <tr>\n",
       "      <th>Crinia Signifera</th>\n",
       "      <td>21.785002</td>\n",
       "    </tr>\n",
       "    <tr>\n",
       "      <th>Litoria Fallax</th>\n",
       "      <td>21.785002</td>\n",
       "    </tr>\n",
       "    <tr>\n",
       "      <th>Ranoidea Australis</th>\n",
       "      <td>25.253334</td>\n",
       "    </tr>\n",
       "    <tr>\n",
       "      <th rowspan=\"3\" valign=\"top\">Central America</th>\n",
       "      <th>Agalychnis Callidryas</th>\n",
       "      <td>24.465000</td>\n",
       "    </tr>\n",
       "    <tr>\n",
       "      <th>Dendrobates Auratus</th>\n",
       "      <td>24.465000</td>\n",
       "    </tr>\n",
       "    <tr>\n",
       "      <th>Xenopus Laevis</th>\n",
       "      <td>6.651668</td>\n",
       "    </tr>\n",
       "  </tbody>\n",
       "</table>\n",
       "</div>"
      ],
      "text/plain": [
       "                                           tmin_mean\n",
       "continent       species                             \n",
       "Africa          Chiromantis Xerampelina    20.705004\n",
       "                Xenopus Laevis             19.120000\n",
       "Australia       Austrochaperina Pluvialis  20.905000\n",
       "                Crinia Glauerti            18.586668\n",
       "                Crinia Signifera           21.785002\n",
       "                Litoria Fallax             21.785002\n",
       "                Ranoidea Australis         25.253334\n",
       "Central America Agalychnis Callidryas      24.465000\n",
       "                Dendrobates Auratus        24.465000\n",
       "                Xenopus Laevis              6.651668"
      ]
     },
     "execution_count": 49,
     "metadata": {},
     "output_type": "execute_result"
    }
   ],
   "source": [
    "#checking the continent with the min. temperature\n",
    "Frogdata.groupby(['continent', 'species'])['tmin_mean',].max()"
   ]
  },
  {
   "cell_type": "markdown",
   "id": "a089f142",
   "metadata": {},
   "source": [
    "Africa was the continent with the minimum temperature experienced"
   ]
  },
  {
   "cell_type": "markdown",
   "id": "4c6c9d43",
   "metadata": {},
   "source": [
    "# Checking the Correlation between some columns"
   ]
  },
  {
   "cell_type": "code",
   "execution_count": 74,
   "id": "6b1697c0",
   "metadata": {},
   "outputs": [
    {
     "data": {
      "image/png": "[encoded data removed]",
      "text/plain": [
       "<Figure size 504x360 with 1 Axes>"
      ]
     },
     "metadata": {
      "needs_background": "light"
     },
     "output_type": "display_data"
    }
   ],
   "source": [
    "#correlation between the Tmax_mean and the ppt_mean\n",
    "plt.scatter(Frogdata['tmax_mean'],Frogdata['ppt_mean'])\n",
    "plt.show()"
   ]
  },
  {
   "cell_type": "code",
   "execution_count": 76,
   "id": "35a600a8",
   "metadata": {},
   "outputs": [
    {
     "data": {
      "image/png": "[encoded data removed]",
      "text/plain": [
       "<Figure size 504x504 with 1 Axes>"
      ]
     },
     "metadata": {
      "needs_background": "light"
     },
     "output_type": "display_data"
    }
   ],
   "source": [
    "#correlation between the Tmax_mean and the tmin_mean\n",
    "plt.scatter(Frogdata['tmin_mean'],Frogdata ['tmax_mean'])\n",
    "plt.show()"
   ]
  },
  {
   "cell_type": "code",
   "execution_count": null,
   "id": "d649e229",
   "metadata": {},
   "outputs": [],
   "source": []
  },
  {
   "cell_type": "code",
   "execution_count": 77,
   "id": "e58557d2",
   "metadata": {},
   "outputs": [
    {
     "data": {
      "image/png": "[encoded data removed]",
      "text/plain": [
       "<Figure size 504x504 with 1 Axes>"
      ]
     },
     "metadata": {
      "needs_background": "light"
     },
     "output_type": "display_data"
    }
   ],
   "source": [
    "plt.scatter(Frogdata['ppt_mean'],Frogdata['soil_mean'])\n",
    "plt.show()"
   ]
  },
  {
   "cell_type": "markdown",
   "id": "05c07223",
   "metadata": {},
   "source": [
    "# MACHINE LEARNING"
   ]
  },
  {
   "cell_type": "markdown",
   "id": "1c16b94f",
   "metadata": {},
   "source": [
    "# For this machine learning we will be predicting the species of frogs with the information given."
   ]
  },
  {
   "cell_type": "markdown",
   "id": "64a45963",
   "metadata": {},
   "source": [
    "We will begin by dropping the columns with null values"
   ]
  },
  {
   "cell_type": "code",
   "execution_count": 53,
   "id": "1b13456f",
   "metadata": {},
   "outputs": [
    {
     "data": {
      "text/html": [
       "<div>\n",
       "<style scoped>\n",
       "    .dataframe tbody tr th:only-of-type {\n",
       "        vertical-align: middle;\n",
       "    }\n",
       "\n",
       "    .dataframe tbody tr th {\n",
       "        vertical-align: top;\n",
       "    }\n",
       "\n",
       "    .dataframe thead th {\n",
       "        text-align: right;\n",
       "    }\n",
       "</style>\n",
       "<table border=\"1\" class=\"dataframe\">\n",
       "  <thead>\n",
       "    <tr style=\"text-align: right;\">\n",
       "      <th></th>\n",
       "      <th>gbifID</th>\n",
       "      <th>eventDate</th>\n",
       "      <th>stateProvince</th>\n",
       "      <th>country</th>\n",
       "      <th>continent</th>\n",
       "      <th>decimalLatitude</th>\n",
       "      <th>decimalLongitude</th>\n",
       "      <th>species</th>\n",
       "      <th>ppt_mean</th>\n",
       "      <th>soil_mean</th>\n",
       "      <th>tmax_mean</th>\n",
       "      <th>tmin_mean</th>\n",
       "    </tr>\n",
       "  </thead>\n",
       "  <tbody>\n",
       "    <tr>\n",
       "      <th>0</th>\n",
       "      <td>2574007008</td>\n",
       "      <td>2020-01-23 01:38:00</td>\n",
       "      <td>New South Wales</td>\n",
       "      <td>Australia</td>\n",
       "      <td>Australia</td>\n",
       "      <td>-32.719457</td>\n",
       "      <td>152.159267</td>\n",
       "      <td>Litoria Fallax</td>\n",
       "      <td>96.00000</td>\n",
       "      <td>118.71667</td>\n",
       "      <td>23.830004</td>\n",
       "      <td>13.908336</td>\n",
       "    </tr>\n",
       "    <tr>\n",
       "      <th>1</th>\n",
       "      <td>3457021422</td>\n",
       "      <td>2010-03-14 22:23:00</td>\n",
       "      <td>Puntarenas</td>\n",
       "      <td>Costa Rica</td>\n",
       "      <td>Central America</td>\n",
       "      <td>8.496999</td>\n",
       "      <td>-83.318613</td>\n",
       "      <td>Agalychnis Callidryas</td>\n",
       "      <td>231.51666</td>\n",
       "      <td>131.88333</td>\n",
       "      <td>31.841667</td>\n",
       "      <td>21.111668</td>\n",
       "    </tr>\n",
       "    <tr>\n",
       "      <th>2</th>\n",
       "      <td>1571195309</td>\n",
       "      <td>2014-04-11 19:51:57</td>\n",
       "      <td>Heredia</td>\n",
       "      <td>Costa Rica</td>\n",
       "      <td>Central America</td>\n",
       "      <td>10.450801</td>\n",
       "      <td>-84.068659</td>\n",
       "      <td>Agalychnis Callidryas</td>\n",
       "      <td>279.20000</td>\n",
       "      <td>51.70000</td>\n",
       "      <td>31.341671</td>\n",
       "      <td>22.455004</td>\n",
       "    </tr>\n",
       "    <tr>\n",
       "      <th>3</th>\n",
       "      <td>2265778539</td>\n",
       "      <td>2018-07-21 21:24:21</td>\n",
       "      <td>Puntarenas</td>\n",
       "      <td>Costa Rica</td>\n",
       "      <td>Central America</td>\n",
       "      <td>9.756705</td>\n",
       "      <td>-84.613363</td>\n",
       "      <td>Agalychnis Callidryas</td>\n",
       "      <td>192.10000</td>\n",
       "      <td>171.81667</td>\n",
       "      <td>31.043331</td>\n",
       "      <td>20.061670</td>\n",
       "    </tr>\n",
       "    <tr>\n",
       "      <th>4</th>\n",
       "      <td>3407962690</td>\n",
       "      <td>2021-10-29 13:57:00</td>\n",
       "      <td>Queensland</td>\n",
       "      <td>Australia</td>\n",
       "      <td>Australia</td>\n",
       "      <td>-26.714302</td>\n",
       "      <td>152.815096</td>\n",
       "      <td>Litoria Fallax</td>\n",
       "      <td>84.80000</td>\n",
       "      <td>111.61667</td>\n",
       "      <td>25.933338</td>\n",
       "      <td>13.801668</td>\n",
       "    </tr>\n",
       "  </tbody>\n",
       "</table>\n",
       "</div>"
      ],
      "text/plain": [
       "       gbifID           eventDate    stateProvince     country  \\\n",
       "0  2574007008 2020-01-23 01:38:00  New South Wales   Australia   \n",
       "1  3457021422 2010-03-14 22:23:00       Puntarenas  Costa Rica   \n",
       "2  1571195309 2014-04-11 19:51:57          Heredia  Costa Rica   \n",
       "3  2265778539 2018-07-21 21:24:21       Puntarenas  Costa Rica   \n",
       "4  3407962690 2021-10-29 13:57:00       Queensland   Australia   \n",
       "\n",
       "         continent  decimalLatitude  decimalLongitude                species  \\\n",
       "0        Australia       -32.719457        152.159267         Litoria Fallax   \n",
       "1  Central America         8.496999        -83.318613  Agalychnis Callidryas   \n",
       "2  Central America        10.450801        -84.068659  Agalychnis Callidryas   \n",
       "3  Central America         9.756705        -84.613363  Agalychnis Callidryas   \n",
       "4        Australia       -26.714302        152.815096         Litoria Fallax   \n",
       "\n",
       "    ppt_mean  soil_mean  tmax_mean  tmin_mean  \n",
       "0   96.00000  118.71667  23.830004  13.908336  \n",
       "1  231.51666  131.88333  31.841667  21.111668  \n",
       "2  279.20000   51.70000  31.341671  22.455004  \n",
       "3  192.10000  171.81667  31.043331  20.061670  \n",
       "4   84.80000  111.61667  25.933338  13.801668  "
      ]
     },
     "execution_count": 53,
     "metadata": {},
     "output_type": "execute_result"
    }
   ],
   "source": [
    "Frogdata.head()"
   ]
  },
  {
   "cell_type": "code",
   "execution_count": 54,
   "id": "47302b00",
   "metadata": {},
   "outputs": [
    {
     "data": {
      "text/plain": [
       "gbifID                 0\n",
       "eventDate           8765\n",
       "stateProvince          0\n",
       "country                0\n",
       "continent              0\n",
       "decimalLatitude        0\n",
       "decimalLongitude       0\n",
       "species                0\n",
       "ppt_mean               0\n",
       "soil_mean              0\n",
       "tmax_mean              0\n",
       "tmin_mean              0\n",
       "dtype: int64"
      ]
     },
     "execution_count": 54,
     "metadata": {},
     "output_type": "execute_result"
    }
   ],
   "source": [
    "#checking for null values\n",
    "Frogdata.isnull().sum()"
   ]
  },
  {
   "cell_type": "markdown",
   "id": "267d191e",
   "metadata": {},
   "source": [
    "We will now encode the Continent column which are categorical values into numerical values for our machine learning\n"
   ]
  },
  {
   "cell_type": "code",
   "execution_count": 55,
   "id": "6cdc8ab6",
   "metadata": {},
   "outputs": [
    {
     "data": {
      "text/html": [
       "<div>\n",
       "<style scoped>\n",
       "    .dataframe tbody tr th:only-of-type {\n",
       "        vertical-align: middle;\n",
       "    }\n",
       "\n",
       "    .dataframe tbody tr th {\n",
       "        vertical-align: top;\n",
       "    }\n",
       "\n",
       "    .dataframe thead th {\n",
       "        text-align: right;\n",
       "    }\n",
       "</style>\n",
       "<table border=\"1\" class=\"dataframe\">\n",
       "  <thead>\n",
       "    <tr style=\"text-align: right;\">\n",
       "      <th></th>\n",
       "      <th>Australia</th>\n",
       "      <th>Central America</th>\n",
       "    </tr>\n",
       "  </thead>\n",
       "  <tbody>\n",
       "    <tr>\n",
       "      <th>0</th>\n",
       "      <td>1</td>\n",
       "      <td>0</td>\n",
       "    </tr>\n",
       "    <tr>\n",
       "      <th>1</th>\n",
       "      <td>0</td>\n",
       "      <td>1</td>\n",
       "    </tr>\n",
       "    <tr>\n",
       "      <th>2</th>\n",
       "      <td>0</td>\n",
       "      <td>1</td>\n",
       "    </tr>\n",
       "    <tr>\n",
       "      <th>3</th>\n",
       "      <td>0</td>\n",
       "      <td>1</td>\n",
       "    </tr>\n",
       "    <tr>\n",
       "      <th>4</th>\n",
       "      <td>1</td>\n",
       "      <td>0</td>\n",
       "    </tr>\n",
       "    <tr>\n",
       "      <th>...</th>\n",
       "      <td>...</td>\n",
       "      <td>...</td>\n",
       "    </tr>\n",
       "    <tr>\n",
       "      <th>193786</th>\n",
       "      <td>0</td>\n",
       "      <td>1</td>\n",
       "    </tr>\n",
       "    <tr>\n",
       "      <th>193787</th>\n",
       "      <td>0</td>\n",
       "      <td>1</td>\n",
       "    </tr>\n",
       "    <tr>\n",
       "      <th>193788</th>\n",
       "      <td>0</td>\n",
       "      <td>1</td>\n",
       "    </tr>\n",
       "    <tr>\n",
       "      <th>193789</th>\n",
       "      <td>0</td>\n",
       "      <td>1</td>\n",
       "    </tr>\n",
       "    <tr>\n",
       "      <th>193790</th>\n",
       "      <td>0</td>\n",
       "      <td>1</td>\n",
       "    </tr>\n",
       "  </tbody>\n",
       "</table>\n",
       "<p>193790 rows × 2 columns</p>\n",
       "</div>"
      ],
      "text/plain": [
       "        Australia  Central America\n",
       "0               1                0\n",
       "1               0                1\n",
       "2               0                1\n",
       "3               0                1\n",
       "4               1                0\n",
       "...           ...              ...\n",
       "193786          0                1\n",
       "193787          0                1\n",
       "193788          0                1\n",
       "193789          0                1\n",
       "193790          0                1\n",
       "\n",
       "[193790 rows x 2 columns]"
      ]
     },
     "execution_count": 55,
     "metadata": {},
     "output_type": "execute_result"
    }
   ],
   "source": [
    "#encoding the continent column into numerical values\n",
    "Continent=pd.get_dummies(Frogdata['continent'], drop_first=True)\n",
    "Continent"
   ]
  },
  {
   "cell_type": "markdown",
   "id": "85624c0e",
   "metadata": {},
   "source": [
    "We will add  all the columns together now using the concat function"
   ]
  },
  {
   "cell_type": "code",
   "execution_count": 56,
   "id": "8b115f97",
   "metadata": {},
   "outputs": [
    {
     "data": {
      "text/html": [
       "<div>\n",
       "<style scoped>\n",
       "    .dataframe tbody tr th:only-of-type {\n",
       "        vertical-align: middle;\n",
       "    }\n",
       "\n",
       "    .dataframe tbody tr th {\n",
       "        vertical-align: top;\n",
       "    }\n",
       "\n",
       "    .dataframe thead th {\n",
       "        text-align: right;\n",
       "    }\n",
       "</style>\n",
       "<table border=\"1\" class=\"dataframe\">\n",
       "  <thead>\n",
       "    <tr style=\"text-align: right;\">\n",
       "      <th></th>\n",
       "      <th>gbifID</th>\n",
       "      <th>eventDate</th>\n",
       "      <th>stateProvince</th>\n",
       "      <th>country</th>\n",
       "      <th>continent</th>\n",
       "      <th>decimalLatitude</th>\n",
       "      <th>decimalLongitude</th>\n",
       "      <th>species</th>\n",
       "      <th>ppt_mean</th>\n",
       "      <th>soil_mean</th>\n",
       "      <th>tmax_mean</th>\n",
       "      <th>tmin_mean</th>\n",
       "      <th>Australia</th>\n",
       "      <th>Central America</th>\n",
       "    </tr>\n",
       "  </thead>\n",
       "  <tbody>\n",
       "    <tr>\n",
       "      <th>0</th>\n",
       "      <td>2574007008</td>\n",
       "      <td>2020-01-23 01:38:00</td>\n",
       "      <td>New South Wales</td>\n",
       "      <td>Australia</td>\n",
       "      <td>Australia</td>\n",
       "      <td>-32.719457</td>\n",
       "      <td>152.159267</td>\n",
       "      <td>Litoria Fallax</td>\n",
       "      <td>96.00000</td>\n",
       "      <td>118.71667</td>\n",
       "      <td>23.830004</td>\n",
       "      <td>13.908336</td>\n",
       "      <td>1</td>\n",
       "      <td>0</td>\n",
       "    </tr>\n",
       "    <tr>\n",
       "      <th>1</th>\n",
       "      <td>3457021422</td>\n",
       "      <td>2010-03-14 22:23:00</td>\n",
       "      <td>Puntarenas</td>\n",
       "      <td>Costa Rica</td>\n",
       "      <td>Central America</td>\n",
       "      <td>8.496999</td>\n",
       "      <td>-83.318613</td>\n",
       "      <td>Agalychnis Callidryas</td>\n",
       "      <td>231.51666</td>\n",
       "      <td>131.88333</td>\n",
       "      <td>31.841667</td>\n",
       "      <td>21.111668</td>\n",
       "      <td>0</td>\n",
       "      <td>1</td>\n",
       "    </tr>\n",
       "    <tr>\n",
       "      <th>2</th>\n",
       "      <td>1571195309</td>\n",
       "      <td>2014-04-11 19:51:57</td>\n",
       "      <td>Heredia</td>\n",
       "      <td>Costa Rica</td>\n",
       "      <td>Central America</td>\n",
       "      <td>10.450801</td>\n",
       "      <td>-84.068659</td>\n",
       "      <td>Agalychnis Callidryas</td>\n",
       "      <td>279.20000</td>\n",
       "      <td>51.70000</td>\n",
       "      <td>31.341671</td>\n",
       "      <td>22.455004</td>\n",
       "      <td>0</td>\n",
       "      <td>1</td>\n",
       "    </tr>\n",
       "    <tr>\n",
       "      <th>3</th>\n",
       "      <td>2265778539</td>\n",
       "      <td>2018-07-21 21:24:21</td>\n",
       "      <td>Puntarenas</td>\n",
       "      <td>Costa Rica</td>\n",
       "      <td>Central America</td>\n",
       "      <td>9.756705</td>\n",
       "      <td>-84.613363</td>\n",
       "      <td>Agalychnis Callidryas</td>\n",
       "      <td>192.10000</td>\n",
       "      <td>171.81667</td>\n",
       "      <td>31.043331</td>\n",
       "      <td>20.061670</td>\n",
       "      <td>0</td>\n",
       "      <td>1</td>\n",
       "    </tr>\n",
       "    <tr>\n",
       "      <th>4</th>\n",
       "      <td>3407962690</td>\n",
       "      <td>2021-10-29 13:57:00</td>\n",
       "      <td>Queensland</td>\n",
       "      <td>Australia</td>\n",
       "      <td>Australia</td>\n",
       "      <td>-26.714302</td>\n",
       "      <td>152.815096</td>\n",
       "      <td>Litoria Fallax</td>\n",
       "      <td>84.80000</td>\n",
       "      <td>111.61667</td>\n",
       "      <td>25.933338</td>\n",
       "      <td>13.801668</td>\n",
       "      <td>1</td>\n",
       "      <td>0</td>\n",
       "    </tr>\n",
       "    <tr>\n",
       "      <th>...</th>\n",
       "      <td>...</td>\n",
       "      <td>...</td>\n",
       "      <td>...</td>\n",
       "      <td>...</td>\n",
       "      <td>...</td>\n",
       "      <td>...</td>\n",
       "      <td>...</td>\n",
       "      <td>...</td>\n",
       "      <td>...</td>\n",
       "      <td>...</td>\n",
       "      <td>...</td>\n",
       "      <td>...</td>\n",
       "      <td>...</td>\n",
       "      <td>...</td>\n",
       "    </tr>\n",
       "    <tr>\n",
       "      <th>193786</th>\n",
       "      <td>1322002619</td>\n",
       "      <td>NaT</td>\n",
       "      <td>Panamá</td>\n",
       "      <td>Panama</td>\n",
       "      <td>Central America</td>\n",
       "      <td>8.806900</td>\n",
       "      <td>-79.515300</td>\n",
       "      <td>Dendrobates Auratus</td>\n",
       "      <td>158.16667</td>\n",
       "      <td>214.81667</td>\n",
       "      <td>31.203335</td>\n",
       "      <td>24.071667</td>\n",
       "      <td>0</td>\n",
       "      <td>1</td>\n",
       "    </tr>\n",
       "    <tr>\n",
       "      <th>193787</th>\n",
       "      <td>1319899134</td>\n",
       "      <td>1937-04-01 00:00:00</td>\n",
       "      <td>Panamá</td>\n",
       "      <td>Panama</td>\n",
       "      <td>Central America</td>\n",
       "      <td>8.806900</td>\n",
       "      <td>-79.515300</td>\n",
       "      <td>Dendrobates Auratus</td>\n",
       "      <td>158.16667</td>\n",
       "      <td>214.81667</td>\n",
       "      <td>31.203335</td>\n",
       "      <td>24.071667</td>\n",
       "      <td>0</td>\n",
       "      <td>1</td>\n",
       "    </tr>\n",
       "    <tr>\n",
       "      <th>193788</th>\n",
       "      <td>1318901755</td>\n",
       "      <td>1937-04-05 00:00:00</td>\n",
       "      <td>Panamá</td>\n",
       "      <td>Panama</td>\n",
       "      <td>Central America</td>\n",
       "      <td>8.791700</td>\n",
       "      <td>-79.561100</td>\n",
       "      <td>Dendrobates Auratus</td>\n",
       "      <td>158.16667</td>\n",
       "      <td>214.81667</td>\n",
       "      <td>31.203335</td>\n",
       "      <td>24.071667</td>\n",
       "      <td>0</td>\n",
       "      <td>1</td>\n",
       "    </tr>\n",
       "    <tr>\n",
       "      <th>193789</th>\n",
       "      <td>1322299951</td>\n",
       "      <td>2002-07-09 00:00:00</td>\n",
       "      <td>Gracias a Dios</td>\n",
       "      <td>Honduras</td>\n",
       "      <td>Central America</td>\n",
       "      <td>15.091100</td>\n",
       "      <td>-83.557800</td>\n",
       "      <td>Agalychnis Callidryas</td>\n",
       "      <td>190.06667</td>\n",
       "      <td>141.43333</td>\n",
       "      <td>29.326668</td>\n",
       "      <td>23.588335</td>\n",
       "      <td>0</td>\n",
       "      <td>1</td>\n",
       "    </tr>\n",
       "    <tr>\n",
       "      <th>193790</th>\n",
       "      <td>1320529451</td>\n",
       "      <td>2001-10-11 00:00:00</td>\n",
       "      <td>Gracias a Dios</td>\n",
       "      <td>Honduras</td>\n",
       "      <td>Central America</td>\n",
       "      <td>14.927500</td>\n",
       "      <td>-84.533900</td>\n",
       "      <td>Agalychnis Callidryas</td>\n",
       "      <td>206.53334</td>\n",
       "      <td>142.61667</td>\n",
       "      <td>30.230005</td>\n",
       "      <td>22.480005</td>\n",
       "      <td>0</td>\n",
       "      <td>1</td>\n",
       "    </tr>\n",
       "  </tbody>\n",
       "</table>\n",
       "<p>193790 rows × 14 columns</p>\n",
       "</div>"
      ],
      "text/plain": [
       "            gbifID           eventDate    stateProvince     country  \\\n",
       "0       2574007008 2020-01-23 01:38:00  New South Wales   Australia   \n",
       "1       3457021422 2010-03-14 22:23:00       Puntarenas  Costa Rica   \n",
       "2       1571195309 2014-04-11 19:51:57          Heredia  Costa Rica   \n",
       "3       2265778539 2018-07-21 21:24:21       Puntarenas  Costa Rica   \n",
       "4       3407962690 2021-10-29 13:57:00       Queensland   Australia   \n",
       "...            ...                 ...              ...         ...   \n",
       "193786  1322002619                 NaT           Panamá      Panama   \n",
       "193787  1319899134 1937-04-01 00:00:00           Panamá      Panama   \n",
       "193788  1318901755 1937-04-05 00:00:00           Panamá      Panama   \n",
       "193789  1322299951 2002-07-09 00:00:00   Gracias a Dios    Honduras   \n",
       "193790  1320529451 2001-10-11 00:00:00   Gracias a Dios    Honduras   \n",
       "\n",
       "              continent  decimalLatitude  decimalLongitude  \\\n",
       "0             Australia       -32.719457        152.159267   \n",
       "1       Central America         8.496999        -83.318613   \n",
       "2       Central America        10.450801        -84.068659   \n",
       "3       Central America         9.756705        -84.613363   \n",
       "4             Australia       -26.714302        152.815096   \n",
       "...                 ...              ...               ...   \n",
       "193786  Central America         8.806900        -79.515300   \n",
       "193787  Central America         8.806900        -79.515300   \n",
       "193788  Central America         8.791700        -79.561100   \n",
       "193789  Central America        15.091100        -83.557800   \n",
       "193790  Central America        14.927500        -84.533900   \n",
       "\n",
       "                      species   ppt_mean  soil_mean  tmax_mean  tmin_mean  \\\n",
       "0              Litoria Fallax   96.00000  118.71667  23.830004  13.908336   \n",
       "1       Agalychnis Callidryas  231.51666  131.88333  31.841667  21.111668   \n",
       "2       Agalychnis Callidryas  279.20000   51.70000  31.341671  22.455004   \n",
       "3       Agalychnis Callidryas  192.10000  171.81667  31.043331  20.061670   \n",
       "4              Litoria Fallax   84.80000  111.61667  25.933338  13.801668   \n",
       "...                       ...        ...        ...        ...        ...   \n",
       "193786    Dendrobates Auratus  158.16667  214.81667  31.203335  24.071667   \n",
       "193787    Dendrobates Auratus  158.16667  214.81667  31.203335  24.071667   \n",
       "193788    Dendrobates Auratus  158.16667  214.81667  31.203335  24.071667   \n",
       "193789  Agalychnis Callidryas  190.06667  141.43333  29.326668  23.588335   \n",
       "193790  Agalychnis Callidryas  206.53334  142.61667  30.230005  22.480005   \n",
       "\n",
       "        Australia  Central America  \n",
       "0               1                0  \n",
       "1               0                1  \n",
       "2               0                1  \n",
       "3               0                1  \n",
       "4               1                0  \n",
       "...           ...              ...  \n",
       "193786          0                1  \n",
       "193787          0                1  \n",
       "193788          0                1  \n",
       "193789          0                1  \n",
       "193790          0                1  \n",
       "\n",
       "[193790 rows x 14 columns]"
      ]
     },
     "execution_count": 56,
     "metadata": {},
     "output_type": "execute_result"
    }
   ],
   "source": [
    "#concating\n",
    "Frogdata1=pd.concat([Frogdata,Continent], axis=1)\n",
    "Frogdata1"
   ]
  },
  {
   "cell_type": "markdown",
   "id": "929c36e8",
   "metadata": {},
   "source": [
    "We will drop some columns since they are irrelevant to the machine learning"
   ]
  },
  {
   "cell_type": "code",
   "execution_count": 57,
   "id": "bdf22bae",
   "metadata": {},
   "outputs": [
    {
     "data": {
      "text/html": [
       "<div>\n",
       "<style scoped>\n",
       "    .dataframe tbody tr th:only-of-type {\n",
       "        vertical-align: middle;\n",
       "    }\n",
       "\n",
       "    .dataframe tbody tr th {\n",
       "        vertical-align: top;\n",
       "    }\n",
       "\n",
       "    .dataframe thead th {\n",
       "        text-align: right;\n",
       "    }\n",
       "</style>\n",
       "<table border=\"1\" class=\"dataframe\">\n",
       "  <thead>\n",
       "    <tr style=\"text-align: right;\">\n",
       "      <th></th>\n",
       "      <th>eventDate</th>\n",
       "      <th>decimalLatitude</th>\n",
       "      <th>decimalLongitude</th>\n",
       "      <th>species</th>\n",
       "      <th>ppt_mean</th>\n",
       "      <th>soil_mean</th>\n",
       "      <th>tmax_mean</th>\n",
       "      <th>tmin_mean</th>\n",
       "      <th>Australia</th>\n",
       "      <th>Central America</th>\n",
       "    </tr>\n",
       "  </thead>\n",
       "  <tbody>\n",
       "    <tr>\n",
       "      <th>0</th>\n",
       "      <td>2020-01-23 01:38:00</td>\n",
       "      <td>-32.719457</td>\n",
       "      <td>152.159267</td>\n",
       "      <td>Litoria Fallax</td>\n",
       "      <td>96.00000</td>\n",
       "      <td>118.71667</td>\n",
       "      <td>23.830004</td>\n",
       "      <td>13.908336</td>\n",
       "      <td>1</td>\n",
       "      <td>0</td>\n",
       "    </tr>\n",
       "    <tr>\n",
       "      <th>1</th>\n",
       "      <td>2010-03-14 22:23:00</td>\n",
       "      <td>8.496999</td>\n",
       "      <td>-83.318613</td>\n",
       "      <td>Agalychnis Callidryas</td>\n",
       "      <td>231.51666</td>\n",
       "      <td>131.88333</td>\n",
       "      <td>31.841667</td>\n",
       "      <td>21.111668</td>\n",
       "      <td>0</td>\n",
       "      <td>1</td>\n",
       "    </tr>\n",
       "    <tr>\n",
       "      <th>2</th>\n",
       "      <td>2014-04-11 19:51:57</td>\n",
       "      <td>10.450801</td>\n",
       "      <td>-84.068659</td>\n",
       "      <td>Agalychnis Callidryas</td>\n",
       "      <td>279.20000</td>\n",
       "      <td>51.70000</td>\n",
       "      <td>31.341671</td>\n",
       "      <td>22.455004</td>\n",
       "      <td>0</td>\n",
       "      <td>1</td>\n",
       "    </tr>\n",
       "    <tr>\n",
       "      <th>3</th>\n",
       "      <td>2018-07-21 21:24:21</td>\n",
       "      <td>9.756705</td>\n",
       "      <td>-84.613363</td>\n",
       "      <td>Agalychnis Callidryas</td>\n",
       "      <td>192.10000</td>\n",
       "      <td>171.81667</td>\n",
       "      <td>31.043331</td>\n",
       "      <td>20.061670</td>\n",
       "      <td>0</td>\n",
       "      <td>1</td>\n",
       "    </tr>\n",
       "    <tr>\n",
       "      <th>4</th>\n",
       "      <td>2021-10-29 13:57:00</td>\n",
       "      <td>-26.714302</td>\n",
       "      <td>152.815096</td>\n",
       "      <td>Litoria Fallax</td>\n",
       "      <td>84.80000</td>\n",
       "      <td>111.61667</td>\n",
       "      <td>25.933338</td>\n",
       "      <td>13.801668</td>\n",
       "      <td>1</td>\n",
       "      <td>0</td>\n",
       "    </tr>\n",
       "    <tr>\n",
       "      <th>...</th>\n",
       "      <td>...</td>\n",
       "      <td>...</td>\n",
       "      <td>...</td>\n",
       "      <td>...</td>\n",
       "      <td>...</td>\n",
       "      <td>...</td>\n",
       "      <td>...</td>\n",
       "      <td>...</td>\n",
       "      <td>...</td>\n",
       "      <td>...</td>\n",
       "    </tr>\n",
       "    <tr>\n",
       "      <th>193786</th>\n",
       "      <td>NaT</td>\n",
       "      <td>8.806900</td>\n",
       "      <td>-79.515300</td>\n",
       "      <td>Dendrobates Auratus</td>\n",
       "      <td>158.16667</td>\n",
       "      <td>214.81667</td>\n",
       "      <td>31.203335</td>\n",
       "      <td>24.071667</td>\n",
       "      <td>0</td>\n",
       "      <td>1</td>\n",
       "    </tr>\n",
       "    <tr>\n",
       "      <th>193787</th>\n",
       "      <td>1937-04-01 00:00:00</td>\n",
       "      <td>8.806900</td>\n",
       "      <td>-79.515300</td>\n",
       "      <td>Dendrobates Auratus</td>\n",
       "      <td>158.16667</td>\n",
       "      <td>214.81667</td>\n",
       "      <td>31.203335</td>\n",
       "      <td>24.071667</td>\n",
       "      <td>0</td>\n",
       "      <td>1</td>\n",
       "    </tr>\n",
       "    <tr>\n",
       "      <th>193788</th>\n",
       "      <td>1937-04-05 00:00:00</td>\n",
       "      <td>8.791700</td>\n",
       "      <td>-79.561100</td>\n",
       "      <td>Dendrobates Auratus</td>\n",
       "      <td>158.16667</td>\n",
       "      <td>214.81667</td>\n",
       "      <td>31.203335</td>\n",
       "      <td>24.071667</td>\n",
       "      <td>0</td>\n",
       "      <td>1</td>\n",
       "    </tr>\n",
       "    <tr>\n",
       "      <th>193789</th>\n",
       "      <td>2002-07-09 00:00:00</td>\n",
       "      <td>15.091100</td>\n",
       "      <td>-83.557800</td>\n",
       "      <td>Agalychnis Callidryas</td>\n",
       "      <td>190.06667</td>\n",
       "      <td>141.43333</td>\n",
       "      <td>29.326668</td>\n",
       "      <td>23.588335</td>\n",
       "      <td>0</td>\n",
       "      <td>1</td>\n",
       "    </tr>\n",
       "    <tr>\n",
       "      <th>193790</th>\n",
       "      <td>2001-10-11 00:00:00</td>\n",
       "      <td>14.927500</td>\n",
       "      <td>-84.533900</td>\n",
       "      <td>Agalychnis Callidryas</td>\n",
       "      <td>206.53334</td>\n",
       "      <td>142.61667</td>\n",
       "      <td>30.230005</td>\n",
       "      <td>22.480005</td>\n",
       "      <td>0</td>\n",
       "      <td>1</td>\n",
       "    </tr>\n",
       "  </tbody>\n",
       "</table>\n",
       "<p>193790 rows × 10 columns</p>\n",
       "</div>"
      ],
      "text/plain": [
       "                 eventDate  decimalLatitude  decimalLongitude  \\\n",
       "0      2020-01-23 01:38:00       -32.719457        152.159267   \n",
       "1      2010-03-14 22:23:00         8.496999        -83.318613   \n",
       "2      2014-04-11 19:51:57        10.450801        -84.068659   \n",
       "3      2018-07-21 21:24:21         9.756705        -84.613363   \n",
       "4      2021-10-29 13:57:00       -26.714302        152.815096   \n",
       "...                    ...              ...               ...   \n",
       "193786                 NaT         8.806900        -79.515300   \n",
       "193787 1937-04-01 00:00:00         8.806900        -79.515300   \n",
       "193788 1937-04-05 00:00:00         8.791700        -79.561100   \n",
       "193789 2002-07-09 00:00:00        15.091100        -83.557800   \n",
       "193790 2001-10-11 00:00:00        14.927500        -84.533900   \n",
       "\n",
       "                      species   ppt_mean  soil_mean  tmax_mean  tmin_mean  \\\n",
       "0              Litoria Fallax   96.00000  118.71667  23.830004  13.908336   \n",
       "1       Agalychnis Callidryas  231.51666  131.88333  31.841667  21.111668   \n",
       "2       Agalychnis Callidryas  279.20000   51.70000  31.341671  22.455004   \n",
       "3       Agalychnis Callidryas  192.10000  171.81667  31.043331  20.061670   \n",
       "4              Litoria Fallax   84.80000  111.61667  25.933338  13.801668   \n",
       "...                       ...        ...        ...        ...        ...   \n",
       "193786    Dendrobates Auratus  158.16667  214.81667  31.203335  24.071667   \n",
       "193787    Dendrobates Auratus  158.16667  214.81667  31.203335  24.071667   \n",
       "193788    Dendrobates Auratus  158.16667  214.81667  31.203335  24.071667   \n",
       "193789  Agalychnis Callidryas  190.06667  141.43333  29.326668  23.588335   \n",
       "193790  Agalychnis Callidryas  206.53334  142.61667  30.230005  22.480005   \n",
       "\n",
       "        Australia  Central America  \n",
       "0               1                0  \n",
       "1               0                1  \n",
       "2               0                1  \n",
       "3               0                1  \n",
       "4               1                0  \n",
       "...           ...              ...  \n",
       "193786          0                1  \n",
       "193787          0                1  \n",
       "193788          0                1  \n",
       "193789          0                1  \n",
       "193790          0                1  \n",
       "\n",
       "[193790 rows x 10 columns]"
      ]
     },
     "execution_count": 57,
     "metadata": {},
     "output_type": "execute_result"
    }
   ],
   "source": [
    "#dropping some columns\n",
    "Frogdata1.drop([\"gbifID\",\"stateProvince\",\"country\", \"continent\"], axis=1)"
   ]
  },
  {
   "cell_type": "code",
   "execution_count": 58,
   "id": "d531e258",
   "metadata": {},
   "outputs": [],
   "source": [
    "cols = ['ppt_mean', 'soil_mean', 'tmax_mean', 'tmin_mean', 'decimalLatitude',\n",
    "       'decimalLongitude', 'Australia', 'Central America','species']\n",
    "\n",
    "Frogdata1 = Frogdata1[cols]"
   ]
  },
  {
   "cell_type": "code",
   "execution_count": 59,
   "id": "c5a5d61d",
   "metadata": {},
   "outputs": [
    {
     "data": {
      "text/html": [
       "<div>\n",
       "<style scoped>\n",
       "    .dataframe tbody tr th:only-of-type {\n",
       "        vertical-align: middle;\n",
       "    }\n",
       "\n",
       "    .dataframe tbody tr th {\n",
       "        vertical-align: top;\n",
       "    }\n",
       "\n",
       "    .dataframe thead th {\n",
       "        text-align: right;\n",
       "    }\n",
       "</style>\n",
       "<table border=\"1\" class=\"dataframe\">\n",
       "  <thead>\n",
       "    <tr style=\"text-align: right;\">\n",
       "      <th></th>\n",
       "      <th>ppt_mean</th>\n",
       "      <th>soil_mean</th>\n",
       "      <th>tmax_mean</th>\n",
       "      <th>tmin_mean</th>\n",
       "      <th>decimalLatitude</th>\n",
       "      <th>decimalLongitude</th>\n",
       "      <th>Australia</th>\n",
       "      <th>Central America</th>\n",
       "      <th>species</th>\n",
       "    </tr>\n",
       "  </thead>\n",
       "  <tbody>\n",
       "    <tr>\n",
       "      <th>0</th>\n",
       "      <td>96.00000</td>\n",
       "      <td>118.71667</td>\n",
       "      <td>23.830004</td>\n",
       "      <td>13.908336</td>\n",
       "      <td>-32.719457</td>\n",
       "      <td>152.159267</td>\n",
       "      <td>1</td>\n",
       "      <td>0</td>\n",
       "      <td>Litoria Fallax</td>\n",
       "    </tr>\n",
       "    <tr>\n",
       "      <th>1</th>\n",
       "      <td>231.51666</td>\n",
       "      <td>131.88333</td>\n",
       "      <td>31.841667</td>\n",
       "      <td>21.111668</td>\n",
       "      <td>8.496999</td>\n",
       "      <td>-83.318613</td>\n",
       "      <td>0</td>\n",
       "      <td>1</td>\n",
       "      <td>Agalychnis Callidryas</td>\n",
       "    </tr>\n",
       "    <tr>\n",
       "      <th>2</th>\n",
       "      <td>279.20000</td>\n",
       "      <td>51.70000</td>\n",
       "      <td>31.341671</td>\n",
       "      <td>22.455004</td>\n",
       "      <td>10.450801</td>\n",
       "      <td>-84.068659</td>\n",
       "      <td>0</td>\n",
       "      <td>1</td>\n",
       "      <td>Agalychnis Callidryas</td>\n",
       "    </tr>\n",
       "    <tr>\n",
       "      <th>3</th>\n",
       "      <td>192.10000</td>\n",
       "      <td>171.81667</td>\n",
       "      <td>31.043331</td>\n",
       "      <td>20.061670</td>\n",
       "      <td>9.756705</td>\n",
       "      <td>-84.613363</td>\n",
       "      <td>0</td>\n",
       "      <td>1</td>\n",
       "      <td>Agalychnis Callidryas</td>\n",
       "    </tr>\n",
       "    <tr>\n",
       "      <th>4</th>\n",
       "      <td>84.80000</td>\n",
       "      <td>111.61667</td>\n",
       "      <td>25.933338</td>\n",
       "      <td>13.801668</td>\n",
       "      <td>-26.714302</td>\n",
       "      <td>152.815096</td>\n",
       "      <td>1</td>\n",
       "      <td>0</td>\n",
       "      <td>Litoria Fallax</td>\n",
       "    </tr>\n",
       "  </tbody>\n",
       "</table>\n",
       "</div>"
      ],
      "text/plain": [
       "    ppt_mean  soil_mean  tmax_mean  tmin_mean  decimalLatitude  \\\n",
       "0   96.00000  118.71667  23.830004  13.908336       -32.719457   \n",
       "1  231.51666  131.88333  31.841667  21.111668         8.496999   \n",
       "2  279.20000   51.70000  31.341671  22.455004        10.450801   \n",
       "3  192.10000  171.81667  31.043331  20.061670         9.756705   \n",
       "4   84.80000  111.61667  25.933338  13.801668       -26.714302   \n",
       "\n",
       "   decimalLongitude  Australia  Central America                species  \n",
       "0        152.159267          1                0         Litoria Fallax  \n",
       "1        -83.318613          0                1  Agalychnis Callidryas  \n",
       "2        -84.068659          0                1  Agalychnis Callidryas  \n",
       "3        -84.613363          0                1  Agalychnis Callidryas  \n",
       "4        152.815096          1                0         Litoria Fallax  "
      ]
     },
     "execution_count": 59,
     "metadata": {},
     "output_type": "execute_result"
    }
   ],
   "source": [
    "Frogdata1.head()"
   ]
  },
  {
   "cell_type": "markdown",
   "id": "68a6ff50",
   "metadata": {},
   "source": [
    "We will now train and Test the data"
   ]
  },
  {
   "cell_type": "code",
   "execution_count": 60,
   "id": "e7297890",
   "metadata": {},
   "outputs": [
    {
     "name": "stdout",
     "output_type": "stream",
     "text": [
      "X:train (135653, 8) | X_test (58137, 8)\n"
     ]
    }
   ],
   "source": [
    "#Train Data\n",
    "X,y = Frogdata1.iloc[:,:-1], Frogdata1.iloc[:,-1]\n",
    "\n",
    "X_train,X_test, y_train,y_test = train_test_split(X,y,test_size=0.3)\n",
    "\n",
    "print('X:train {0} | X_test {1}'.format (X_train.shape, X_test.shape))"
   ]
  },
  {
   "cell_type": "code",
   "execution_count": 61,
   "id": "30ee1133",
   "metadata": {},
   "outputs": [
    {
     "data": {
      "text/plain": [
       "RandomForestClassifier()"
      ]
     },
     "execution_count": 61,
     "metadata": {},
     "output_type": "execute_result"
    }
   ],
   "source": [
    "Forestmodel = RandomForestClassifier()\n",
    "Forestmodel.fit(X_train, y_train)"
   ]
  },
  {
   "cell_type": "markdown",
   "id": "be78c576",
   "metadata": {},
   "source": [
    "# PREDICTION"
   ]
  },
  {
   "cell_type": "code",
   "execution_count": 62,
   "id": "707b0b36",
   "metadata": {},
   "outputs": [],
   "source": [
    "predictions=Forestmodel.predict(X_test)"
   ]
  },
  {
   "cell_type": "code",
   "execution_count": 63,
   "id": "ea158a77",
   "metadata": {},
   "outputs": [],
   "source": [
    "from sklearn.metrics import classification_report"
   ]
  },
  {
   "cell_type": "code",
   "execution_count": 64,
   "id": "8b5a3c07",
   "metadata": {},
   "outputs": [
    {
     "data": {
      "text/plain": [
       "'                           precision    recall  f1-score   support\\n\\n    Agalychnis Callidryas       0.89      0.91      0.90       668\\nAustrochaperina Pluvialis       0.89      0.92      0.90       154\\n  Chiromantis Xerampelina       0.93      0.90      0.92       185\\n          Crinia Glauerti       1.00      1.00      1.00      2905\\n         Crinia Signifera       0.95      0.94      0.95     37941\\n      Dendrobates Auratus       0.88      0.86      0.87       542\\n           Litoria Fallax       0.85      0.86      0.86     14153\\n       Ranoidea Australis       1.00      1.00      1.00      1244\\n           Xenopus Laevis       0.95      0.96      0.95       345\\n\\n                 accuracy                           0.93     58137\\n                macro avg       0.93      0.93      0.93     58137\\n             weighted avg       0.93      0.93      0.93     58137\\n'"
      ]
     },
     "execution_count": 64,
     "metadata": {},
     "output_type": "execute_result"
    }
   ],
   "source": [
    "classification_report(y_test, predictions)"
   ]
  },
  {
   "cell_type": "code",
   "execution_count": 65,
   "id": "301f0099",
   "metadata": {},
   "outputs": [],
   "source": [
    " from sklearn.metrics import confusion_matrix"
   ]
  },
  {
   "cell_type": "code",
   "execution_count": 66,
   "id": "3c9c63bf",
   "metadata": {},
   "outputs": [
    {
     "data": {
      "text/plain": [
       "array([[  606,     0,     0,     0,     0,    61,     0,     0,     1],\n",
       "       [    0,   142,     0,     0,     0,     0,    12,     0,     0],\n",
       "       [    0,     0,   167,     0,     0,     0,     0,     0,    18],\n",
       "       [    0,     0,     0,  2904,     1,     0,     0,     0,     0],\n",
       "       [    0,     0,     0,     0, 35839,     0,  2102,     0,     0],\n",
       "       [   74,     0,     0,     0,     0,   468,     0,     0,     0],\n",
       "       [    0,    18,     0,     2,  1932,     0, 12198,     3,     0],\n",
       "       [    0,     0,     0,     0,     0,     0,     5,  1239,     0],\n",
       "       [    0,     0,    13,     0,     0,     0,     0,     0,   332]],\n",
       "      dtype=int64)"
      ]
     },
     "execution_count": 66,
     "metadata": {},
     "output_type": "execute_result"
    }
   ],
   "source": [
    "#checking the actual predictions against the estimated predictions\n",
    "confusion_matrix(y_test, predictions)"
   ]
  },
  {
   "cell_type": "code",
   "execution_count": 67,
   "id": "ea962f25",
   "metadata": {},
   "outputs": [],
   "source": [
    "#checking the accuracy\n",
    "from sklearn.metrics import accuracy_score\n"
   ]
  },
  {
   "cell_type": "code",
   "execution_count": 68,
   "id": "05d0e684",
   "metadata": {},
   "outputs": [
    {
     "name": "stdout",
     "output_type": "stream",
     "text": [
      " 0.927 \n"
     ]
    }
   ],
   "source": [
    "print(\" %.3f \" % accuracy_score(y_test, predictions))"
   ]
  },
  {
   "cell_type": "code",
   "execution_count": 69,
   "id": "28d589dc",
   "metadata": {},
   "outputs": [
    {
     "data": {
      "text/plain": [
       "array(['Dendrobates Auratus', 'Crinia Glauerti', 'Litoria Fallax', ...,\n",
       "       'Crinia Signifera', 'Litoria Fallax', 'Crinia Signifera'],\n",
       "      dtype=object)"
      ]
     },
     "execution_count": 69,
     "metadata": {},
     "output_type": "execute_result"
    }
   ],
   "source": [
    "predictions"
   ]
  },
  {
   "cell_type": "code",
   "execution_count": 70,
   "id": "3518b4c0",
   "metadata": {},
   "outputs": [],
   "source": [
    "#plotting the confusion matrix\n",
    "from sklearn.metrics import plot_confusion_matrix"
   ]
  },
  {
   "cell_type": "code",
   "execution_count": 75,
   "id": "f7272531",
   "metadata": {},
   "outputs": [
    {
     "data": {
      "text/plain": [
       "<sklearn.metrics._plot.confusion_matrix.ConfusionMatrixDisplay at 0x22a73f04bb0>"
      ]
     },
     "execution_count": 75,
     "metadata": {},
     "output_type": "execute_result"
    },
    {
     "data": {
      "image/png": "[encoded data removed]",
      "text/plain": [
       "<Figure size 504x504 with 2 Axes>"
      ]
     },
     "metadata": {
      "needs_background": "light"
     },
     "output_type": "display_data"
    }
   ],
   "source": [
    "plt.rcParams['figure.figsize'] = (7,7)\n",
    "plot_confusion_matrix(Forestmodel, X_test, y_test)"
   ]
  },
  {
   "cell_type": "markdown",
   "id": "7677ce73",
   "metadata": {},
   "source": [
    "# ##The model has a 93% accuracy which is good "
   ]
  },
  {
   "cell_type": "code",
   "execution_count": null,
   "id": "3b83fbdc",
   "metadata": {},
   "outputs": [],
   "source": []
  }
 ],
 "metadata": {
  "kernelspec": {
   "display_name": "Python 3 (ipykernel)",
   "language": "python",
   "name": "python3"
  },
  "language_info": {
   "codemirror_mode": {
    "name": "ipython",
    "version": 3
   },
   "file_extension": ".py",
   "mimetype": "text/x-python",
   "name": "python",
   "nbconvert_exporter": "python",
   "pygments_lexer": "ipython3",
   "version": "3.9.7"
  }
 },
 "nbformat": 4,
 "nbformat_minor": 5
}
