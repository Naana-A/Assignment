{
 "cells": [
  {
   "cell_type": "code",
   "execution_count": 2,
   "id": "81dd5587",
   "metadata": {},
   "outputs": [],
   "source": [
    "import pandas as pd\n",
    "import numpy as np\n",
    "import matplotlib.pyplot as plt"
   ]
  },
  {
   "cell_type": "code",
   "execution_count": 44,
   "id": "a4affd34",
   "metadata": {},
   "outputs": [
    {
     "data": {
      "text/html": [
       "<div>\n",
       "<style scoped>\n",
       "    .dataframe tbody tr th:only-of-type {\n",
       "        vertical-align: middle;\n",
       "    }\n",
       "\n",
       "    .dataframe tbody tr th {\n",
       "        vertical-align: top;\n",
       "    }\n",
       "\n",
       "    .dataframe thead th {\n",
       "        text-align: right;\n",
       "    }\n",
       "</style>\n",
       "<table border=\"1\" class=\"dataframe\">\n",
       "  <thead>\n",
       "    <tr style=\"text-align: right;\">\n",
       "      <th></th>\n",
       "      <th>Order ID</th>\n",
       "      <th>Order Date</th>\n",
       "      <th>Ship Mode</th>\n",
       "      <th>Region</th>\n",
       "      <th>Product ID</th>\n",
       "      <th>Category</th>\n",
       "      <th>Sub-Category</th>\n",
       "      <th>Product Name</th>\n",
       "      <th>Sales</th>\n",
       "      <th>Quantity</th>\n",
       "      <th>Discount</th>\n",
       "      <th>Profit</th>\n",
       "    </tr>\n",
       "  </thead>\n",
       "  <tbody>\n",
       "    <tr>\n",
       "      <th>0</th>\n",
       "      <td>CA-2015-110870</td>\n",
       "      <td>2015-12-12</td>\n",
       "      <td>First Class</td>\n",
       "      <td>West</td>\n",
       "      <td>TEC-AC-10002926</td>\n",
       "      <td>Technology</td>\n",
       "      <td>Accessories</td>\n",
       "      <td>Logitech Wireless Marathon Mouse M705</td>\n",
       "      <td>299.94</td>\n",
       "      <td>6</td>\n",
       "      <td>0.0</td>\n",
       "      <td>NaN</td>\n",
       "    </tr>\n",
       "    <tr>\n",
       "      <th>1</th>\n",
       "      <td>CA-2015-110870</td>\n",
       "      <td>2015-12-12</td>\n",
       "      <td>First Class</td>\n",
       "      <td>West</td>\n",
       "      <td>OFF-SU-10001225</td>\n",
       "      <td>Office Supplies</td>\n",
       "      <td>Supplies</td>\n",
       "      <td>Staple remover</td>\n",
       "      <td>25.76</td>\n",
       "      <td>7</td>\n",
       "      <td>0.0</td>\n",
       "      <td>NaN</td>\n",
       "    </tr>\n",
       "    <tr>\n",
       "      <th>2</th>\n",
       "      <td>CA-2014-143210</td>\n",
       "      <td>2014-12-01</td>\n",
       "      <td>First Class</td>\n",
       "      <td>East</td>\n",
       "      <td>TEC-PH-10004434</td>\n",
       "      <td>Technology</td>\n",
       "      <td>Phones</td>\n",
       "      <td>Cisco IP Phone 7961G VoIP phone - Dark gray</td>\n",
       "      <td>271.90</td>\n",
       "      <td>2</td>\n",
       "      <td>0.0</td>\n",
       "      <td>NaN</td>\n",
       "    </tr>\n",
       "    <tr>\n",
       "      <th>3</th>\n",
       "      <td>CA-2014-143210</td>\n",
       "      <td>2014-12-01</td>\n",
       "      <td>First Class</td>\n",
       "      <td>East</td>\n",
       "      <td>FUR-FU-10003878</td>\n",
       "      <td>Furniture</td>\n",
       "      <td>Furnishings</td>\n",
       "      <td>Linden 10\" Round Wall Clock, Black</td>\n",
       "      <td>45.84</td>\n",
       "      <td>3</td>\n",
       "      <td>0.0</td>\n",
       "      <td>NaN</td>\n",
       "    </tr>\n",
       "    <tr>\n",
       "      <th>4</th>\n",
       "      <td>CA-2014-143210</td>\n",
       "      <td>2014-12-01</td>\n",
       "      <td>First Class</td>\n",
       "      <td>East</td>\n",
       "      <td>FUR-FU-10002268</td>\n",
       "      <td>Furniture</td>\n",
       "      <td>Furnishings</td>\n",
       "      <td>Ultra Door Push Plate</td>\n",
       "      <td>9.82</td>\n",
       "      <td>2</td>\n",
       "      <td>0.0</td>\n",
       "      <td>NaN</td>\n",
       "    </tr>\n",
       "  </tbody>\n",
       "</table>\n",
       "</div>"
      ],
      "text/plain": [
       "         Order ID  Order Date    Ship Mode Region       Product ID  \\\n",
       "0  CA-2015-110870  2015-12-12  First Class   West  TEC-AC-10002926   \n",
       "1  CA-2015-110870  2015-12-12  First Class   West  OFF-SU-10001225   \n",
       "2  CA-2014-143210  2014-12-01  First Class   East  TEC-PH-10004434   \n",
       "3  CA-2014-143210  2014-12-01  First Class   East  FUR-FU-10003878   \n",
       "4  CA-2014-143210  2014-12-01  First Class   East  FUR-FU-10002268   \n",
       "\n",
       "          Category Sub-Category                                 Product Name  \\\n",
       "0       Technology  Accessories        Logitech Wireless Marathon Mouse M705   \n",
       "1  Office Supplies     Supplies                               Staple remover   \n",
       "2       Technology       Phones  Cisco IP Phone 7961G VoIP phone - Dark gray   \n",
       "3        Furniture  Furnishings           Linden 10\" Round Wall Clock, Black   \n",
       "4        Furniture  Furnishings                        Ultra Door Push Plate   \n",
       "\n",
       "    Sales  Quantity  Discount  Profit  \n",
       "0  299.94         6       0.0     NaN  \n",
       "1   25.76         7       0.0     NaN  \n",
       "2  271.90         2       0.0     NaN  \n",
       "3   45.84         3       0.0     NaN  \n",
       "4    9.82         2       0.0     NaN  "
      ]
     },
     "execution_count": 44,
     "metadata": {},
     "output_type": "execute_result"
    }
   ],
   "source": [
    "supplies = pd.read_csv(\"office_supplies.csv\")\n",
    "supplies.head()\n",
    "            "
   ]
  },
  {
   "cell_type": "code",
   "execution_count": 4,
   "id": "8190ff5e",
   "metadata": {},
   "outputs": [
    {
     "name": "stdout",
     "output_type": "stream",
     "text": [
      "<class 'pandas.core.frame.DataFrame'>\n",
      "RangeIndex: 9993 entries, 0 to 9992\n",
      "Data columns (total 12 columns):\n",
      " #   Column        Non-Null Count  Dtype  \n",
      "---  ------        --------------  -----  \n",
      " 0   Order ID      9993 non-null   object \n",
      " 1   Order Date    9993 non-null   object \n",
      " 2   Ship Mode     9993 non-null   object \n",
      " 3   Region        9993 non-null   object \n",
      " 4   Product ID    9993 non-null   object \n",
      " 5   Category      9993 non-null   object \n",
      " 6   Sub-Category  9993 non-null   object \n",
      " 7   Product Name  9993 non-null   object \n",
      " 8   Sales         9993 non-null   float64\n",
      " 9   Quantity      9993 non-null   int64  \n",
      " 10  Discount      9993 non-null   float64\n",
      " 11  Profit        8000 non-null   float64\n",
      "dtypes: float64(3), int64(1), object(8)\n",
      "memory usage: 937.0+ KB\n"
     ]
    }
   ],
   "source": [
    "supplies.info()"
   ]
  },
  {
   "cell_type": "code",
   "execution_count": 5,
   "id": "b2661dbf",
   "metadata": {},
   "outputs": [
    {
     "data": {
      "text/plain": [
       "Index(['Order ID', 'Order Date', 'Ship Mode', 'Region', 'Product ID',\n",
       "       'Category', 'Sub-Category', 'Product Name', 'Sales', 'Quantity',\n",
       "       'Discount', 'Profit'],\n",
       "      dtype='object')"
      ]
     },
     "execution_count": 5,
     "metadata": {},
     "output_type": "execute_result"
    }
   ],
   "source": [
    "supplies.columns"
   ]
  },
  {
   "cell_type": "markdown",
   "id": "365d3959",
   "metadata": {},
   "source": [
    "The office supplies data frame has 9993 rows but the profit column has only 8000 rows with 19993 rows missing and some with '...' so we will check the Profit column and replace all lost values with 0"
   ]
  },
  {
   "cell_type": "code",
   "execution_count": 6,
   "id": "aefbc174",
   "metadata": {},
   "outputs": [
    {
     "data": {
      "text/plain": [
       "array([     nan,  41.9136, 219.582 , ...,  20.9148,   3.8976,  19.0344])"
      ]
     },
     "execution_count": 6,
     "metadata": {},
     "output_type": "execute_result"
    }
   ],
   "source": [
    "#checking for null values in Profit\n",
    "supplies.Profit.unique()"
   ]
  },
  {
   "cell_type": "code",
   "execution_count": 7,
   "id": "6bab192c",
   "metadata": {},
   "outputs": [],
   "source": [
    "#replacing null values with zero\n",
    "Supplies= supplies.fillna(0)"
   ]
  },
  {
   "cell_type": "code",
   "execution_count": 8,
   "id": "2bcb908e",
   "metadata": {},
   "outputs": [],
   "source": [
    "#replacing non-recorded values with zero\n",
    "Supplies= Supplies.replace('...',0)"
   ]
  },
  {
   "cell_type": "code",
   "execution_count": 9,
   "id": "d480d7a2",
   "metadata": {},
   "outputs": [
    {
     "data": {
      "text/plain": [
       "array([  0.    ,  41.9136, 219.582 , ...,  20.9148,   3.8976,  19.0344])"
      ]
     },
     "execution_count": 9,
     "metadata": {},
     "output_type": "execute_result"
    }
   ],
   "source": [
    "#checking if replacement has been done\n",
    "Supplies.Profit.unique()"
   ]
  },
  {
   "cell_type": "code",
   "execution_count": 10,
   "id": "f717bd58",
   "metadata": {},
   "outputs": [
    {
     "name": "stdout",
     "output_type": "stream",
     "text": [
      "<class 'pandas.core.frame.DataFrame'>\n",
      "RangeIndex: 9993 entries, 0 to 9992\n",
      "Data columns (total 12 columns):\n",
      " #   Column        Non-Null Count  Dtype  \n",
      "---  ------        --------------  -----  \n",
      " 0   Order ID      9993 non-null   object \n",
      " 1   Order Date    9993 non-null   object \n",
      " 2   Ship Mode     9993 non-null   object \n",
      " 3   Region        9993 non-null   object \n",
      " 4   Product ID    9993 non-null   object \n",
      " 5   Category      9993 non-null   object \n",
      " 6   Sub-Category  9993 non-null   object \n",
      " 7   Product Name  9993 non-null   object \n",
      " 8   Sales         9993 non-null   float64\n",
      " 9   Quantity      9993 non-null   int64  \n",
      " 10  Discount      9993 non-null   float64\n",
      " 11  Profit        9993 non-null   float64\n",
      "dtypes: float64(3), int64(1), object(8)\n",
      "memory usage: 937.0+ KB\n"
     ]
    }
   ],
   "source": [
    "Supplies.info()"
   ]
  },
  {
   "cell_type": "markdown",
   "id": "e4c1123e",
   "metadata": {},
   "source": [
    "The '-' in the Sub-category has to be removed to prevent an error"
   ]
  },
  {
   "cell_type": "code",
   "execution_count": 11,
   "id": "6205726d",
   "metadata": {},
   "outputs": [],
   "source": [
    "# Renaming Sub-category and removing spaces between columns\n",
    "Supplies.columns = ['OrderID', 'OrderDate', 'ShipMode', 'Region', 'ProductID',\n",
    "       'Category', 'SubCategory', 'ProductName', 'Sales', 'Quantity',\n",
    "       'Discount', 'Profit']"
   ]
  },
  {
   "cell_type": "code",
   "execution_count": 15,
   "id": "3064c749",
   "metadata": {},
   "outputs": [
    {
     "data": {
      "text/plain": [
       "Index(['OrderID', 'OrderDate', 'ShipMode', 'Region', 'ProductID', 'Category',\n",
       "       'SubCategory', 'ProductName', 'Sales', 'Quantity', 'Discount',\n",
       "       'Profit'],\n",
       "      dtype='object')"
      ]
     },
     "execution_count": 15,
     "metadata": {},
     "output_type": "execute_result"
    }
   ],
   "source": [
    "#checking if replacement has been done\n",
    "Supplies.columns"
   ]
  },
  {
   "cell_type": "markdown",
   "id": "abeb892d",
   "metadata": {},
   "source": [
    "Now that we have the data cleaned, we can go on with the data analysis"
   ]
  },
  {
   "cell_type": "markdown",
   "id": "b3e1853e",
   "metadata": {},
   "source": [
    "# UNIVARIATE ANALYSIS"
   ]
  },
  {
   "cell_type": "markdown",
   "id": "d633713f",
   "metadata": {},
   "source": [
    "# Profit Analysis"
   ]
  },
  {
   "cell_type": "code",
   "execution_count": 18,
   "id": "b602fe13",
   "metadata": {},
   "outputs": [
    {
     "data": {
      "text/plain": [
       "count    9993.000000\n",
       "mean       22.523152\n",
       "std       203.708204\n",
       "min     -6599.978000\n",
       "25%         0.000000\n",
       "50%         4.884000\n",
       "75%        21.098000\n",
       "max      8399.976000\n",
       "Name: Profit, dtype: float64"
      ]
     },
     "execution_count": 18,
     "metadata": {},
     "output_type": "execute_result"
    }
   ],
   "source": [
    "Supplies.Profit.describe()"
   ]
  },
  {
   "cell_type": "code",
   "execution_count": 19,
   "id": "0225446b",
   "metadata": {},
   "outputs": [
    {
     "data": {
      "image/png": "[encoded data removed]",
      "text/plain": [
       "<Figure size 432x288 with 1 Axes>"
      ]
     },
     "metadata": {
      "needs_background": "light"
     },
     "output_type": "display_data"
    }
   ],
   "source": [
    "plt.hist(Supplies['Profit'], bins = 15)\n",
    "plt.title('PROFIT DISTRIBUTION', size =12)\n",
    "plt.show()"
   ]
  },
  {
   "cell_type": "code",
   "execution_count": 20,
   "id": "b86a013e",
   "metadata": {},
   "outputs": [
    {
     "data": {
      "image/png": "[encoded data removed]",
      "text/plain": [
       "<Figure size 432x288 with 1 Axes>"
      ]
     },
     "metadata": {
      "needs_background": "light"
     },
     "output_type": "display_data"
    }
   ],
   "source": [
    "plt.boxplot(Supplies['Profit'])\n",
    "plt.title('PROFIT DISTRIBUTION', size =12)\n",
    "plt.show()"
   ]
  },
  {
   "cell_type": "markdown",
   "id": "35fa3472",
   "metadata": {},
   "source": [
    "From the distribution, 50% of the profit  is 4.884 cedis. the remaining half of it fell between 4.884 and 8399.976. For 50% of the profit to be 4.884 of products of 9993, it means less profits were being generated."
   ]
  },
  {
   "cell_type": "markdown",
   "id": "0b383a1a",
   "metadata": {},
   "source": [
    "# Sales Analysis"
   ]
  },
  {
   "cell_type": "code",
   "execution_count": 21,
   "id": "80a7d6e1",
   "metadata": {},
   "outputs": [
    {
     "data": {
      "text/plain": [
       "count     9993.000000\n",
       "mean       229.854588\n",
       "std        623.276194\n",
       "min          0.444000\n",
       "25%         17.280000\n",
       "50%         54.480000\n",
       "75%        209.940000\n",
       "max      22638.480000\n",
       "Name: Sales, dtype: float64"
      ]
     },
     "execution_count": 21,
     "metadata": {},
     "output_type": "execute_result"
    }
   ],
   "source": [
    "Supplies.Sales.describe()"
   ]
  },
  {
   "cell_type": "code",
   "execution_count": 22,
   "id": "9ef1ea2b",
   "metadata": {},
   "outputs": [
    {
     "data": {
      "image/png": "[encoded data removed]",
      "text/plain": [
       "<Figure size 432x288 with 1 Axes>"
      ]
     },
     "metadata": {
      "needs_background": "light"
     },
     "output_type": "display_data"
    }
   ],
   "source": [
    "plt.hist(Supplies['Sales'], bins = 15)\n",
    "plt.title('SALES DISTRIBUTION', size =12)\n",
    "plt.show()"
   ]
  },
  {
   "cell_type": "markdown",
   "id": "47fd5da0",
   "metadata": {},
   "source": [
    "From the sales distribution, we can see that 50% of the sales made was 54.48 cedis and the maximum sales made was 22,638.48 cedis. which considering the total number of products, is quite low. We can say the company wasn't making enough sales."
   ]
  },
  {
   "cell_type": "code",
   "execution_count": 23,
   "id": "c536103e",
   "metadata": {},
   "outputs": [
    {
     "data": {
      "text/plain": [
       "count    9993.000000\n",
       "mean        3.789553\n",
       "std         2.225220\n",
       "min         1.000000\n",
       "25%         2.000000\n",
       "50%         3.000000\n",
       "75%         5.000000\n",
       "max        14.000000\n",
       "Name: Quantity, dtype: float64"
      ]
     },
     "execution_count": 23,
     "metadata": {},
     "output_type": "execute_result"
    }
   ],
   "source": [
    "Supplies.Quantity.describe()"
   ]
  },
  {
   "cell_type": "code",
   "execution_count": 24,
   "id": "342712a5",
   "metadata": {},
   "outputs": [
    {
     "data": {
      "image/png": "[encoded data removed]",
      "text/plain": [
       "<Figure size 432x288 with 1 Axes>"
      ]
     },
     "metadata": {
      "needs_background": "light"
     },
     "output_type": "display_data"
    }
   ],
   "source": [
    "plt.hist(Supplies['Quantity'], bins = 15)\n",
    "plt.title('Quantity DISTRIBUTION', size =12)\n",
    "plt.show()"
   ]
  },
  {
   "cell_type": "markdown",
   "id": "c81f98ef",
   "metadata": {},
   "source": [
    "From the quatity distribution, the maximum quantity ordered was 14 products which again looking at the total number of products, was quite low. "
   ]
  },
  {
   "cell_type": "markdown",
   "id": "b60bf44e",
   "metadata": {},
   "source": [
    "# MULTIVARIATE ANALYSIS"
   ]
  },
  {
   "cell_type": "code",
   "execution_count": 28,
   "id": "b6f0eab6",
   "metadata": {},
   "outputs": [
    {
     "data": {
      "image/png": "[encoded data removed]",
      "text/plain": [
       "<Figure size 792x1080 with 1 Axes>"
      ]
     },
     "metadata": {},
     "output_type": "display_data"
    }
   ],
   "source": [
    "Supplies.groupby('Region')['Quantity'].sum().plot(kind= 'pie', figsize =(11,15), fontsize = 8, autopct= '%1.1f%%')\n",
    "plt.show()"
   ]
  },
  {
   "cell_type": "markdown",
   "id": "ca61dc74",
   "metadata": {},
   "source": [
    "From the distribution, we can see the West had the highest quantity of the products ordered whilst the South had the lowest quantity of products ordered."
   ]
  },
  {
   "cell_type": "code",
   "execution_count": 35,
   "id": "d0cb94d5",
   "metadata": {},
   "outputs": [
    {
     "data": {
      "image/png": "[encoded data removed]",
      "text/plain": [
       "<Figure size 792x1080 with 1 Axes>"
      ]
     },
     "metadata": {},
     "output_type": "display_data"
    }
   ],
   "source": [
    "Supplies.groupby('Region')['Sales'].sum().plot(kind= 'pie', figsize =(11,15), fontsize = 8, autopct= '%1.1f%%')\n",
    "plt.show()"
   ]
  },
  {
   "cell_type": "code",
   "execution_count": 34,
   "id": "9da56c43",
   "metadata": {},
   "outputs": [
    {
     "data": {
      "image/png": "[encoded data removed]",
      "text/plain": [
       "<Figure size 792x1080 with 1 Axes>"
      ]
     },
     "metadata": {},
     "output_type": "display_data"
    }
   ],
   "source": [
    "Supplies.groupby('Region')['Profit'].sum().plot(kind= 'pie', figsize =(11,15), fontsize = 8, autopct= '%1.1f%%')\n",
    "plt.show()"
   ]
  },
  {
   "cell_type": "markdown",
   "id": "3981d08f",
   "metadata": {},
   "source": [
    "The most profit was generated from the West considering it was the region with the highest orders.\n",
    "\n"
   ]
  },
  {
   "cell_type": "code",
   "execution_count": 50,
   "id": "53869ca6",
   "metadata": {},
   "outputs": [
    {
     "data": {
      "image/png": "[encoded data removed]",
      "text/plain": [
       "<Figure size 792x1080 with 1 Axes>"
      ]
     },
     "metadata": {},
     "output_type": "display_data"
    }
   ],
   "source": [
    "Supplies.groupby('Region')['Discount'].sum().plot(kind= 'pie', figsize =(11,15), fontsize = 8, autopct= '%1.1f%%')\n",
    "plt.show()"
   ]
  },
  {
   "cell_type": "markdown",
   "id": "d7c01d7e",
   "metadata": {},
   "source": [
    "Discounts were given more to those in the Central Region than those in the other regions."
   ]
  },
  {
   "cell_type": "code",
   "execution_count": 39,
   "id": "27217a4d",
   "metadata": {},
   "outputs": [
    {
     "data": {
      "text/html": [
       "<div>\n",
       "<style scoped>\n",
       "    .dataframe tbody tr th:only-of-type {\n",
       "        vertical-align: middle;\n",
       "    }\n",
       "\n",
       "    .dataframe tbody tr th {\n",
       "        vertical-align: top;\n",
       "    }\n",
       "\n",
       "    .dataframe thead th {\n",
       "        text-align: right;\n",
       "    }\n",
       "</style>\n",
       "<table border=\"1\" class=\"dataframe\">\n",
       "  <thead>\n",
       "    <tr style=\"text-align: right;\">\n",
       "      <th></th>\n",
       "      <th>ProductName</th>\n",
       "      <th>Quantity</th>\n",
       "    </tr>\n",
       "    <tr>\n",
       "      <th>Region</th>\n",
       "      <th></th>\n",
       "      <th></th>\n",
       "    </tr>\n",
       "  </thead>\n",
       "  <tbody>\n",
       "    <tr>\n",
       "      <th>Central</th>\n",
       "      <td>netTALK DUO VoIP Telephone Service</td>\n",
       "      <td>14</td>\n",
       "    </tr>\n",
       "    <tr>\n",
       "      <th>East</th>\n",
       "      <td>netTALK DUO VoIP Telephone Service</td>\n",
       "      <td>14</td>\n",
       "    </tr>\n",
       "    <tr>\n",
       "      <th>South</th>\n",
       "      <td>iOttie XL Car Mount</td>\n",
       "      <td>14</td>\n",
       "    </tr>\n",
       "    <tr>\n",
       "      <th>West</th>\n",
       "      <td>netTALK DUO VoIP Telephone Service</td>\n",
       "      <td>14</td>\n",
       "    </tr>\n",
       "  </tbody>\n",
       "</table>\n",
       "</div>"
      ],
      "text/plain": [
       "                                ProductName  Quantity\n",
       "Region                                               \n",
       "Central  netTALK DUO VoIP Telephone Service        14\n",
       "East     netTALK DUO VoIP Telephone Service        14\n",
       "South                   iOttie XL Car Mount        14\n",
       "West     netTALK DUO VoIP Telephone Service        14"
      ]
     },
     "execution_count": 39,
     "metadata": {},
     "output_type": "execute_result"
    }
   ],
   "source": [
    "Supplies.groupby(['Region'])[['ProductName','Quantity']].max()"
   ]
  },
  {
   "cell_type": "markdown",
   "id": "9e25cd28",
   "metadata": {},
   "source": [
    "we can see that Telephone Service was popular in the CENTRAL,EAST and WEST parts and iottie XL car mount was popular in the South"
   ]
  },
  {
   "cell_type": "code",
   "execution_count": 40,
   "id": "b8eb76e4",
   "metadata": {},
   "outputs": [
    {
     "data": {
      "text/html": [
       "<div>\n",
       "<style scoped>\n",
       "    .dataframe tbody tr th:only-of-type {\n",
       "        vertical-align: middle;\n",
       "    }\n",
       "\n",
       "    .dataframe tbody tr th {\n",
       "        vertical-align: top;\n",
       "    }\n",
       "\n",
       "    .dataframe thead th {\n",
       "        text-align: right;\n",
       "    }\n",
       "</style>\n",
       "<table border=\"1\" class=\"dataframe\">\n",
       "  <thead>\n",
       "    <tr style=\"text-align: right;\">\n",
       "      <th></th>\n",
       "      <th>ProductName</th>\n",
       "      <th>Quantity</th>\n",
       "    </tr>\n",
       "    <tr>\n",
       "      <th>Region</th>\n",
       "      <th></th>\n",
       "      <th></th>\n",
       "    </tr>\n",
       "  </thead>\n",
       "  <tbody>\n",
       "    <tr>\n",
       "      <th>Central</th>\n",
       "      <td>\"While you Were Out\" Message Book, One Form pe...</td>\n",
       "      <td>1</td>\n",
       "    </tr>\n",
       "    <tr>\n",
       "      <th>East</th>\n",
       "      <td>#10 Gummed Flap White Envelopes, 100/Box</td>\n",
       "      <td>1</td>\n",
       "    </tr>\n",
       "    <tr>\n",
       "      <th>South</th>\n",
       "      <td>\"While you Were Out\" Message Book, One Form pe...</td>\n",
       "      <td>1</td>\n",
       "    </tr>\n",
       "    <tr>\n",
       "      <th>West</th>\n",
       "      <td>\"While you Were Out\" Message Book, One Form pe...</td>\n",
       "      <td>1</td>\n",
       "    </tr>\n",
       "  </tbody>\n",
       "</table>\n",
       "</div>"
      ],
      "text/plain": [
       "                                               ProductName  Quantity\n",
       "Region                                                              \n",
       "Central  \"While you Were Out\" Message Book, One Form pe...         1\n",
       "East              #10 Gummed Flap White Envelopes, 100/Box         1\n",
       "South    \"While you Were Out\" Message Book, One Form pe...         1\n",
       "West     \"While you Were Out\" Message Book, One Form pe...         1"
      ]
     },
     "execution_count": 40,
     "metadata": {},
     "output_type": "execute_result"
    }
   ],
   "source": [
    "Supplies.groupby(['Region'])[['ProductName','Quantity']].min()"
   ]
  },
  {
   "cell_type": "markdown",
   "id": "a9991875",
   "metadata": {},
   "source": [
    "We can also see that \"While you were out\" Message book was the least popular product in the CENTRAL, SOUTH AND WEST part and #10 Gummed Flap white envelopes were the least popular in the East"
   ]
  },
  {
   "cell_type": "code",
   "execution_count": 45,
   "id": "4e88f08f",
   "metadata": {},
   "outputs": [
    {
     "data": {
      "text/html": [
       "<div>\n",
       "<style scoped>\n",
       "    .dataframe tbody tr th:only-of-type {\n",
       "        vertical-align: middle;\n",
       "    }\n",
       "\n",
       "    .dataframe tbody tr th {\n",
       "        vertical-align: top;\n",
       "    }\n",
       "\n",
       "    .dataframe thead th {\n",
       "        text-align: right;\n",
       "    }\n",
       "</style>\n",
       "<table border=\"1\" class=\"dataframe\">\n",
       "  <thead>\n",
       "    <tr style=\"text-align: right;\">\n",
       "      <th></th>\n",
       "      <th>ProductName</th>\n",
       "      <th>Sales</th>\n",
       "    </tr>\n",
       "    <tr>\n",
       "      <th>Region</th>\n",
       "      <th></th>\n",
       "      <th></th>\n",
       "    </tr>\n",
       "  </thead>\n",
       "  <tbody>\n",
       "    <tr>\n",
       "      <th>Central</th>\n",
       "      <td>netTALK DUO VoIP Telephone Service</td>\n",
       "      <td>17499.950</td>\n",
       "    </tr>\n",
       "    <tr>\n",
       "      <th>East</th>\n",
       "      <td>netTALK DUO VoIP Telephone Service</td>\n",
       "      <td>11199.968</td>\n",
       "    </tr>\n",
       "    <tr>\n",
       "      <th>South</th>\n",
       "      <td>iOttie XL Car Mount</td>\n",
       "      <td>22638.480</td>\n",
       "    </tr>\n",
       "    <tr>\n",
       "      <th>West</th>\n",
       "      <td>netTALK DUO VoIP Telephone Service</td>\n",
       "      <td>13999.960</td>\n",
       "    </tr>\n",
       "  </tbody>\n",
       "</table>\n",
       "</div>"
      ],
      "text/plain": [
       "                                ProductName      Sales\n",
       "Region                                                \n",
       "Central  netTALK DUO VoIP Telephone Service  17499.950\n",
       "East     netTALK DUO VoIP Telephone Service  11199.968\n",
       "South                   iOttie XL Car Mount  22638.480\n",
       "West     netTALK DUO VoIP Telephone Service  13999.960"
      ]
     },
     "execution_count": 45,
     "metadata": {},
     "output_type": "execute_result"
    }
   ],
   "source": [
    "#finding the region with the maximum sale\n",
    "Supplies.groupby(['Region'])[['ProductName','Sales']].max()"
   ]
  },
  {
   "cell_type": "code",
   "execution_count": 46,
   "id": "1b84c403",
   "metadata": {},
   "outputs": [
    {
     "data": {
      "text/html": [
       "<div>\n",
       "<style scoped>\n",
       "    .dataframe tbody tr th:only-of-type {\n",
       "        vertical-align: middle;\n",
       "    }\n",
       "\n",
       "    .dataframe tbody tr th {\n",
       "        vertical-align: top;\n",
       "    }\n",
       "\n",
       "    .dataframe thead th {\n",
       "        text-align: right;\n",
       "    }\n",
       "</style>\n",
       "<table border=\"1\" class=\"dataframe\">\n",
       "  <thead>\n",
       "    <tr style=\"text-align: right;\">\n",
       "      <th></th>\n",
       "      <th>ProductName</th>\n",
       "      <th>Sales</th>\n",
       "    </tr>\n",
       "    <tr>\n",
       "      <th>Region</th>\n",
       "      <th></th>\n",
       "      <th></th>\n",
       "    </tr>\n",
       "  </thead>\n",
       "  <tbody>\n",
       "    <tr>\n",
       "      <th>Central</th>\n",
       "      <td>\"While you Were Out\" Message Book, One Form pe...</td>\n",
       "      <td>0.444</td>\n",
       "    </tr>\n",
       "    <tr>\n",
       "      <th>East</th>\n",
       "      <td>#10 Gummed Flap White Envelopes, 100/Box</td>\n",
       "      <td>0.852</td>\n",
       "    </tr>\n",
       "    <tr>\n",
       "      <th>South</th>\n",
       "      <td>\"While you Were Out\" Message Book, One Form pe...</td>\n",
       "      <td>1.167</td>\n",
       "    </tr>\n",
       "    <tr>\n",
       "      <th>West</th>\n",
       "      <td>\"While you Were Out\" Message Book, One Form pe...</td>\n",
       "      <td>0.990</td>\n",
       "    </tr>\n",
       "  </tbody>\n",
       "</table>\n",
       "</div>"
      ],
      "text/plain": [
       "                                               ProductName  Sales\n",
       "Region                                                           \n",
       "Central  \"While you Were Out\" Message Book, One Form pe...  0.444\n",
       "East              #10 Gummed Flap White Envelopes, 100/Box  0.852\n",
       "South    \"While you Were Out\" Message Book, One Form pe...  1.167\n",
       "West     \"While you Were Out\" Message Book, One Form pe...  0.990"
      ]
     },
     "execution_count": 46,
     "metadata": {},
     "output_type": "execute_result"
    }
   ],
   "source": [
    "#finding the region with the lowest sale\n",
    "Supplies.groupby(['Region'])[['ProductName','Sales']].min()"
   ]
  },
  {
   "cell_type": "markdown",
   "id": "8117a5c0",
   "metadata": {},
   "source": [
    " As stated above, these products were not just popular in these Regions they were also the most sold in these regions. Also, the least poppular products were also the least sold products in the regions"
   ]
  },
  {
   "cell_type": "code",
   "execution_count": 48,
   "id": "874d3ea2",
   "metadata": {},
   "outputs": [
    {
     "data": {
      "text/html": [
       "<div>\n",
       "<style scoped>\n",
       "    .dataframe tbody tr th:only-of-type {\n",
       "        vertical-align: middle;\n",
       "    }\n",
       "\n",
       "    .dataframe tbody tr th {\n",
       "        vertical-align: top;\n",
       "    }\n",
       "\n",
       "    .dataframe thead th {\n",
       "        text-align: right;\n",
       "    }\n",
       "</style>\n",
       "<table border=\"1\" class=\"dataframe\">\n",
       "  <thead>\n",
       "    <tr style=\"text-align: right;\">\n",
       "      <th></th>\n",
       "      <th>Category</th>\n",
       "      <th>Quantity</th>\n",
       "    </tr>\n",
       "    <tr>\n",
       "      <th>Region</th>\n",
       "      <th></th>\n",
       "      <th></th>\n",
       "    </tr>\n",
       "  </thead>\n",
       "  <tbody>\n",
       "    <tr>\n",
       "      <th>Central</th>\n",
       "      <td>Technology</td>\n",
       "      <td>14</td>\n",
       "    </tr>\n",
       "    <tr>\n",
       "      <th>East</th>\n",
       "      <td>Technology</td>\n",
       "      <td>14</td>\n",
       "    </tr>\n",
       "    <tr>\n",
       "      <th>South</th>\n",
       "      <td>Technology</td>\n",
       "      <td>14</td>\n",
       "    </tr>\n",
       "    <tr>\n",
       "      <th>West</th>\n",
       "      <td>Technology</td>\n",
       "      <td>14</td>\n",
       "    </tr>\n",
       "  </tbody>\n",
       "</table>\n",
       "</div>"
      ],
      "text/plain": [
       "           Category  Quantity\n",
       "Region                       \n",
       "Central  Technology        14\n",
       "East     Technology        14\n",
       "South    Technology        14\n",
       "West     Technology        14"
      ]
     },
     "execution_count": 48,
     "metadata": {},
     "output_type": "execute_result"
    }
   ],
   "source": [
    "#finding the region with the popular product\n",
    "Supplies.groupby(['Region'])[['Category','Quantity']].max()"
   ]
  },
  {
   "cell_type": "code",
   "execution_count": 49,
   "id": "9e095b5e",
   "metadata": {},
   "outputs": [
    {
     "data": {
      "text/html": [
       "<div>\n",
       "<style scoped>\n",
       "    .dataframe tbody tr th:only-of-type {\n",
       "        vertical-align: middle;\n",
       "    }\n",
       "\n",
       "    .dataframe tbody tr th {\n",
       "        vertical-align: top;\n",
       "    }\n",
       "\n",
       "    .dataframe thead th {\n",
       "        text-align: right;\n",
       "    }\n",
       "</style>\n",
       "<table border=\"1\" class=\"dataframe\">\n",
       "  <thead>\n",
       "    <tr style=\"text-align: right;\">\n",
       "      <th></th>\n",
       "      <th>Category</th>\n",
       "      <th>Quantity</th>\n",
       "    </tr>\n",
       "    <tr>\n",
       "      <th>Region</th>\n",
       "      <th></th>\n",
       "      <th></th>\n",
       "    </tr>\n",
       "  </thead>\n",
       "  <tbody>\n",
       "    <tr>\n",
       "      <th>Central</th>\n",
       "      <td>Furniture</td>\n",
       "      <td>1</td>\n",
       "    </tr>\n",
       "    <tr>\n",
       "      <th>East</th>\n",
       "      <td>Furniture</td>\n",
       "      <td>1</td>\n",
       "    </tr>\n",
       "    <tr>\n",
       "      <th>South</th>\n",
       "      <td>Furniture</td>\n",
       "      <td>1</td>\n",
       "    </tr>\n",
       "    <tr>\n",
       "      <th>West</th>\n",
       "      <td>Furniture</td>\n",
       "      <td>1</td>\n",
       "    </tr>\n",
       "  </tbody>\n",
       "</table>\n",
       "</div>"
      ],
      "text/plain": [
       "          Category  Quantity\n",
       "Region                      \n",
       "Central  Furniture         1\n",
       "East     Furniture         1\n",
       "South    Furniture         1\n",
       "West     Furniture         1"
      ]
     },
     "execution_count": 49,
     "metadata": {},
     "output_type": "execute_result"
    }
   ],
   "source": [
    "#finding the region with the least popular products\n",
    "Supplies.groupby(['Region'])[['Category','Quantity']].min()"
   ]
  },
  {
   "cell_type": "markdown",
   "id": "9b113930",
   "metadata": {},
   "source": [
    "Looking at the categories, we can see that Technological products were  the most sold in all the regions whilst Furniture were the least sold in all the regions"
   ]
  },
  {
   "cell_type": "code",
   "execution_count": 55,
   "id": "37383db0",
   "metadata": {},
   "outputs": [
    {
     "data": {
      "text/html": [
       "<div>\n",
       "<style scoped>\n",
       "    .dataframe tbody tr th:only-of-type {\n",
       "        vertical-align: middle;\n",
       "    }\n",
       "\n",
       "    .dataframe tbody tr th {\n",
       "        vertical-align: top;\n",
       "    }\n",
       "\n",
       "    .dataframe thead th {\n",
       "        text-align: right;\n",
       "    }\n",
       "</style>\n",
       "<table border=\"1\" class=\"dataframe\">\n",
       "  <thead>\n",
       "    <tr style=\"text-align: right;\">\n",
       "      <th></th>\n",
       "      <th>Sales</th>\n",
       "      <th>Quantity</th>\n",
       "      <th>Discount</th>\n",
       "      <th>Profit</th>\n",
       "    </tr>\n",
       "  </thead>\n",
       "  <tbody>\n",
       "    <tr>\n",
       "      <th>Sales</th>\n",
       "      <td>1.000000</td>\n",
       "      <td>0.200794</td>\n",
       "      <td>-0.028187</td>\n",
       "      <td>0.369184</td>\n",
       "    </tr>\n",
       "    <tr>\n",
       "      <th>Quantity</th>\n",
       "      <td>0.200794</td>\n",
       "      <td>1.000000</td>\n",
       "      <td>0.008630</td>\n",
       "      <td>0.056094</td>\n",
       "    </tr>\n",
       "    <tr>\n",
       "      <th>Discount</th>\n",
       "      <td>-0.028187</td>\n",
       "      <td>0.008630</td>\n",
       "      <td>1.000000</td>\n",
       "      <td>-0.203648</td>\n",
       "    </tr>\n",
       "    <tr>\n",
       "      <th>Profit</th>\n",
       "      <td>0.369184</td>\n",
       "      <td>0.056094</td>\n",
       "      <td>-0.203648</td>\n",
       "      <td>1.000000</td>\n",
       "    </tr>\n",
       "  </tbody>\n",
       "</table>\n",
       "</div>"
      ],
      "text/plain": [
       "             Sales  Quantity  Discount    Profit\n",
       "Sales     1.000000  0.200794 -0.028187  0.369184\n",
       "Quantity  0.200794  1.000000  0.008630  0.056094\n",
       "Discount -0.028187  0.008630  1.000000 -0.203648\n",
       "Profit    0.369184  0.056094 -0.203648  1.000000"
      ]
     },
     "execution_count": 55,
     "metadata": {},
     "output_type": "execute_result"
    }
   ],
   "source": [
    " Supplies.corr()"
   ]
  },
  {
   "cell_type": "markdown",
   "id": "cac00309",
   "metadata": {},
   "source": [
    "The correlation between the columns are fairly positive except between sales and discount and profit and discount which are weak negatives."
   ]
  },
  {
   "cell_type": "markdown",
   "id": "b8b6835c",
   "metadata": {},
   "source": [
    "*Looking at the analysis of the data, we can see that the maximum quantity per order was quite low making the sales and the profits also low. The percentages of sales and profit of the region with the highest orders were 31.6% and 35.4% respectively which are quite low. To entice the Regions with low patronage to buy more, i think they should be given more discount to encourage them to buy more as discounts in these regions were not that high*  "
   ]
  },
  {
   "cell_type": "code",
   "execution_count": null,
   "id": "63c77f97",
   "metadata": {},
   "outputs": [],
   "source": []
  }
 ],
 "metadata": {
  "kernelspec": {
   "display_name": "Python 3 (ipykernel)",
   "language": "python",
   "name": "python3"
  },
  "language_info": {
   "codemirror_mode": {
    "name": "ipython",
    "version": 3
   },
   "file_extension": ".py",
   "mimetype": "text/x-python",
   "name": "python",
   "nbconvert_exporter": "python",
   "pygments_lexer": "ipython3",
   "version": "3.9.7"
  }
 },
 "nbformat": 4,
 "nbformat_minor": 5
}
