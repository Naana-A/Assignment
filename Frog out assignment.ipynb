{
 "cells": [
  {
   "cell_type": "markdown",
   "id": "aecdda2c",
   "metadata": {},
   "source": [
    "# importing libraries"
   ]
  },
  {
   "cell_type": "code",
   "execution_count": 1,
   "id": "39b846a7",
   "metadata": {},
   "outputs": [],
   "source": [
    "#importing libraries\n",
    "import pandas as pd\n",
    "import numpy as np\n",
    "import matplotlib.pyplot as plt"
   ]
  },
  {
   "cell_type": "code",
   "execution_count": 2,
   "id": "0561bd65",
   "metadata": {},
   "outputs": [
    {
     "data": {
      "text/html": [
       "<div>\n",
       "<style scoped>\n",
       "    .dataframe tbody tr th:only-of-type {\n",
       "        vertical-align: middle;\n",
       "    }\n",
       "\n",
       "    .dataframe tbody tr th {\n",
       "        vertical-align: top;\n",
       "    }\n",
       "\n",
       "    .dataframe thead th {\n",
       "        text-align: right;\n",
       "    }\n",
       "</style>\n",
       "<table border=\"1\" class=\"dataframe\">\n",
       "  <thead>\n",
       "    <tr style=\"text-align: right;\">\n",
       "      <th></th>\n",
       "      <th>Unnamed: 0</th>\n",
       "      <th>gbifID</th>\n",
       "      <th>eventDate</th>\n",
       "      <th>country</th>\n",
       "      <th>continent</th>\n",
       "      <th>stateProvince</th>\n",
       "      <th>decimalLatitude</th>\n",
       "      <th>decimalLongitude</th>\n",
       "      <th>species</th>\n",
       "    </tr>\n",
       "  </thead>\n",
       "  <tbody>\n",
       "    <tr>\n",
       "      <th>0</th>\n",
       "      <td>0</td>\n",
       "      <td>2574007008</td>\n",
       "      <td>1/23/2020 1:38</td>\n",
       "      <td>Australia</td>\n",
       "      <td>Australia</td>\n",
       "      <td>New South Wales</td>\n",
       "      <td>-32.719457</td>\n",
       "      <td>152.159267</td>\n",
       "      <td>Litoria Fallax</td>\n",
       "    </tr>\n",
       "    <tr>\n",
       "      <th>1</th>\n",
       "      <td>1</td>\n",
       "      <td>3457021422</td>\n",
       "      <td>3/14/2010 22:23</td>\n",
       "      <td>Costa Rica</td>\n",
       "      <td>Central America</td>\n",
       "      <td>Puntarenas</td>\n",
       "      <td>8.496999</td>\n",
       "      <td>-83.318613</td>\n",
       "      <td>Agalychnis Callidryas</td>\n",
       "    </tr>\n",
       "    <tr>\n",
       "      <th>2</th>\n",
       "      <td>2</td>\n",
       "      <td>1571195309</td>\n",
       "      <td>4/11/2014 19:51</td>\n",
       "      <td>Costa Rica</td>\n",
       "      <td>Central America</td>\n",
       "      <td>Heredia</td>\n",
       "      <td>10.450801</td>\n",
       "      <td>-84.068659</td>\n",
       "      <td>Agalychnis Callidryas</td>\n",
       "    </tr>\n",
       "    <tr>\n",
       "      <th>3</th>\n",
       "      <td>3</td>\n",
       "      <td>2265778539</td>\n",
       "      <td>7/21/2018 21:24</td>\n",
       "      <td>Costa Rica</td>\n",
       "      <td>Central America</td>\n",
       "      <td>Puntarenas</td>\n",
       "      <td>9.756705</td>\n",
       "      <td>-84.613363</td>\n",
       "      <td>Agalychnis Callidryas</td>\n",
       "    </tr>\n",
       "    <tr>\n",
       "      <th>4</th>\n",
       "      <td>4</td>\n",
       "      <td>3407962690</td>\n",
       "      <td>10/29/2021 13:57</td>\n",
       "      <td>Australia</td>\n",
       "      <td>Australia</td>\n",
       "      <td>Queensland</td>\n",
       "      <td>-26.714302</td>\n",
       "      <td>152.815096</td>\n",
       "      <td>Litoria Fallax</td>\n",
       "    </tr>\n",
       "  </tbody>\n",
       "</table>\n",
       "</div>"
      ],
      "text/plain": [
       "   Unnamed: 0      gbifID         eventDate     country        continent  \\\n",
       "0           0  2574007008    1/23/2020 1:38   Australia        Australia   \n",
       "1           1  3457021422   3/14/2010 22:23  Costa Rica  Central America   \n",
       "2           2  1571195309   4/11/2014 19:51  Costa Rica  Central America   \n",
       "3           3  2265778539   7/21/2018 21:24  Costa Rica  Central America   \n",
       "4           4  3407962690  10/29/2021 13:57   Australia        Australia   \n",
       "\n",
       "     stateProvince  decimalLatitude  decimalLongitude                species  \n",
       "0  New South Wales       -32.719457        152.159267         Litoria Fallax  \n",
       "1       Puntarenas         8.496999        -83.318613  Agalychnis Callidryas  \n",
       "2          Heredia        10.450801        -84.068659  Agalychnis Callidryas  \n",
       "3       Puntarenas         9.756705        -84.613363  Agalychnis Callidryas  \n",
       "4       Queensland       -26.714302        152.815096         Litoria Fallax  "
      ]
     },
     "execution_count": 2,
     "metadata": {},
     "output_type": "execute_result"
    }
   ],
   "source": [
    "# importing the datasets\n",
    "frogdata= pd.read_csv(\"all_frog_data.csv\")\n",
    "frogdata.head()"
   ]
  },
  {
   "cell_type": "code",
   "execution_count": 3,
   "id": "6e7ecf95",
   "metadata": {
    "scrolled": true
   },
   "outputs": [
    {
     "data": {
      "text/html": [
       "<div>\n",
       "<style scoped>\n",
       "    .dataframe tbody tr th:only-of-type {\n",
       "        vertical-align: middle;\n",
       "    }\n",
       "\n",
       "    .dataframe tbody tr th {\n",
       "        vertical-align: top;\n",
       "    }\n",
       "\n",
       "    .dataframe thead th {\n",
       "        text-align: right;\n",
       "    }\n",
       "</style>\n",
       "<table border=\"1\" class=\"dataframe\">\n",
       "  <thead>\n",
       "    <tr style=\"text-align: right;\">\n",
       "      <th></th>\n",
       "      <th>Unnamed: 0</th>\n",
       "      <th>gbifID</th>\n",
       "      <th>country</th>\n",
       "      <th>continent</th>\n",
       "      <th>decimalLatitude</th>\n",
       "      <th>decimalLongitude</th>\n",
       "      <th>species</th>\n",
       "      <th>occurrenceStatus</th>\n",
       "      <th>key</th>\n",
       "      <th>ppt_mean</th>\n",
       "      <th>soil_mean</th>\n",
       "      <th>tmax_mean</th>\n",
       "      <th>tmin_mean</th>\n",
       "    </tr>\n",
       "  </thead>\n",
       "  <tbody>\n",
       "    <tr>\n",
       "      <th>0</th>\n",
       "      <td>0</td>\n",
       "      <td>2574007008</td>\n",
       "      <td>Australia</td>\n",
       "      <td>Australia</td>\n",
       "      <td>-32.719457</td>\n",
       "      <td>152.159267</td>\n",
       "      <td>Litoria Fallax</td>\n",
       "      <td>1</td>\n",
       "      <td>0</td>\n",
       "      <td>96.00000</td>\n",
       "      <td>118.71667</td>\n",
       "      <td>23.830004</td>\n",
       "      <td>13.908336</td>\n",
       "    </tr>\n",
       "    <tr>\n",
       "      <th>1</th>\n",
       "      <td>1</td>\n",
       "      <td>3457021422</td>\n",
       "      <td>Costa Rica</td>\n",
       "      <td>Central America</td>\n",
       "      <td>8.496999</td>\n",
       "      <td>-83.318613</td>\n",
       "      <td>Agalychnis Callidryas</td>\n",
       "      <td>0</td>\n",
       "      <td>1</td>\n",
       "      <td>231.51666</td>\n",
       "      <td>131.88333</td>\n",
       "      <td>31.841667</td>\n",
       "      <td>21.111668</td>\n",
       "    </tr>\n",
       "    <tr>\n",
       "      <th>2</th>\n",
       "      <td>2</td>\n",
       "      <td>1571195309</td>\n",
       "      <td>Costa Rica</td>\n",
       "      <td>Central America</td>\n",
       "      <td>10.450801</td>\n",
       "      <td>-84.068659</td>\n",
       "      <td>Agalychnis Callidryas</td>\n",
       "      <td>0</td>\n",
       "      <td>2</td>\n",
       "      <td>279.20000</td>\n",
       "      <td>51.70000</td>\n",
       "      <td>31.341671</td>\n",
       "      <td>22.455004</td>\n",
       "    </tr>\n",
       "    <tr>\n",
       "      <th>3</th>\n",
       "      <td>3</td>\n",
       "      <td>2265778539</td>\n",
       "      <td>Costa Rica</td>\n",
       "      <td>Central America</td>\n",
       "      <td>9.756705</td>\n",
       "      <td>-84.613363</td>\n",
       "      <td>Agalychnis Callidryas</td>\n",
       "      <td>0</td>\n",
       "      <td>3</td>\n",
       "      <td>192.10000</td>\n",
       "      <td>171.81667</td>\n",
       "      <td>31.043331</td>\n",
       "      <td>20.061670</td>\n",
       "    </tr>\n",
       "    <tr>\n",
       "      <th>4</th>\n",
       "      <td>4</td>\n",
       "      <td>3407962690</td>\n",
       "      <td>Australia</td>\n",
       "      <td>Australia</td>\n",
       "      <td>-26.714302</td>\n",
       "      <td>152.815096</td>\n",
       "      <td>Litoria Fallax</td>\n",
       "      <td>1</td>\n",
       "      <td>4</td>\n",
       "      <td>84.80000</td>\n",
       "      <td>111.61667</td>\n",
       "      <td>25.933338</td>\n",
       "      <td>13.801668</td>\n",
       "    </tr>\n",
       "  </tbody>\n",
       "</table>\n",
       "</div>"
      ],
      "text/plain": [
       "   Unnamed: 0      gbifID     country        continent  decimalLatitude  \\\n",
       "0           0  2574007008   Australia        Australia       -32.719457   \n",
       "1           1  3457021422  Costa Rica  Central America         8.496999   \n",
       "2           2  1571195309  Costa Rica  Central America        10.450801   \n",
       "3           3  2265778539  Costa Rica  Central America         9.756705   \n",
       "4           4  3407962690   Australia        Australia       -26.714302   \n",
       "\n",
       "   decimalLongitude                species  occurrenceStatus  key   ppt_mean  \\\n",
       "0        152.159267         Litoria Fallax                 1    0   96.00000   \n",
       "1        -83.318613  Agalychnis Callidryas                 0    1  231.51666   \n",
       "2        -84.068659  Agalychnis Callidryas                 0    2  279.20000   \n",
       "3        -84.613363  Agalychnis Callidryas                 0    3  192.10000   \n",
       "4        152.815096         Litoria Fallax                 1    4   84.80000   \n",
       "\n",
       "   soil_mean  tmax_mean  tmin_mean  \n",
       "0  118.71667  23.830004  13.908336  \n",
       "1  131.88333  31.841667  21.111668  \n",
       "2   51.70000  31.341671  22.455004  \n",
       "3  171.81667  31.043331  20.061670  \n",
       "4  111.61667  25.933338  13.801668  "
      ]
     },
     "execution_count": 3,
     "metadata": {},
     "output_type": "execute_result"
    }
   ],
   "source": [
    "ML= pd.read_csv(\"All_MLOut_new.csv\")\n",
    "ML.head()"
   ]
  },
  {
   "cell_type": "markdown",
   "id": "a9d4bb7b",
   "metadata": {},
   "source": [
    "since both of the data set contain some common columns, we will drop the common columns so it doesnt duplicate before we merge them"
   ]
  },
  {
   "cell_type": "code",
   "execution_count": 4,
   "id": "1877bb54",
   "metadata": {},
   "outputs": [
    {
     "data": {
      "text/html": [
       "<div>\n",
       "<style scoped>\n",
       "    .dataframe tbody tr th:only-of-type {\n",
       "        vertical-align: middle;\n",
       "    }\n",
       "\n",
       "    .dataframe tbody tr th {\n",
       "        vertical-align: top;\n",
       "    }\n",
       "\n",
       "    .dataframe thead th {\n",
       "        text-align: right;\n",
       "    }\n",
       "</style>\n",
       "<table border=\"1\" class=\"dataframe\">\n",
       "  <thead>\n",
       "    <tr style=\"text-align: right;\">\n",
       "      <th></th>\n",
       "      <th>gbifID</th>\n",
       "      <th>eventDate</th>\n",
       "      <th>stateProvince</th>\n",
       "    </tr>\n",
       "  </thead>\n",
       "  <tbody>\n",
       "    <tr>\n",
       "      <th>0</th>\n",
       "      <td>2574007008</td>\n",
       "      <td>1/23/2020 1:38</td>\n",
       "      <td>New South Wales</td>\n",
       "    </tr>\n",
       "    <tr>\n",
       "      <th>1</th>\n",
       "      <td>3457021422</td>\n",
       "      <td>3/14/2010 22:23</td>\n",
       "      <td>Puntarenas</td>\n",
       "    </tr>\n",
       "    <tr>\n",
       "      <th>2</th>\n",
       "      <td>1571195309</td>\n",
       "      <td>4/11/2014 19:51</td>\n",
       "      <td>Heredia</td>\n",
       "    </tr>\n",
       "    <tr>\n",
       "      <th>3</th>\n",
       "      <td>2265778539</td>\n",
       "      <td>7/21/2018 21:24</td>\n",
       "      <td>Puntarenas</td>\n",
       "    </tr>\n",
       "    <tr>\n",
       "      <th>4</th>\n",
       "      <td>3407962690</td>\n",
       "      <td>10/29/2021 13:57</td>\n",
       "      <td>Queensland</td>\n",
       "    </tr>\n",
       "    <tr>\n",
       "      <th>...</th>\n",
       "      <td>...</td>\n",
       "      <td>...</td>\n",
       "      <td>...</td>\n",
       "    </tr>\n",
       "    <tr>\n",
       "      <th>193786</th>\n",
       "      <td>1322002619</td>\n",
       "      <td>NaN</td>\n",
       "      <td>Panamá</td>\n",
       "    </tr>\n",
       "    <tr>\n",
       "      <th>193787</th>\n",
       "      <td>1319899134</td>\n",
       "      <td>4/1/1937 0:00</td>\n",
       "      <td>Panamá</td>\n",
       "    </tr>\n",
       "    <tr>\n",
       "      <th>193788</th>\n",
       "      <td>1318901755</td>\n",
       "      <td>4/5/1937 0:00</td>\n",
       "      <td>Panamá</td>\n",
       "    </tr>\n",
       "    <tr>\n",
       "      <th>193789</th>\n",
       "      <td>1322299951</td>\n",
       "      <td>7/9/2002 0:00</td>\n",
       "      <td>Gracias a Dios</td>\n",
       "    </tr>\n",
       "    <tr>\n",
       "      <th>193790</th>\n",
       "      <td>1320529451</td>\n",
       "      <td>10/11/2001 0:00</td>\n",
       "      <td>Gracias a Dios</td>\n",
       "    </tr>\n",
       "  </tbody>\n",
       "</table>\n",
       "<p>193791 rows × 3 columns</p>\n",
       "</div>"
      ],
      "text/plain": [
       "            gbifID         eventDate    stateProvince\n",
       "0       2574007008    1/23/2020 1:38  New South Wales\n",
       "1       3457021422   3/14/2010 22:23       Puntarenas\n",
       "2       1571195309   4/11/2014 19:51          Heredia\n",
       "3       2265778539   7/21/2018 21:24       Puntarenas\n",
       "4       3407962690  10/29/2021 13:57       Queensland\n",
       "...            ...               ...              ...\n",
       "193786  1322002619               NaN           Panamá\n",
       "193787  1319899134     4/1/1937 0:00           Panamá\n",
       "193788  1318901755     4/5/1937 0:00           Panamá\n",
       "193789  1322299951     7/9/2002 0:00   Gracias a Dios\n",
       "193790  1320529451   10/11/2001 0:00   Gracias a Dios\n",
       "\n",
       "[193791 rows x 3 columns]"
      ]
     },
     "execution_count": 4,
     "metadata": {},
     "output_type": "execute_result"
    }
   ],
   "source": [
    "#dropping duplicate columns\n",
    "Frogdata= frogdata.drop(['Unnamed: 0','country', 'continent','decimalLatitude', 'decimalLongitude','species' ], axis=1)\n",
    "Frogdata"
   ]
  },
  {
   "cell_type": "code",
   "execution_count": 5,
   "id": "ab2838cd",
   "metadata": {},
   "outputs": [
    {
     "data": {
      "text/html": [
       "<div>\n",
       "<style scoped>\n",
       "    .dataframe tbody tr th:only-of-type {\n",
       "        vertical-align: middle;\n",
       "    }\n",
       "\n",
       "    .dataframe tbody tr th {\n",
       "        vertical-align: top;\n",
       "    }\n",
       "\n",
       "    .dataframe thead th {\n",
       "        text-align: right;\n",
       "    }\n",
       "</style>\n",
       "<table border=\"1\" class=\"dataframe\">\n",
       "  <thead>\n",
       "    <tr style=\"text-align: right;\">\n",
       "      <th></th>\n",
       "      <th>gbifID</th>\n",
       "      <th>eventDate</th>\n",
       "      <th>stateProvince</th>\n",
       "      <th>Unnamed: 0</th>\n",
       "      <th>country</th>\n",
       "      <th>continent</th>\n",
       "      <th>decimalLatitude</th>\n",
       "      <th>decimalLongitude</th>\n",
       "      <th>species</th>\n",
       "      <th>occurrenceStatus</th>\n",
       "      <th>key</th>\n",
       "      <th>ppt_mean</th>\n",
       "      <th>soil_mean</th>\n",
       "      <th>tmax_mean</th>\n",
       "      <th>tmin_mean</th>\n",
       "    </tr>\n",
       "  </thead>\n",
       "  <tbody>\n",
       "    <tr>\n",
       "      <th>0</th>\n",
       "      <td>2574007008</td>\n",
       "      <td>1/23/2020 1:38</td>\n",
       "      <td>New South Wales</td>\n",
       "      <td>0</td>\n",
       "      <td>Australia</td>\n",
       "      <td>Australia</td>\n",
       "      <td>-32.719457</td>\n",
       "      <td>152.159267</td>\n",
       "      <td>Litoria Fallax</td>\n",
       "      <td>1</td>\n",
       "      <td>0</td>\n",
       "      <td>96.00000</td>\n",
       "      <td>118.71667</td>\n",
       "      <td>23.830004</td>\n",
       "      <td>13.908336</td>\n",
       "    </tr>\n",
       "    <tr>\n",
       "      <th>1</th>\n",
       "      <td>3457021422</td>\n",
       "      <td>3/14/2010 22:23</td>\n",
       "      <td>Puntarenas</td>\n",
       "      <td>1</td>\n",
       "      <td>Costa Rica</td>\n",
       "      <td>Central America</td>\n",
       "      <td>8.496999</td>\n",
       "      <td>-83.318613</td>\n",
       "      <td>Agalychnis Callidryas</td>\n",
       "      <td>0</td>\n",
       "      <td>1</td>\n",
       "      <td>231.51666</td>\n",
       "      <td>131.88333</td>\n",
       "      <td>31.841667</td>\n",
       "      <td>21.111668</td>\n",
       "    </tr>\n",
       "    <tr>\n",
       "      <th>2</th>\n",
       "      <td>1571195309</td>\n",
       "      <td>4/11/2014 19:51</td>\n",
       "      <td>Heredia</td>\n",
       "      <td>2</td>\n",
       "      <td>Costa Rica</td>\n",
       "      <td>Central America</td>\n",
       "      <td>10.450801</td>\n",
       "      <td>-84.068659</td>\n",
       "      <td>Agalychnis Callidryas</td>\n",
       "      <td>0</td>\n",
       "      <td>2</td>\n",
       "      <td>279.20000</td>\n",
       "      <td>51.70000</td>\n",
       "      <td>31.341671</td>\n",
       "      <td>22.455004</td>\n",
       "    </tr>\n",
       "    <tr>\n",
       "      <th>3</th>\n",
       "      <td>2265778539</td>\n",
       "      <td>7/21/2018 21:24</td>\n",
       "      <td>Puntarenas</td>\n",
       "      <td>3</td>\n",
       "      <td>Costa Rica</td>\n",
       "      <td>Central America</td>\n",
       "      <td>9.756705</td>\n",
       "      <td>-84.613363</td>\n",
       "      <td>Agalychnis Callidryas</td>\n",
       "      <td>0</td>\n",
       "      <td>3</td>\n",
       "      <td>192.10000</td>\n",
       "      <td>171.81667</td>\n",
       "      <td>31.043331</td>\n",
       "      <td>20.061670</td>\n",
       "    </tr>\n",
       "    <tr>\n",
       "      <th>4</th>\n",
       "      <td>3407962690</td>\n",
       "      <td>10/29/2021 13:57</td>\n",
       "      <td>Queensland</td>\n",
       "      <td>4</td>\n",
       "      <td>Australia</td>\n",
       "      <td>Australia</td>\n",
       "      <td>-26.714302</td>\n",
       "      <td>152.815096</td>\n",
       "      <td>Litoria Fallax</td>\n",
       "      <td>1</td>\n",
       "      <td>4</td>\n",
       "      <td>84.80000</td>\n",
       "      <td>111.61667</td>\n",
       "      <td>25.933338</td>\n",
       "      <td>13.801668</td>\n",
       "    </tr>\n",
       "    <tr>\n",
       "      <th>...</th>\n",
       "      <td>...</td>\n",
       "      <td>...</td>\n",
       "      <td>...</td>\n",
       "      <td>...</td>\n",
       "      <td>...</td>\n",
       "      <td>...</td>\n",
       "      <td>...</td>\n",
       "      <td>...</td>\n",
       "      <td>...</td>\n",
       "      <td>...</td>\n",
       "      <td>...</td>\n",
       "      <td>...</td>\n",
       "      <td>...</td>\n",
       "      <td>...</td>\n",
       "      <td>...</td>\n",
       "    </tr>\n",
       "    <tr>\n",
       "      <th>193786</th>\n",
       "      <td>1322002619</td>\n",
       "      <td>NaN</td>\n",
       "      <td>Panamá</td>\n",
       "      <td>193786</td>\n",
       "      <td>Panama</td>\n",
       "      <td>Central America</td>\n",
       "      <td>8.806900</td>\n",
       "      <td>-79.515300</td>\n",
       "      <td>Dendrobates Auratus</td>\n",
       "      <td>0</td>\n",
       "      <td>193786</td>\n",
       "      <td>158.16667</td>\n",
       "      <td>214.81667</td>\n",
       "      <td>31.203335</td>\n",
       "      <td>24.071667</td>\n",
       "    </tr>\n",
       "    <tr>\n",
       "      <th>193787</th>\n",
       "      <td>1319899134</td>\n",
       "      <td>4/1/1937 0:00</td>\n",
       "      <td>Panamá</td>\n",
       "      <td>193787</td>\n",
       "      <td>Panama</td>\n",
       "      <td>Central America</td>\n",
       "      <td>8.806900</td>\n",
       "      <td>-79.515300</td>\n",
       "      <td>Dendrobates Auratus</td>\n",
       "      <td>0</td>\n",
       "      <td>193787</td>\n",
       "      <td>158.16667</td>\n",
       "      <td>214.81667</td>\n",
       "      <td>31.203335</td>\n",
       "      <td>24.071667</td>\n",
       "    </tr>\n",
       "    <tr>\n",
       "      <th>193788</th>\n",
       "      <td>1318901755</td>\n",
       "      <td>4/5/1937 0:00</td>\n",
       "      <td>Panamá</td>\n",
       "      <td>193788</td>\n",
       "      <td>Panama</td>\n",
       "      <td>Central America</td>\n",
       "      <td>8.791700</td>\n",
       "      <td>-79.561100</td>\n",
       "      <td>Dendrobates Auratus</td>\n",
       "      <td>0</td>\n",
       "      <td>193788</td>\n",
       "      <td>158.16667</td>\n",
       "      <td>214.81667</td>\n",
       "      <td>31.203335</td>\n",
       "      <td>24.071667</td>\n",
       "    </tr>\n",
       "    <tr>\n",
       "      <th>193789</th>\n",
       "      <td>1322299951</td>\n",
       "      <td>7/9/2002 0:00</td>\n",
       "      <td>Gracias a Dios</td>\n",
       "      <td>193789</td>\n",
       "      <td>Honduras</td>\n",
       "      <td>Central America</td>\n",
       "      <td>15.091100</td>\n",
       "      <td>-83.557800</td>\n",
       "      <td>Agalychnis Callidryas</td>\n",
       "      <td>0</td>\n",
       "      <td>193789</td>\n",
       "      <td>190.06667</td>\n",
       "      <td>141.43333</td>\n",
       "      <td>29.326668</td>\n",
       "      <td>23.588335</td>\n",
       "    </tr>\n",
       "    <tr>\n",
       "      <th>193790</th>\n",
       "      <td>1320529451</td>\n",
       "      <td>10/11/2001 0:00</td>\n",
       "      <td>Gracias a Dios</td>\n",
       "      <td>193790</td>\n",
       "      <td>Honduras</td>\n",
       "      <td>Central America</td>\n",
       "      <td>14.927500</td>\n",
       "      <td>-84.533900</td>\n",
       "      <td>Agalychnis Callidryas</td>\n",
       "      <td>0</td>\n",
       "      <td>193790</td>\n",
       "      <td>206.53334</td>\n",
       "      <td>142.61667</td>\n",
       "      <td>30.230005</td>\n",
       "      <td>22.480005</td>\n",
       "    </tr>\n",
       "  </tbody>\n",
       "</table>\n",
       "<p>193791 rows × 15 columns</p>\n",
       "</div>"
      ],
      "text/plain": [
       "            gbifID         eventDate    stateProvince  Unnamed: 0     country  \\\n",
       "0       2574007008    1/23/2020 1:38  New South Wales           0   Australia   \n",
       "1       3457021422   3/14/2010 22:23       Puntarenas           1  Costa Rica   \n",
       "2       1571195309   4/11/2014 19:51          Heredia           2  Costa Rica   \n",
       "3       2265778539   7/21/2018 21:24       Puntarenas           3  Costa Rica   \n",
       "4       3407962690  10/29/2021 13:57       Queensland           4   Australia   \n",
       "...            ...               ...              ...         ...         ...   \n",
       "193786  1322002619               NaN           Panamá      193786      Panama   \n",
       "193787  1319899134     4/1/1937 0:00           Panamá      193787      Panama   \n",
       "193788  1318901755     4/5/1937 0:00           Panamá      193788      Panama   \n",
       "193789  1322299951     7/9/2002 0:00   Gracias a Dios      193789    Honduras   \n",
       "193790  1320529451   10/11/2001 0:00   Gracias a Dios      193790    Honduras   \n",
       "\n",
       "              continent  decimalLatitude  decimalLongitude  \\\n",
       "0             Australia       -32.719457        152.159267   \n",
       "1       Central America         8.496999        -83.318613   \n",
       "2       Central America        10.450801        -84.068659   \n",
       "3       Central America         9.756705        -84.613363   \n",
       "4             Australia       -26.714302        152.815096   \n",
       "...                 ...              ...               ...   \n",
       "193786  Central America         8.806900        -79.515300   \n",
       "193787  Central America         8.806900        -79.515300   \n",
       "193788  Central America         8.791700        -79.561100   \n",
       "193789  Central America        15.091100        -83.557800   \n",
       "193790  Central America        14.927500        -84.533900   \n",
       "\n",
       "                      species  occurrenceStatus     key   ppt_mean  soil_mean  \\\n",
       "0              Litoria Fallax                 1       0   96.00000  118.71667   \n",
       "1       Agalychnis Callidryas                 0       1  231.51666  131.88333   \n",
       "2       Agalychnis Callidryas                 0       2  279.20000   51.70000   \n",
       "3       Agalychnis Callidryas                 0       3  192.10000  171.81667   \n",
       "4              Litoria Fallax                 1       4   84.80000  111.61667   \n",
       "...                       ...               ...     ...        ...        ...   \n",
       "193786    Dendrobates Auratus                 0  193786  158.16667  214.81667   \n",
       "193787    Dendrobates Auratus                 0  193787  158.16667  214.81667   \n",
       "193788    Dendrobates Auratus                 0  193788  158.16667  214.81667   \n",
       "193789  Agalychnis Callidryas                 0  193789  190.06667  141.43333   \n",
       "193790  Agalychnis Callidryas                 0  193790  206.53334  142.61667   \n",
       "\n",
       "        tmax_mean  tmin_mean  \n",
       "0       23.830004  13.908336  \n",
       "1       31.841667  21.111668  \n",
       "2       31.341671  22.455004  \n",
       "3       31.043331  20.061670  \n",
       "4       25.933338  13.801668  \n",
       "...           ...        ...  \n",
       "193786  31.203335  24.071667  \n",
       "193787  31.203335  24.071667  \n",
       "193788  31.203335  24.071667  \n",
       "193789  29.326668  23.588335  \n",
       "193790  30.230005  22.480005  \n",
       "\n",
       "[193791 rows x 15 columns]"
      ]
     },
     "execution_count": 5,
     "metadata": {},
     "output_type": "execute_result"
    }
   ],
   "source": [
    "#merging the 2 data sets\n",
    "Frogml=Frogdata.merge(ML,on='gbifID')\n",
    "Frogml"
   ]
  },
  {
   "cell_type": "code",
   "execution_count": 6,
   "id": "6d97d9fb",
   "metadata": {},
   "outputs": [
    {
     "name": "stdout",
     "output_type": "stream",
     "text": [
      "<class 'pandas.core.frame.DataFrame'>\n",
      "Int64Index: 193791 entries, 0 to 193790\n",
      "Data columns (total 15 columns):\n",
      " #   Column            Non-Null Count   Dtype  \n",
      "---  ------            --------------   -----  \n",
      " 0   gbifID            193791 non-null  int64  \n",
      " 1   eventDate         185026 non-null  object \n",
      " 2   stateProvince     193099 non-null  object \n",
      " 3   Unnamed: 0        193791 non-null  int64  \n",
      " 4   country           193791 non-null  object \n",
      " 5   continent         193791 non-null  object \n",
      " 6   decimalLatitude   193791 non-null  float64\n",
      " 7   decimalLongitude  193791 non-null  float64\n",
      " 8   species           193791 non-null  object \n",
      " 9   occurrenceStatus  193791 non-null  int64  \n",
      " 10  key               193791 non-null  int64  \n",
      " 11  ppt_mean          161812 non-null  float64\n",
      " 12  soil_mean         161812 non-null  float64\n",
      " 13  tmax_mean         161812 non-null  float64\n",
      " 14  tmin_mean         161812 non-null  float64\n",
      "dtypes: float64(6), int64(4), object(5)\n",
      "memory usage: 23.7+ MB\n"
     ]
    }
   ],
   "source": [
    "#get column info\n",
    "Frogml.info()"
   ]
  },
  {
   "cell_type": "markdown",
   "id": "55849556",
   "metadata": {},
   "source": [
    "Some of the columns contains null values so we will find the total null values and move from there."
   ]
  },
  {
   "cell_type": "code",
   "execution_count": 7,
   "id": "41ced7c9",
   "metadata": {
    "scrolled": true
   },
   "outputs": [
    {
     "data": {
      "text/plain": [
       "gbifID                  0\n",
       "eventDate            8765\n",
       "stateProvince         692\n",
       "Unnamed: 0              0\n",
       "country                 0\n",
       "continent               0\n",
       "decimalLatitude         0\n",
       "decimalLongitude        0\n",
       "species                 0\n",
       "occurrenceStatus        0\n",
       "key                     0\n",
       "ppt_mean            31979\n",
       "soil_mean           31979\n",
       "tmax_mean           31979\n",
       "tmin_mean           31979\n",
       "dtype: int64"
      ]
     },
     "execution_count": 7,
     "metadata": {},
     "output_type": "execute_result"
    }
   ],
   "source": [
    "#TOTAL null values\n",
    "Frogml.isnull().sum()"
   ]
  },
  {
   "cell_type": "code",
   "execution_count": 8,
   "id": "37d7bac4",
   "metadata": {},
   "outputs": [
    {
     "data": {
      "text/plain": [
       "Index(['gbifID', 'eventDate', 'stateProvince', 'Unnamed: 0', 'country',\n",
       "       'continent', 'decimalLatitude', 'decimalLongitude', 'species',\n",
       "       'occurrenceStatus', 'key', 'ppt_mean', 'soil_mean', 'tmax_mean',\n",
       "       'tmin_mean'],\n",
       "      dtype='object')"
      ]
     },
     "execution_count": 8,
     "metadata": {},
     "output_type": "execute_result"
    }
   ],
   "source": [
    "Frogml.columns"
   ]
  },
  {
   "cell_type": "code",
   "execution_count": 9,
   "id": "453732e8",
   "metadata": {
    "scrolled": true
   },
   "outputs": [
    {
     "data": {
      "text/html": [
       "<div>\n",
       "<style scoped>\n",
       "    .dataframe tbody tr th:only-of-type {\n",
       "        vertical-align: middle;\n",
       "    }\n",
       "\n",
       "    .dataframe tbody tr th {\n",
       "        vertical-align: top;\n",
       "    }\n",
       "\n",
       "    .dataframe thead th {\n",
       "        text-align: right;\n",
       "    }\n",
       "</style>\n",
       "<table border=\"1\" class=\"dataframe\">\n",
       "  <thead>\n",
       "    <tr style=\"text-align: right;\">\n",
       "      <th></th>\n",
       "      <th>gbifID</th>\n",
       "      <th>Unnamed: 0</th>\n",
       "      <th>decimalLatitude</th>\n",
       "      <th>decimalLongitude</th>\n",
       "      <th>occurrenceStatus</th>\n",
       "      <th>key</th>\n",
       "      <th>ppt_mean</th>\n",
       "      <th>soil_mean</th>\n",
       "      <th>tmax_mean</th>\n",
       "      <th>tmin_mean</th>\n",
       "    </tr>\n",
       "  </thead>\n",
       "  <tbody>\n",
       "    <tr>\n",
       "      <th>count</th>\n",
       "      <td>1.937910e+05</td>\n",
       "      <td>193791.000000</td>\n",
       "      <td>193791.000000</td>\n",
       "      <td>193791.000000</td>\n",
       "      <td>193791.000000</td>\n",
       "      <td>193791.000000</td>\n",
       "      <td>161812.000000</td>\n",
       "      <td>161812.000000</td>\n",
       "      <td>161812.000000</td>\n",
       "      <td>161812.000000</td>\n",
       "    </tr>\n",
       "    <tr>\n",
       "      <th>mean</th>\n",
       "      <td>2.538989e+09</td>\n",
       "      <td>96895.000000</td>\n",
       "      <td>-32.581960</td>\n",
       "      <td>140.655139</td>\n",
       "      <td>0.244243</td>\n",
       "      <td>96895.000000</td>\n",
       "      <td>68.193053</td>\n",
       "      <td>55.523826</td>\n",
       "      <td>22.698504</td>\n",
       "      <td>11.160806</td>\n",
       "    </tr>\n",
       "    <tr>\n",
       "      <th>std</th>\n",
       "      <td>1.009713e+09</td>\n",
       "      <td>55942.787346</td>\n",
       "      <td>7.801278</td>\n",
       "      <td>35.361322</td>\n",
       "      <td>0.429638</td>\n",
       "      <td>55942.787346</td>\n",
       "      <td>31.459189</td>\n",
       "      <td>49.908966</td>\n",
       "      <td>3.474586</td>\n",
       "      <td>3.455892</td>\n",
       "    </tr>\n",
       "    <tr>\n",
       "      <th>min</th>\n",
       "      <td>4.507536e+07</td>\n",
       "      <td>0.000000</td>\n",
       "      <td>-43.766700</td>\n",
       "      <td>-99.221738</td>\n",
       "      <td>0.000000</td>\n",
       "      <td>0.000000</td>\n",
       "      <td>0.766667</td>\n",
       "      <td>0.000000</td>\n",
       "      <td>10.465001</td>\n",
       "      <td>0.758334</td>\n",
       "    </tr>\n",
       "    <tr>\n",
       "      <th>25%</th>\n",
       "      <td>1.637104e+09</td>\n",
       "      <td>48447.500000</td>\n",
       "      <td>-36.000000</td>\n",
       "      <td>144.589529</td>\n",
       "      <td>0.000000</td>\n",
       "      <td>48447.500000</td>\n",
       "      <td>49.183334</td>\n",
       "      <td>21.400000</td>\n",
       "      <td>20.305002</td>\n",
       "      <td>8.675002</td>\n",
       "    </tr>\n",
       "    <tr>\n",
       "      <th>50%</th>\n",
       "      <td>3.108886e+09</td>\n",
       "      <td>96895.000000</td>\n",
       "      <td>-33.835933</td>\n",
       "      <td>149.974250</td>\n",
       "      <td>0.000000</td>\n",
       "      <td>96895.000000</td>\n",
       "      <td>64.600000</td>\n",
       "      <td>47.416668</td>\n",
       "      <td>22.778334</td>\n",
       "      <td>11.245001</td>\n",
       "    </tr>\n",
       "    <tr>\n",
       "      <th>75%</th>\n",
       "      <td>3.463558e+09</td>\n",
       "      <td>145342.500000</td>\n",
       "      <td>-32.289586</td>\n",
       "      <td>151.194731</td>\n",
       "      <td>0.000000</td>\n",
       "      <td>145342.500000</td>\n",
       "      <td>77.900000</td>\n",
       "      <td>69.066666</td>\n",
       "      <td>24.218334</td>\n",
       "      <td>12.721667</td>\n",
       "    </tr>\n",
       "    <tr>\n",
       "      <th>max</th>\n",
       "      <td>3.469585e+09</td>\n",
       "      <td>193790.000000</td>\n",
       "      <td>21.349444</td>\n",
       "      <td>153.636442</td>\n",
       "      <td>1.000000</td>\n",
       "      <td>193790.000000</td>\n",
       "      <td>368.750000</td>\n",
       "      <td>403.716670</td>\n",
       "      <td>37.401672</td>\n",
       "      <td>25.253334</td>\n",
       "    </tr>\n",
       "  </tbody>\n",
       "</table>\n",
       "</div>"
      ],
      "text/plain": [
       "             gbifID     Unnamed: 0  decimalLatitude  decimalLongitude  \\\n",
       "count  1.937910e+05  193791.000000    193791.000000     193791.000000   \n",
       "mean   2.538989e+09   96895.000000       -32.581960        140.655139   \n",
       "std    1.009713e+09   55942.787346         7.801278         35.361322   \n",
       "min    4.507536e+07       0.000000       -43.766700        -99.221738   \n",
       "25%    1.637104e+09   48447.500000       -36.000000        144.589529   \n",
       "50%    3.108886e+09   96895.000000       -33.835933        149.974250   \n",
       "75%    3.463558e+09  145342.500000       -32.289586        151.194731   \n",
       "max    3.469585e+09  193790.000000        21.349444        153.636442   \n",
       "\n",
       "       occurrenceStatus            key       ppt_mean      soil_mean  \\\n",
       "count     193791.000000  193791.000000  161812.000000  161812.000000   \n",
       "mean           0.244243   96895.000000      68.193053      55.523826   \n",
       "std            0.429638   55942.787346      31.459189      49.908966   \n",
       "min            0.000000       0.000000       0.766667       0.000000   \n",
       "25%            0.000000   48447.500000      49.183334      21.400000   \n",
       "50%            0.000000   96895.000000      64.600000      47.416668   \n",
       "75%            0.000000  145342.500000      77.900000      69.066666   \n",
       "max            1.000000  193790.000000     368.750000     403.716670   \n",
       "\n",
       "           tmax_mean      tmin_mean  \n",
       "count  161812.000000  161812.000000  \n",
       "mean       22.698504      11.160806  \n",
       "std         3.474586       3.455892  \n",
       "min        10.465001       0.758334  \n",
       "25%        20.305002       8.675002  \n",
       "50%        22.778334      11.245001  \n",
       "75%        24.218334      12.721667  \n",
       "max        37.401672      25.253334  "
      ]
     },
     "execution_count": 9,
     "metadata": {},
     "output_type": "execute_result"
    }
   ],
   "source": [
    "Frogml.describe()"
   ]
  },
  {
   "cell_type": "markdown",
   "id": "c06cba43",
   "metadata": {},
   "source": [
    "So now that we know the columns with null values, we will replace them with either the mean or median depending on their distribution"
   ]
  },
  {
   "cell_type": "code",
   "execution_count": 10,
   "id": "023ced29",
   "metadata": {},
   "outputs": [],
   "source": [
    "#finding and replacing the median of ppt_mean and soil_mean\n",
    "median= Frogml.groupby([\"species\", \"country\"])[[\"ppt_mean\", \"soil_mean\"]].transform(\"median\")\n"
   ]
  },
  {
   "cell_type": "code",
   "execution_count": 11,
   "id": "67d2908e",
   "metadata": {},
   "outputs": [],
   "source": [
    "Frogml[[\"ppt_mean\", \"soil_mean\"]] = Frogml[[\"ppt_mean\", \"soil_mean\"]].fillna(median)"
   ]
  },
  {
   "cell_type": "code",
   "execution_count": 12,
   "id": "ff9e259d",
   "metadata": {},
   "outputs": [],
   "source": [
    "#finding and replacing the mean of tmax_mean and tmin_mean\n",
    "mean= Frogml.groupby([\"species\", \"country\"])[[\"tmax_mean\", \"tmin_mean\"]].transform(\"mean\")"
   ]
  },
  {
   "cell_type": "code",
   "execution_count": 13,
   "id": "70b35209",
   "metadata": {},
   "outputs": [],
   "source": [
    "Frogml[[\"tmax_mean\", \"tmin_mean\"]] = Frogml[[\"tmax_mean\", \"tmin_mean\"]].fillna(mean)"
   ]
  },
  {
   "cell_type": "code",
   "execution_count": 14,
   "id": "03f5a8fd",
   "metadata": {},
   "outputs": [
    {
     "name": "stdout",
     "output_type": "stream",
     "text": [
      "<class 'pandas.core.frame.DataFrame'>\n",
      "Int64Index: 193791 entries, 0 to 193790\n",
      "Data columns (total 15 columns):\n",
      " #   Column            Non-Null Count   Dtype  \n",
      "---  ------            --------------   -----  \n",
      " 0   gbifID            193791 non-null  int64  \n",
      " 1   eventDate         185026 non-null  object \n",
      " 2   stateProvince     193099 non-null  object \n",
      " 3   Unnamed: 0        193791 non-null  int64  \n",
      " 4   country           193791 non-null  object \n",
      " 5   continent         193791 non-null  object \n",
      " 6   decimalLatitude   193791 non-null  float64\n",
      " 7   decimalLongitude  193791 non-null  float64\n",
      " 8   species           193791 non-null  object \n",
      " 9   occurrenceStatus  193791 non-null  int64  \n",
      " 10  key               193791 non-null  int64  \n",
      " 11  ppt_mean          193791 non-null  float64\n",
      " 12  soil_mean         193791 non-null  float64\n",
      " 13  tmax_mean         193791 non-null  float64\n",
      " 14  tmin_mean         193791 non-null  float64\n",
      "dtypes: float64(6), int64(4), object(5)\n",
      "memory usage: 23.7+ MB\n"
     ]
    }
   ],
   "source": [
    "Frogml.info()"
   ]
  },
  {
   "cell_type": "markdown",
   "id": "9b44c24c",
   "metadata": {},
   "source": [
    "Now that we have replace some of the null values with the mean and median, we will drop the missing values in the state province column."
   ]
  },
  {
   "cell_type": "code",
   "execution_count": 15,
   "id": "378eee5d",
   "metadata": {},
   "outputs": [
    {
     "name": "stdout",
     "output_type": "stream",
     "text": [
      "<class 'pandas.core.frame.DataFrame'>\n",
      "Int64Index: 193099 entries, 0 to 193790\n",
      "Data columns (total 15 columns):\n",
      " #   Column            Non-Null Count   Dtype  \n",
      "---  ------            --------------   -----  \n",
      " 0   gbifID            193099 non-null  int64  \n",
      " 1   eventDate         184471 non-null  object \n",
      " 2   stateProvince     193099 non-null  object \n",
      " 3   Unnamed: 0        193099 non-null  int64  \n",
      " 4   country           193099 non-null  object \n",
      " 5   continent         193099 non-null  object \n",
      " 6   decimalLatitude   193099 non-null  float64\n",
      " 7   decimalLongitude  193099 non-null  float64\n",
      " 8   species           193099 non-null  object \n",
      " 9   occurrenceStatus  193099 non-null  int64  \n",
      " 10  key               193099 non-null  int64  \n",
      " 11  ppt_mean          193099 non-null  float64\n",
      " 12  soil_mean         193099 non-null  float64\n",
      " 13  tmax_mean         193099 non-null  float64\n",
      " 14  tmin_mean         193099 non-null  float64\n",
      "dtypes: float64(6), int64(4), object(5)\n",
      "memory usage: 23.6+ MB\n"
     ]
    }
   ],
   "source": [
    "#dropping missing values\n",
    "Frogml= Frogml.dropna(subset=[\"stateProvince\"])\n",
    "Frogml.info()"
   ]
  },
  {
   "cell_type": "markdown",
   "id": "7874d66c",
   "metadata": {},
   "source": [
    "We will now drop the key and unnamed column since they don't affect the  data"
   ]
  },
  {
   "cell_type": "code",
   "execution_count": 16,
   "id": "800716fc",
   "metadata": {
    "collapsed": true
   },
   "outputs": [
    {
     "data": {
      "text/html": [
       "<div>\n",
       "<style scoped>\n",
       "    .dataframe tbody tr th:only-of-type {\n",
       "        vertical-align: middle;\n",
       "    }\n",
       "\n",
       "    .dataframe tbody tr th {\n",
       "        vertical-align: top;\n",
       "    }\n",
       "\n",
       "    .dataframe thead th {\n",
       "        text-align: right;\n",
       "    }\n",
       "</style>\n",
       "<table border=\"1\" class=\"dataframe\">\n",
       "  <thead>\n",
       "    <tr style=\"text-align: right;\">\n",
       "      <th></th>\n",
       "      <th>gbifID</th>\n",
       "      <th>eventDate</th>\n",
       "      <th>stateProvince</th>\n",
       "      <th>country</th>\n",
       "      <th>continent</th>\n",
       "      <th>decimalLatitude</th>\n",
       "      <th>decimalLongitude</th>\n",
       "      <th>species</th>\n",
       "      <th>occurrenceStatus</th>\n",
       "      <th>ppt_mean</th>\n",
       "      <th>soil_mean</th>\n",
       "      <th>tmax_mean</th>\n",
       "      <th>tmin_mean</th>\n",
       "    </tr>\n",
       "  </thead>\n",
       "  <tbody>\n",
       "    <tr>\n",
       "      <th>0</th>\n",
       "      <td>2574007008</td>\n",
       "      <td>1/23/2020 1:38</td>\n",
       "      <td>New South Wales</td>\n",
       "      <td>Australia</td>\n",
       "      <td>Australia</td>\n",
       "      <td>-32.719457</td>\n",
       "      <td>152.159267</td>\n",
       "      <td>Litoria Fallax</td>\n",
       "      <td>1</td>\n",
       "      <td>96.00000</td>\n",
       "      <td>118.71667</td>\n",
       "      <td>23.830004</td>\n",
       "      <td>13.908336</td>\n",
       "    </tr>\n",
       "    <tr>\n",
       "      <th>1</th>\n",
       "      <td>3457021422</td>\n",
       "      <td>3/14/2010 22:23</td>\n",
       "      <td>Puntarenas</td>\n",
       "      <td>Costa Rica</td>\n",
       "      <td>Central America</td>\n",
       "      <td>8.496999</td>\n",
       "      <td>-83.318613</td>\n",
       "      <td>Agalychnis Callidryas</td>\n",
       "      <td>0</td>\n",
       "      <td>231.51666</td>\n",
       "      <td>131.88333</td>\n",
       "      <td>31.841667</td>\n",
       "      <td>21.111668</td>\n",
       "    </tr>\n",
       "    <tr>\n",
       "      <th>2</th>\n",
       "      <td>1571195309</td>\n",
       "      <td>4/11/2014 19:51</td>\n",
       "      <td>Heredia</td>\n",
       "      <td>Costa Rica</td>\n",
       "      <td>Central America</td>\n",
       "      <td>10.450801</td>\n",
       "      <td>-84.068659</td>\n",
       "      <td>Agalychnis Callidryas</td>\n",
       "      <td>0</td>\n",
       "      <td>279.20000</td>\n",
       "      <td>51.70000</td>\n",
       "      <td>31.341671</td>\n",
       "      <td>22.455004</td>\n",
       "    </tr>\n",
       "    <tr>\n",
       "      <th>3</th>\n",
       "      <td>2265778539</td>\n",
       "      <td>7/21/2018 21:24</td>\n",
       "      <td>Puntarenas</td>\n",
       "      <td>Costa Rica</td>\n",
       "      <td>Central America</td>\n",
       "      <td>9.756705</td>\n",
       "      <td>-84.613363</td>\n",
       "      <td>Agalychnis Callidryas</td>\n",
       "      <td>0</td>\n",
       "      <td>192.10000</td>\n",
       "      <td>171.81667</td>\n",
       "      <td>31.043331</td>\n",
       "      <td>20.061670</td>\n",
       "    </tr>\n",
       "    <tr>\n",
       "      <th>4</th>\n",
       "      <td>3407962690</td>\n",
       "      <td>10/29/2021 13:57</td>\n",
       "      <td>Queensland</td>\n",
       "      <td>Australia</td>\n",
       "      <td>Australia</td>\n",
       "      <td>-26.714302</td>\n",
       "      <td>152.815096</td>\n",
       "      <td>Litoria Fallax</td>\n",
       "      <td>1</td>\n",
       "      <td>84.80000</td>\n",
       "      <td>111.61667</td>\n",
       "      <td>25.933338</td>\n",
       "      <td>13.801668</td>\n",
       "    </tr>\n",
       "    <tr>\n",
       "      <th>...</th>\n",
       "      <td>...</td>\n",
       "      <td>...</td>\n",
       "      <td>...</td>\n",
       "      <td>...</td>\n",
       "      <td>...</td>\n",
       "      <td>...</td>\n",
       "      <td>...</td>\n",
       "      <td>...</td>\n",
       "      <td>...</td>\n",
       "      <td>...</td>\n",
       "      <td>...</td>\n",
       "      <td>...</td>\n",
       "      <td>...</td>\n",
       "    </tr>\n",
       "    <tr>\n",
       "      <th>193786</th>\n",
       "      <td>1322002619</td>\n",
       "      <td>NaN</td>\n",
       "      <td>Panamá</td>\n",
       "      <td>Panama</td>\n",
       "      <td>Central America</td>\n",
       "      <td>8.806900</td>\n",
       "      <td>-79.515300</td>\n",
       "      <td>Dendrobates Auratus</td>\n",
       "      <td>0</td>\n",
       "      <td>158.16667</td>\n",
       "      <td>214.81667</td>\n",
       "      <td>31.203335</td>\n",
       "      <td>24.071667</td>\n",
       "    </tr>\n",
       "    <tr>\n",
       "      <th>193787</th>\n",
       "      <td>1319899134</td>\n",
       "      <td>4/1/1937 0:00</td>\n",
       "      <td>Panamá</td>\n",
       "      <td>Panama</td>\n",
       "      <td>Central America</td>\n",
       "      <td>8.806900</td>\n",
       "      <td>-79.515300</td>\n",
       "      <td>Dendrobates Auratus</td>\n",
       "      <td>0</td>\n",
       "      <td>158.16667</td>\n",
       "      <td>214.81667</td>\n",
       "      <td>31.203335</td>\n",
       "      <td>24.071667</td>\n",
       "    </tr>\n",
       "    <tr>\n",
       "      <th>193788</th>\n",
       "      <td>1318901755</td>\n",
       "      <td>4/5/1937 0:00</td>\n",
       "      <td>Panamá</td>\n",
       "      <td>Panama</td>\n",
       "      <td>Central America</td>\n",
       "      <td>8.791700</td>\n",
       "      <td>-79.561100</td>\n",
       "      <td>Dendrobates Auratus</td>\n",
       "      <td>0</td>\n",
       "      <td>158.16667</td>\n",
       "      <td>214.81667</td>\n",
       "      <td>31.203335</td>\n",
       "      <td>24.071667</td>\n",
       "    </tr>\n",
       "    <tr>\n",
       "      <th>193789</th>\n",
       "      <td>1322299951</td>\n",
       "      <td>7/9/2002 0:00</td>\n",
       "      <td>Gracias a Dios</td>\n",
       "      <td>Honduras</td>\n",
       "      <td>Central America</td>\n",
       "      <td>15.091100</td>\n",
       "      <td>-83.557800</td>\n",
       "      <td>Agalychnis Callidryas</td>\n",
       "      <td>0</td>\n",
       "      <td>190.06667</td>\n",
       "      <td>141.43333</td>\n",
       "      <td>29.326668</td>\n",
       "      <td>23.588335</td>\n",
       "    </tr>\n",
       "    <tr>\n",
       "      <th>193790</th>\n",
       "      <td>1320529451</td>\n",
       "      <td>10/11/2001 0:00</td>\n",
       "      <td>Gracias a Dios</td>\n",
       "      <td>Honduras</td>\n",
       "      <td>Central America</td>\n",
       "      <td>14.927500</td>\n",
       "      <td>-84.533900</td>\n",
       "      <td>Agalychnis Callidryas</td>\n",
       "      <td>0</td>\n",
       "      <td>206.53334</td>\n",
       "      <td>142.61667</td>\n",
       "      <td>30.230005</td>\n",
       "      <td>22.480005</td>\n",
       "    </tr>\n",
       "  </tbody>\n",
       "</table>\n",
       "<p>193099 rows × 13 columns</p>\n",
       "</div>"
      ],
      "text/plain": [
       "            gbifID         eventDate    stateProvince     country  \\\n",
       "0       2574007008    1/23/2020 1:38  New South Wales   Australia   \n",
       "1       3457021422   3/14/2010 22:23       Puntarenas  Costa Rica   \n",
       "2       1571195309   4/11/2014 19:51          Heredia  Costa Rica   \n",
       "3       2265778539   7/21/2018 21:24       Puntarenas  Costa Rica   \n",
       "4       3407962690  10/29/2021 13:57       Queensland   Australia   \n",
       "...            ...               ...              ...         ...   \n",
       "193786  1322002619               NaN           Panamá      Panama   \n",
       "193787  1319899134     4/1/1937 0:00           Panamá      Panama   \n",
       "193788  1318901755     4/5/1937 0:00           Panamá      Panama   \n",
       "193789  1322299951     7/9/2002 0:00   Gracias a Dios    Honduras   \n",
       "193790  1320529451   10/11/2001 0:00   Gracias a Dios    Honduras   \n",
       "\n",
       "              continent  decimalLatitude  decimalLongitude  \\\n",
       "0             Australia       -32.719457        152.159267   \n",
       "1       Central America         8.496999        -83.318613   \n",
       "2       Central America        10.450801        -84.068659   \n",
       "3       Central America         9.756705        -84.613363   \n",
       "4             Australia       -26.714302        152.815096   \n",
       "...                 ...              ...               ...   \n",
       "193786  Central America         8.806900        -79.515300   \n",
       "193787  Central America         8.806900        -79.515300   \n",
       "193788  Central America         8.791700        -79.561100   \n",
       "193789  Central America        15.091100        -83.557800   \n",
       "193790  Central America        14.927500        -84.533900   \n",
       "\n",
       "                      species  occurrenceStatus   ppt_mean  soil_mean  \\\n",
       "0              Litoria Fallax                 1   96.00000  118.71667   \n",
       "1       Agalychnis Callidryas                 0  231.51666  131.88333   \n",
       "2       Agalychnis Callidryas                 0  279.20000   51.70000   \n",
       "3       Agalychnis Callidryas                 0  192.10000  171.81667   \n",
       "4              Litoria Fallax                 1   84.80000  111.61667   \n",
       "...                       ...               ...        ...        ...   \n",
       "193786    Dendrobates Auratus                 0  158.16667  214.81667   \n",
       "193787    Dendrobates Auratus                 0  158.16667  214.81667   \n",
       "193788    Dendrobates Auratus                 0  158.16667  214.81667   \n",
       "193789  Agalychnis Callidryas                 0  190.06667  141.43333   \n",
       "193790  Agalychnis Callidryas                 0  206.53334  142.61667   \n",
       "\n",
       "        tmax_mean  tmin_mean  \n",
       "0       23.830004  13.908336  \n",
       "1       31.841667  21.111668  \n",
       "2       31.341671  22.455004  \n",
       "3       31.043331  20.061670  \n",
       "4       25.933338  13.801668  \n",
       "...           ...        ...  \n",
       "193786  31.203335  24.071667  \n",
       "193787  31.203335  24.071667  \n",
       "193788  31.203335  24.071667  \n",
       "193789  29.326668  23.588335  \n",
       "193790  30.230005  22.480005  \n",
       "\n",
       "[193099 rows x 13 columns]"
      ]
     },
     "execution_count": 16,
     "metadata": {},
     "output_type": "execute_result"
    }
   ],
   "source": [
    "#dropping unnamed and key columns\n",
    "Frogml.drop(['Unnamed: 0','key' ], axis=1)"
   ]
  },
  {
   "cell_type": "code",
   "execution_count": 17,
   "id": "91d1f0ba",
   "metadata": {
    "scrolled": true
   },
   "outputs": [
    {
     "name": "stdout",
     "output_type": "stream",
     "text": [
      "<class 'pandas.core.frame.DataFrame'>\n",
      "Int64Index: 193099 entries, 0 to 193790\n",
      "Data columns (total 15 columns):\n",
      " #   Column            Non-Null Count   Dtype  \n",
      "---  ------            --------------   -----  \n",
      " 0   gbifID            193099 non-null  int64  \n",
      " 1   eventDate         184471 non-null  object \n",
      " 2   stateProvince     193099 non-null  object \n",
      " 3   Unnamed: 0        193099 non-null  int64  \n",
      " 4   country           193099 non-null  object \n",
      " 5   continent         193099 non-null  object \n",
      " 6   decimalLatitude   193099 non-null  float64\n",
      " 7   decimalLongitude  193099 non-null  float64\n",
      " 8   species           193099 non-null  object \n",
      " 9   occurrenceStatus  193099 non-null  int64  \n",
      " 10  key               193099 non-null  int64  \n",
      " 11  ppt_mean          193099 non-null  float64\n",
      " 12  soil_mean         193099 non-null  float64\n",
      " 13  tmax_mean         193099 non-null  float64\n",
      " 14  tmin_mean         193099 non-null  float64\n",
      "dtypes: float64(6), int64(4), object(5)\n",
      "memory usage: 23.6+ MB\n"
     ]
    }
   ],
   "source": [
    "#checking if columns have been dropped\n",
    "Frogml.info()"
   ]
  },
  {
   "cell_type": "markdown",
   "id": "bd74ded9",
   "metadata": {},
   "source": [
    "# UNIVARIATE ANALYSIS"
   ]
  },
  {
   "cell_type": "markdown",
   "id": "a5ab76ac",
   "metadata": {},
   "source": [
    "# eventDate"
   ]
  },
  {
   "cell_type": "code",
   "execution_count": 18,
   "id": "7f30e4f6",
   "metadata": {},
   "outputs": [
    {
     "data": {
      "text/plain": [
       "12/17/2010 0:00     1712\n",
       "11/1/2010 0:00       894\n",
       "12/18/2010 0:00      800\n",
       "12/1/2010 0:00       756\n",
       "11/5/2010 0:00       669\n",
       "                    ... \n",
       "10/6/2018 13:36        1\n",
       "12/17/2009 10:02       1\n",
       "5/28/2020 20:26        1\n",
       "12/30/2020 17:17       1\n",
       "11/22/1973 0:00        1\n",
       "Name: eventDate, Length: 19106, dtype: int64"
      ]
     },
     "execution_count": 18,
     "metadata": {},
     "output_type": "execute_result"
    }
   ],
   "source": [
    "Frogml[\"eventDate\"].value_counts()"
   ]
  },
  {
   "cell_type": "markdown",
   "id": "02b2b100",
   "metadata": {},
   "source": [
    "# country"
   ]
  },
  {
   "cell_type": "code",
   "execution_count": 19,
   "id": "e2959541",
   "metadata": {},
   "outputs": [
    {
     "data": {
      "text/plain": [
       "Australia             187995\n",
       "Costa Rica              1969\n",
       "South Africa            1197\n",
       "Panama                   715\n",
       "Mexico                   453\n",
       "Honduras                 141\n",
       "Colombia                 134\n",
       "Nicaragua                102\n",
       "Zimbabwe                  88\n",
       "Mozambique                87\n",
       "unknown or invalid        80\n",
       "Guatemala                 28\n",
       "Botswana                  27\n",
       "Zambia                    25\n",
       "Belize                    21\n",
       "Malawi                    15\n",
       "Eswatini                  12\n",
       "Lesotho                    8\n",
       "Angola                     2\n",
       "Name: country, dtype: int64"
      ]
     },
     "execution_count": 19,
     "metadata": {},
     "output_type": "execute_result"
    }
   ],
   "source": [
    "Frogml[\"country\"].value_counts()"
   ]
  },
  {
   "cell_type": "markdown",
   "id": "8479ee5e",
   "metadata": {},
   "source": [
    "AUSTRALIA was the highest country recorded"
   ]
  },
  {
   "cell_type": "markdown",
   "id": "cb5fb9ab",
   "metadata": {},
   "source": [
    "# continent"
   ]
  },
  {
   "cell_type": "code",
   "execution_count": 20,
   "id": "772ab90c",
   "metadata": {},
   "outputs": [
    {
     "data": {
      "text/plain": [
       "Australia             187995\n",
       "Central America         3563\n",
       "Africa                  1461\n",
       "unknown or invalid        80\n",
       "Name: continent, dtype: int64"
      ]
     },
     "execution_count": 20,
     "metadata": {},
     "output_type": "execute_result"
    }
   ],
   "source": [
    "Frogml[\"continent\"].value_counts()"
   ]
  },
  {
   "cell_type": "markdown",
   "id": "cbc862ca",
   "metadata": {},
   "source": [
    "Australia was the highest continent recorded"
   ]
  },
  {
   "cell_type": "markdown",
   "id": "483b3fe2",
   "metadata": {},
   "source": [
    "# state province"
   ]
  },
  {
   "cell_type": "code",
   "execution_count": 21,
   "id": "a7eb62ac",
   "metadata": {},
   "outputs": [
    {
     "data": {
      "text/plain": [
       "New South Wales      99472\n",
       "Victoria             37091\n",
       "South Australia      16783\n",
       "Queensland           13394\n",
       "Western Australia    10240\n",
       "                     ...  \n",
       "Tete                     1\n",
       "Ngöbe Buglé              1\n",
       "Leon                     1\n",
       "Mokhotlong               1\n",
       "Western                  1\n",
       "Name: stateProvince, Length: 165, dtype: int64"
      ]
     },
     "execution_count": 21,
     "metadata": {},
     "output_type": "execute_result"
    }
   ],
   "source": [
    "Frogml[\"stateProvince\"].value_counts()"
   ]
  },
  {
   "cell_type": "markdown",
   "id": "55a87ee5",
   "metadata": {},
   "source": [
    "NSW was the highest state province recorded"
   ]
  },
  {
   "cell_type": "markdown",
   "id": "1d28f8da",
   "metadata": {},
   "source": [
    "# decimalLatitude"
   ]
  },
  {
   "cell_type": "code",
   "execution_count": 22,
   "id": "4ac4ef2c",
   "metadata": {},
   "outputs": [
    {
     "data": {
      "text/plain": [
       "count    193099.000000\n",
       "mean        -32.672577\n",
       "std           7.581761\n",
       "min         -43.766700\n",
       "25%         -36.016900\n",
       "50%         -33.836872\n",
       "75%         -32.349746\n",
       "max          21.349444\n",
       "Name: decimalLatitude, dtype: float64"
      ]
     },
     "execution_count": 22,
     "metadata": {},
     "output_type": "execute_result"
    }
   ],
   "source": [
    "Frogml.decimalLatitude.describe()"
   ]
  },
  {
   "cell_type": "code",
   "execution_count": 23,
   "id": "294b7d41",
   "metadata": {
    "scrolled": true
   },
   "outputs": [
    {
     "data": {
      "image/png": "[encoded data removed]",
      "text/plain": [
       "<Figure size 432x288 with 1 Axes>"
      ]
     },
     "metadata": {
      "needs_background": "light"
     },
     "output_type": "display_data"
    }
   ],
   "source": [
    "plt.hist(Frogml[\"decimalLatitude\"], bins = 5)\n",
    "plt.show()"
   ]
  },
  {
   "cell_type": "code",
   "execution_count": 24,
   "id": "16cd08b9",
   "metadata": {},
   "outputs": [
    {
     "data": {
      "image/png": "[encoded data removed]",
      "text/plain": [
       "<Figure size 432x288 with 1 Axes>"
      ]
     },
     "metadata": {
      "needs_background": "light"
     },
     "output_type": "display_data"
    }
   ],
   "source": [
    "#boxplot to better explain the histogram\n",
    "plt.boxplot(Frogml['decimalLatitude'])\n",
    "plt.show()"
   ]
  },
  {
   "cell_type": "markdown",
   "id": "5a91227b",
   "metadata": {},
   "source": [
    "# decimal Longitude"
   ]
  },
  {
   "cell_type": "code",
   "execution_count": 40,
   "id": "432a3a73",
   "metadata": {},
   "outputs": [
    {
     "data": {
      "text/plain": [
       "count    193099.000000\n",
       "mean        141.257961\n",
       "std          33.744250\n",
       "min         -99.221738\n",
       "25%         144.673123\n",
       "50%         150.024408\n",
       "75%         151.197539\n",
       "max         153.636442\n",
       "Name: decimalLongitude, dtype: float64"
      ]
     },
     "execution_count": 40,
     "metadata": {},
     "output_type": "execute_result"
    }
   ],
   "source": [
    "Frogml.decimalLongitude.describe()"
   ]
  },
  {
   "cell_type": "code",
   "execution_count": 25,
   "id": "88557c70",
   "metadata": {
    "scrolled": true
   },
   "outputs": [
    {
     "data": {
      "image/png": "[encoded data removed]",
      "text/plain": [
       "<Figure size 432x288 with 1 Axes>"
      ]
     },
     "metadata": {
      "needs_background": "light"
     },
     "output_type": "display_data"
    }
   ],
   "source": [
    "plt.hist(Frogml[\"decimalLongitude\"], bins = 5)\n",
    "plt.show()"
   ]
  },
  {
   "cell_type": "code",
   "execution_count": 26,
   "id": "c7a6a49f",
   "metadata": {},
   "outputs": [
    {
     "data": {
      "image/png": "[encoded data removed]",
      "text/plain": [
       "<Figure size 432x288 with 1 Axes>"
      ]
     },
     "metadata": {
      "needs_background": "light"
     },
     "output_type": "display_data"
    }
   ],
   "source": [
    "plt.boxplot(Frogml['decimalLongitude'])\n",
    "plt.show()"
   ]
  },
  {
   "cell_type": "markdown",
   "id": "0380c5bc",
   "metadata": {},
   "source": [
    "# species"
   ]
  },
  {
   "cell_type": "code",
   "execution_count": 27,
   "id": "7fbcabaf",
   "metadata": {
    "scrolled": true
   },
   "outputs": [
    {
     "data": {
      "text/plain": [
       "Crinia Signifera             126637\n",
       "Litoria Fallax                47331\n",
       "Crinia Glauerti                9392\n",
       "Ranoidea Australis             4094\n",
       "Agalychnis Callidryas          2027\n",
       "Dendrobates Auratus            1535\n",
       "Xenopus Laevis                  956\n",
       "Chiromantis Xerampelina         586\n",
       "Austrochaperina Pluvialis       541\n",
       "Name: species, dtype: int64"
      ]
     },
     "execution_count": 27,
     "metadata": {},
     "output_type": "execute_result"
    }
   ],
   "source": [
    "Frogml[\"species\"].value_counts()"
   ]
  },
  {
   "cell_type": "markdown",
   "id": "fdc9f44c",
   "metadata": {},
   "source": [
    "The Crinia Signifera was the highest species recorded"
   ]
  },
  {
   "cell_type": "markdown",
   "id": "eae791fb",
   "metadata": {},
   "source": [
    "# ppt_mean"
   ]
  },
  {
   "cell_type": "code",
   "execution_count": 41,
   "id": "3fae9736",
   "metadata": {},
   "outputs": [
    {
     "data": {
      "text/plain": [
       "count    193099.000000\n",
       "mean         67.678357\n",
       "std          29.497293\n",
       "min           0.766667\n",
       "25%          51.116665\n",
       "50%          64.600000\n",
       "75%          72.133330\n",
       "max         368.750000\n",
       "Name: ppt_mean, dtype: float64"
      ]
     },
     "execution_count": 41,
     "metadata": {},
     "output_type": "execute_result"
    }
   ],
   "source": [
    "Frogml.ppt_mean.describe()"
   ]
  },
  {
   "cell_type": "code",
   "execution_count": 31,
   "id": "849875ba",
   "metadata": {},
   "outputs": [
    {
     "data": {
      "image/png": "[encoded data removed]",
      "text/plain": [
       "<Figure size 432x288 with 1 Axes>"
      ]
     },
     "metadata": {
      "needs_background": "light"
     },
     "output_type": "display_data"
    }
   ],
   "source": [
    "plt.hist(Frogml[\"ppt_mean\"], bins = 5)\n",
    "plt.show()"
   ]
  },
  {
   "cell_type": "code",
   "execution_count": 32,
   "id": "89a367e2",
   "metadata": {},
   "outputs": [
    {
     "data": {
      "image/png": "[encoded data removed]",
      "text/plain": [
       "<Figure size 432x288 with 1 Axes>"
      ]
     },
     "metadata": {
      "needs_background": "light"
     },
     "output_type": "display_data"
    }
   ],
   "source": [
    "plt.boxplot(Frogml['ppt_mean'])\n",
    "plt.show()"
   ]
  },
  {
   "cell_type": "markdown",
   "id": "6529d672",
   "metadata": {},
   "source": [
    "# soil_mean"
   ]
  },
  {
   "cell_type": "code",
   "execution_count": 42,
   "id": "d15ca9b9",
   "metadata": {},
   "outputs": [
    {
     "data": {
      "text/plain": [
       "count    193099.000000\n",
       "mean         53.545237\n",
       "std          46.628495\n",
       "min           0.000000\n",
       "25%          26.066668\n",
       "50%          45.800000\n",
       "75%          63.700000\n",
       "max         403.716670\n",
       "Name: soil_mean, dtype: float64"
      ]
     },
     "execution_count": 42,
     "metadata": {},
     "output_type": "execute_result"
    }
   ],
   "source": [
    "Frogml.soil_mean.describe()"
   ]
  },
  {
   "cell_type": "code",
   "execution_count": 34,
   "id": "6beb11e1",
   "metadata": {},
   "outputs": [
    {
     "data": {
      "image/png": "[encoded data removed]",
      "text/plain": [
       "<Figure size 432x288 with 1 Axes>"
      ]
     },
     "metadata": {
      "needs_background": "light"
     },
     "output_type": "display_data"
    }
   ],
   "source": [
    "plt.hist(Frogml[\"soil_mean\"], bins = 5)\n",
    "plt.show()"
   ]
  },
  {
   "cell_type": "code",
   "execution_count": 37,
   "id": "f82984e9",
   "metadata": {},
   "outputs": [
    {
     "data": {
      "image/png": "[encoded data removed]",
      "text/plain": [
       "<Figure size 432x288 with 1 Axes>"
      ]
     },
     "metadata": {
      "needs_background": "light"
     },
     "output_type": "display_data"
    }
   ],
   "source": [
    "plt.boxplot(Frogml['soil_mean'])\n",
    "plt.show()"
   ]
  },
  {
   "cell_type": "markdown",
   "id": "b80ce041",
   "metadata": {},
   "source": [
    "# tmax_mean"
   ]
  },
  {
   "cell_type": "code",
   "execution_count": 43,
   "id": "255c4766",
   "metadata": {},
   "outputs": [
    {
     "data": {
      "text/plain": [
       "count    193099.000000\n",
       "mean         22.676570\n",
       "std           3.273091\n",
       "min          10.465001\n",
       "25%          20.701666\n",
       "50%          22.295000\n",
       "75%          24.420004\n",
       "max          37.401672\n",
       "Name: tmax_mean, dtype: float64"
      ]
     },
     "execution_count": 43,
     "metadata": {},
     "output_type": "execute_result"
    }
   ],
   "source": [
    "Frogml.tmax_mean.describe()"
   ]
  },
  {
   "cell_type": "code",
   "execution_count": 35,
   "id": "f0f0313b",
   "metadata": {},
   "outputs": [
    {
     "data": {
      "image/png": "[encoded data removed]",
      "text/plain": [
       "<Figure size 432x288 with 1 Axes>"
      ]
     },
     "metadata": {
      "needs_background": "light"
     },
     "output_type": "display_data"
    }
   ],
   "source": [
    "plt.hist(Frogml[\"tmax_mean\"], bins = 5)\n",
    "plt.show()"
   ]
  },
  {
   "cell_type": "code",
   "execution_count": 38,
   "id": "69859bc3",
   "metadata": {},
   "outputs": [
    {
     "data": {
      "image/png": "[encoded data removed]",
      "text/plain": [
       "<Figure size 432x288 with 1 Axes>"
      ]
     },
     "metadata": {
      "needs_background": "light"
     },
     "output_type": "display_data"
    }
   ],
   "source": [
    "plt.boxplot(Frogml['tmax_mean'])\n",
    "plt.show()"
   ]
  },
  {
   "cell_type": "markdown",
   "id": "67f9697d",
   "metadata": {},
   "source": [
    "# tmin_mean"
   ]
  },
  {
   "cell_type": "code",
   "execution_count": 44,
   "id": "c77bf42b",
   "metadata": {},
   "outputs": [
    {
     "data": {
      "text/plain": [
       "count    193099.000000\n",
       "mean         11.144932\n",
       "std           3.262068\n",
       "min           0.758334\n",
       "25%           9.060002\n",
       "50%          10.809999\n",
       "75%          12.721667\n",
       "max          25.253334\n",
       "Name: tmin_mean, dtype: float64"
      ]
     },
     "execution_count": 44,
     "metadata": {},
     "output_type": "execute_result"
    }
   ],
   "source": [
    "Frogml.tmin_mean.describe()"
   ]
  },
  {
   "cell_type": "code",
   "execution_count": 36,
   "id": "8d42d665",
   "metadata": {},
   "outputs": [
    {
     "data": {
      "image/png": "[encoded data removed]",
      "text/plain": [
       "<Figure size 432x288 with 1 Axes>"
      ]
     },
     "metadata": {
      "needs_background": "light"
     },
     "output_type": "display_data"
    }
   ],
   "source": [
    "plt.hist(Frogml[\"tmin_mean\"], bins = 5)\n",
    "plt.show()"
   ]
  },
  {
   "cell_type": "code",
   "execution_count": 39,
   "id": "5b322fb8",
   "metadata": {},
   "outputs": [
    {
     "data": {
      "image/png": "[encoded data removed]",
      "text/plain": [
       "<Figure size 432x288 with 1 Axes>"
      ]
     },
     "metadata": {
      "needs_background": "light"
     },
     "output_type": "display_data"
    }
   ],
   "source": [
    "plt.boxplot(Frogml['tmin_mean'])\n",
    "plt.show()"
   ]
  },
  {
   "cell_type": "markdown",
   "id": "ae613a04",
   "metadata": {},
   "source": [
    "# MULTIVARIATE"
   ]
  },
  {
   "cell_type": "markdown",
   "id": "eff6b763",
   "metadata": {},
   "source": [
    "# checking the continent with the highest species recorded"
   ]
  },
  {
   "cell_type": "code",
   "execution_count": 56,
   "id": "7d3a59e3",
   "metadata": {},
   "outputs": [],
   "source": [
    "Australia_data = Frogml[Frogml['continent'] == 'Australia']\n",
    "Africa_data = Frogml[Frogml['continent'] == 'Africa']\n",
    "CentralAmerica_data = Frogml[Frogml['continent'] == 'Central America']\n"
   ]
  },
  {
   "cell_type": "code",
   "execution_count": 57,
   "id": "328d7789",
   "metadata": {},
   "outputs": [
    {
     "data": {
      "text/plain": [
       "Text(0.5, 1.0, 'Australia')"
      ]
     },
     "execution_count": 57,
     "metadata": {},
     "output_type": "execute_result"
    },
    {
     "data": {
      "image/png": "[encoded data removed]",
      "text/plain": [
       "<Figure size 576x576 with 1 Axes>"
      ]
     },
     "metadata": {},
     "output_type": "display_data"
    }
   ],
   "source": [
    "#checking Australia\n",
    "Australia_data.groupby('species')['continent'].count().plot(kind = 'pie', autopct = '%1.2f%%', figsize = (8,8), fontsize = 10)\n",
    "plt.title('Australia')"
   ]
  },
  {
   "cell_type": "markdown",
   "id": "13e055df",
   "metadata": {},
   "source": [
    "In Australia, the Crinia Signifera was the highest Species recorded and the Austrochaperina Pluvialis was the least species recorded"
   ]
  },
  {
   "cell_type": "code",
   "execution_count": 58,
   "id": "b1a9d4b9",
   "metadata": {},
   "outputs": [
    {
     "data": {
      "text/plain": [
       "Text(0.5, 1.0, 'Africa')"
      ]
     },
     "execution_count": 58,
     "metadata": {},
     "output_type": "execute_result"
    },
    {
     "data": {
      "image/png": "[encoded data removed]",
      "text/plain": [
       "<Figure size 576x576 with 1 Axes>"
      ]
     },
     "metadata": {},
     "output_type": "display_data"
    }
   ],
   "source": [
    "#checking Africa\n",
    "Africa_data.groupby('species')['continent'].count().plot(kind = 'pie', autopct = '%1.2f%%', figsize = (8,8), fontsize = 10)\n",
    "plt.title('Africa')"
   ]
  },
  {
   "cell_type": "markdown",
   "id": "82918115",
   "metadata": {},
   "source": [
    "In Africa, the Chiromantis Xerampelina was the highest species recoreded and the xenopus laevis was the least recorded. Only two species were recorded in Africa"
   ]
  },
  {
   "cell_type": "code",
   "execution_count": null,
   "id": "579c6bd7",
   "metadata": {},
   "outputs": [],
   "source": [
    "#checking for Central America"
   ]
  },
  {
   "cell_type": "code",
   "execution_count": 59,
   "id": "9521c9d7",
   "metadata": {},
   "outputs": [
    {
     "data": {
      "text/plain": [
       "Text(0.5, 1.0, 'Central America')"
      ]
     },
     "execution_count": 59,
     "metadata": {},
     "output_type": "execute_result"
    },
    {
     "data": {
      "image/png": "[encoded data removed]",
      "text/plain": [
       "<Figure size 576x576 with 1 Axes>"
      ]
     },
     "metadata": {},
     "output_type": "display_data"
    }
   ],
   "source": [
    "CentralAmerica_data.groupby('species')['continent'].count().plot(kind = 'pie', autopct = '%1.2f%%', figsize = (8,8), fontsize = 10)\n",
    "plt.title('Central America')"
   ]
  },
  {
   "cell_type": "markdown",
   "id": "35da57f4",
   "metadata": {},
   "source": [
    "In Central America, the Agalychnis Callidryas was the highest species recorded and the Xenopus Laevis was the least recorded"
   ]
  },
  {
   "cell_type": "code",
   "execution_count": 51,
   "id": "fa759813",
   "metadata": {},
   "outputs": [
    {
     "data": {
      "image/png": "[encoded data removed]",
      "text/plain": [
       "<Figure size 576x576 with 1 Axes>"
      ]
     },
     "metadata": {},
     "output_type": "display_data"
    }
   ],
   "source": [
    "#checking the species against the ppt_mean\n",
    "Frogml.groupby('species')['ppt_mean'].count().plot(kind = 'pie', autopct = '%1.2f%%', figsize = (8,8), fontsize = 10)\n",
    "plt.show()"
   ]
  },
  {
   "cell_type": "markdown",
   "id": "8bbab2ad",
   "metadata": {},
   "source": [
    "Crinia Signifera had the highest ppt_mean whilst the Chriromantis Xerampelina species had the least ppt_mean"
   ]
  },
  {
   "cell_type": "code",
   "execution_count": 67,
   "id": "133430a4",
   "metadata": {},
   "outputs": [
    {
     "data": {
      "text/html": [
       "<div>\n",
       "<style scoped>\n",
       "    .dataframe tbody tr th:only-of-type {\n",
       "        vertical-align: middle;\n",
       "    }\n",
       "\n",
       "    .dataframe tbody tr th {\n",
       "        vertical-align: top;\n",
       "    }\n",
       "\n",
       "    .dataframe thead th {\n",
       "        text-align: right;\n",
       "    }\n",
       "</style>\n",
       "<table border=\"1\" class=\"dataframe\">\n",
       "  <thead>\n",
       "    <tr style=\"text-align: right;\">\n",
       "      <th></th>\n",
       "      <th></th>\n",
       "      <th>tmin_mean</th>\n",
       "    </tr>\n",
       "    <tr>\n",
       "      <th>continent</th>\n",
       "      <th>species</th>\n",
       "      <th></th>\n",
       "    </tr>\n",
       "  </thead>\n",
       "  <tbody>\n",
       "    <tr>\n",
       "      <th rowspan=\"2\" valign=\"top\">Africa</th>\n",
       "      <th>Chiromantis Xerampelina</th>\n",
       "      <td>20.705004</td>\n",
       "    </tr>\n",
       "    <tr>\n",
       "      <th>Xenopus Laevis</th>\n",
       "      <td>17.950003</td>\n",
       "    </tr>\n",
       "    <tr>\n",
       "      <th rowspan=\"5\" valign=\"top\">Australia</th>\n",
       "      <th>Austrochaperina Pluvialis</th>\n",
       "      <td>20.905000</td>\n",
       "    </tr>\n",
       "    <tr>\n",
       "      <th>Crinia Glauerti</th>\n",
       "      <td>18.586668</td>\n",
       "    </tr>\n",
       "    <tr>\n",
       "      <th>Crinia Signifera</th>\n",
       "      <td>21.785002</td>\n",
       "    </tr>\n",
       "    <tr>\n",
       "      <th>Litoria Fallax</th>\n",
       "      <td>21.785002</td>\n",
       "    </tr>\n",
       "    <tr>\n",
       "      <th>Ranoidea Australis</th>\n",
       "      <td>25.253334</td>\n",
       "    </tr>\n",
       "    <tr>\n",
       "      <th rowspan=\"3\" valign=\"top\">Central America</th>\n",
       "      <th>Agalychnis Callidryas</th>\n",
       "      <td>24.465000</td>\n",
       "    </tr>\n",
       "    <tr>\n",
       "      <th>Dendrobates Auratus</th>\n",
       "      <td>24.465000</td>\n",
       "    </tr>\n",
       "    <tr>\n",
       "      <th>Xenopus Laevis</th>\n",
       "      <td>6.651668</td>\n",
       "    </tr>\n",
       "    <tr>\n",
       "      <th rowspan=\"2\" valign=\"top\">unknown or invalid</th>\n",
       "      <th>Chiromantis Xerampelina</th>\n",
       "      <td>17.025002</td>\n",
       "    </tr>\n",
       "    <tr>\n",
       "      <th>Xenopus Laevis</th>\n",
       "      <td>16.890001</td>\n",
       "    </tr>\n",
       "  </tbody>\n",
       "</table>\n",
       "</div>"
      ],
      "text/plain": [
       "                                              tmin_mean\n",
       "continent          species                             \n",
       "Africa             Chiromantis Xerampelina    20.705004\n",
       "                   Xenopus Laevis             17.950003\n",
       "Australia          Austrochaperina Pluvialis  20.905000\n",
       "                   Crinia Glauerti            18.586668\n",
       "                   Crinia Signifera           21.785002\n",
       "                   Litoria Fallax             21.785002\n",
       "                   Ranoidea Australis         25.253334\n",
       "Central America    Agalychnis Callidryas      24.465000\n",
       "                   Dendrobates Auratus        24.465000\n",
       "                   Xenopus Laevis              6.651668\n",
       "unknown or invalid Chiromantis Xerampelina    17.025002\n",
       "                   Xenopus Laevis             16.890001"
      ]
     },
     "execution_count": 67,
     "metadata": {},
     "output_type": "execute_result"
    }
   ],
   "source": [
    "#checking the continent with the min. temperature\n",
    "Frogml.groupby(['continent', 'species'])['tmin_mean',].max()"
   ]
  },
  {
   "cell_type": "markdown",
   "id": "b4242291",
   "metadata": {},
   "source": [
    "Africa was the continent with the minimum temperature experienced"
   ]
  },
  {
   "cell_type": "code",
   "execution_count": 68,
   "id": "f1c2e4b9",
   "metadata": {},
   "outputs": [
    {
     "data": {
      "image/png": "[encoded data removed]",
      "text/plain": [
       "<Figure size 576x360 with 1 Axes>"
      ]
     },
     "metadata": {
      "needs_background": "light"
     },
     "output_type": "display_data"
    }
   ],
   "source": [
    "#Bar chart for the continent against the Tmax_mean\n",
    "plt.figure(figsize= (8,5))\n",
    "plt.bar(Frogml['continent'], Frogml['tmax_mean'])\n",
    "plt.title('Tmax_mean distribution', fontsize= 11)\n",
    "plt.xlabel('continent', fontsize= 12)\n",
    "plt.ylabel('Max Temp.', fontsize= 11)\n",
    "plt.show()"
   ]
  },
  {
   "cell_type": "markdown",
   "id": "6e55553b",
   "metadata": {},
   "source": [
    "from the distribution, we can see Australia had the highest max. temp."
   ]
  },
  {
   "cell_type": "code",
   "execution_count": null,
   "id": "a5886a8a",
   "metadata": {},
   "outputs": [],
   "source": []
  }
 ],
 "metadata": {
  "kernelspec": {
   "display_name": "Python 3 (ipykernel)",
   "language": "python",
   "name": "python3"
  },
  "language_info": {
   "codemirror_mode": {
    "name": "ipython",
    "version": 3
   },
   "file_extension": ".py",
   "mimetype": "text/x-python",
   "name": "python",
   "nbconvert_exporter": "python",
   "pygments_lexer": "ipython3",
   "version": "3.9.7"
  }
 },
 "nbformat": 4,
 "nbformat_minor": 5
}
