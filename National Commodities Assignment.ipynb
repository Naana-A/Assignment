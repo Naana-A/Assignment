{
 "cells": [
  {
   "cell_type": "code",
   "execution_count": 2,
   "id": "cf2575d0",
   "metadata": {},
   "outputs": [],
   "source": [
    "import pandas as pd\n",
    "import numpy as np\n",
    "import matplotlib.pyplot as plt"
   ]
  },
  {
   "cell_type": "code",
   "execution_count": 3,
   "id": "5ef06915",
   "metadata": {},
   "outputs": [
    {
     "data": {
      "text/html": [
       "<div>\n",
       "<style scoped>\n",
       "    .dataframe tbody tr th:only-of-type {\n",
       "        vertical-align: middle;\n",
       "    }\n",
       "\n",
       "    .dataframe tbody tr th {\n",
       "        vertical-align: top;\n",
       "    }\n",
       "\n",
       "    .dataframe thead th {\n",
       "        text-align: right;\n",
       "    }\n",
       "</style>\n",
       "<table border=\"1\" class=\"dataframe\">\n",
       "  <thead>\n",
       "    <tr style=\"text-align: right;\">\n",
       "      <th></th>\n",
       "      <th>YEAR</th>\n",
       "      <th>MONTH</th>\n",
       "      <th>COMMODITY</th>\n",
       "      <th>WEIGHT, KG PER BAG</th>\n",
       "      <th>PRICE, ¢ GH</th>\n",
       "    </tr>\n",
       "  </thead>\n",
       "  <tbody>\n",
       "    <tr>\n",
       "      <th>0</th>\n",
       "      <td>2008</td>\n",
       "      <td>JANUARY</td>\n",
       "      <td>MAIZE</td>\n",
       "      <td>100</td>\n",
       "      <td>13.694</td>\n",
       "    </tr>\n",
       "    <tr>\n",
       "      <th>1</th>\n",
       "      <td>2008</td>\n",
       "      <td>FEBRUARY</td>\n",
       "      <td>MAIZE</td>\n",
       "      <td>100</td>\n",
       "      <td>13.066</td>\n",
       "    </tr>\n",
       "    <tr>\n",
       "      <th>2</th>\n",
       "      <td>2008</td>\n",
       "      <td>MARCH</td>\n",
       "      <td>MAIZE</td>\n",
       "      <td>100</td>\n",
       "      <td>14.043</td>\n",
       "    </tr>\n",
       "    <tr>\n",
       "      <th>3</th>\n",
       "      <td>2008</td>\n",
       "      <td>APRIL</td>\n",
       "      <td>MAIZE</td>\n",
       "      <td>100</td>\n",
       "      <td>14.947</td>\n",
       "    </tr>\n",
       "    <tr>\n",
       "      <th>4</th>\n",
       "      <td>2008</td>\n",
       "      <td>MAY</td>\n",
       "      <td>MAIZE</td>\n",
       "      <td>100</td>\n",
       "      <td>14.808</td>\n",
       "    </tr>\n",
       "  </tbody>\n",
       "</table>\n",
       "</div>"
      ],
      "text/plain": [
       "   YEAR     MONTH COMMODITY  WEIGHT, KG PER BAG   PRICE, ¢ GH\n",
       "0  2008   JANUARY     MAIZE                 100        13.694\n",
       "1  2008  FEBRUARY     MAIZE                 100        13.066\n",
       "2  2008     MARCH     MAIZE                 100        14.043\n",
       "3  2008     APRIL     MAIZE                 100        14.947\n",
       "4  2008       MAY     MAIZE                 100        14.808"
      ]
     },
     "execution_count": 3,
     "metadata": {},
     "output_type": "execute_result"
    }
   ],
   "source": [
    "commodities = pd.read_csv('NATIONAL WHOLESALE PRICE OF SOME SELECTED COMMODITIES.csv', encoding='latin1')\n",
    "commodities.head()"
   ]
  },
  {
   "cell_type": "code",
   "execution_count": 4,
   "id": "6c586466",
   "metadata": {},
   "outputs": [
    {
     "name": "stdout",
     "output_type": "stream",
     "text": [
      "<class 'pandas.core.frame.DataFrame'>\n",
      "RangeIndex: 720 entries, 0 to 719\n",
      "Data columns (total 5 columns):\n",
      " #   Column              Non-Null Count  Dtype  \n",
      "---  ------              --------------  -----  \n",
      " 0   YEAR                720 non-null    int64  \n",
      " 1   MONTH               720 non-null    object \n",
      " 2   COMMODITY           720 non-null    object \n",
      " 3   WEIGHT, KG PER BAG  720 non-null    int64  \n",
      " 4    PRICE, ¢ GH        720 non-null    float64\n",
      "dtypes: float64(1), int64(2), object(2)\n",
      "memory usage: 28.2+ KB\n"
     ]
    }
   ],
   "source": [
    "commodities.info()"
   ]
  },
  {
   "cell_type": "markdown",
   "id": "633275a4",
   "metadata": {},
   "source": [
    "The data does not contain any null values and all the columns are in their right data types\n"
   ]
  },
  {
   "cell_type": "code",
   "execution_count": 5,
   "id": "71fdeed3",
   "metadata": {},
   "outputs": [
    {
     "data": {
      "text/plain": [
       "Index(['YEAR', 'MONTH', 'COMMODITY', 'WEIGHT, KG PER BAG', ' PRICE, ¢ GH'], dtype='object')"
      ]
     },
     "execution_count": 5,
     "metadata": {},
     "output_type": "execute_result"
    }
   ],
   "source": [
    "commodities.columns"
   ]
  },
  {
   "cell_type": "markdown",
   "id": "df70ec12",
   "metadata": {},
   "source": [
    "The PRICE, ¢ GH has a whitespace so we will correct the error"
   ]
  },
  {
   "cell_type": "code",
   "execution_count": 6,
   "id": "5fe674f9",
   "metadata": {},
   "outputs": [],
   "source": [
    "\n",
    "commodities.columns = ['YEAR', 'MONTH', 'COMMODITY', 'WEIGHT, KG PER BAG', 'PRICE, ¢ GH']"
   ]
  },
  {
   "cell_type": "code",
   "execution_count": 7,
   "id": "7928e5bc",
   "metadata": {},
   "outputs": [
    {
     "data": {
      "text/html": [
       "<div>\n",
       "<style scoped>\n",
       "    .dataframe tbody tr th:only-of-type {\n",
       "        vertical-align: middle;\n",
       "    }\n",
       "\n",
       "    .dataframe tbody tr th {\n",
       "        vertical-align: top;\n",
       "    }\n",
       "\n",
       "    .dataframe thead th {\n",
       "        text-align: right;\n",
       "    }\n",
       "</style>\n",
       "<table border=\"1\" class=\"dataframe\">\n",
       "  <thead>\n",
       "    <tr style=\"text-align: right;\">\n",
       "      <th></th>\n",
       "      <th>YEAR</th>\n",
       "      <th>WEIGHT, KG PER BAG</th>\n",
       "      <th>PRICE, ¢ GH</th>\n",
       "    </tr>\n",
       "  </thead>\n",
       "  <tbody>\n",
       "    <tr>\n",
       "      <th>count</th>\n",
       "      <td>720.000000</td>\n",
       "      <td>720.000000</td>\n",
       "      <td>720.000000</td>\n",
       "    </tr>\n",
       "    <tr>\n",
       "      <th>mean</th>\n",
       "      <td>2012.491667</td>\n",
       "      <td>123.833333</td>\n",
       "      <td>113.982091</td>\n",
       "    </tr>\n",
       "    <tr>\n",
       "      <th>std</th>\n",
       "      <td>2.871361</td>\n",
       "      <td>56.759258</td>\n",
       "      <td>162.115749</td>\n",
       "    </tr>\n",
       "    <tr>\n",
       "      <th>min</th>\n",
       "      <td>2008.000000</td>\n",
       "      <td>91.000000</td>\n",
       "      <td>0.007000</td>\n",
       "    </tr>\n",
       "    <tr>\n",
       "      <th>25%</th>\n",
       "      <td>2010.000000</td>\n",
       "      <td>93.000000</td>\n",
       "      <td>15.141000</td>\n",
       "    </tr>\n",
       "    <tr>\n",
       "      <th>50%</th>\n",
       "      <td>2012.500000</td>\n",
       "      <td>100.000000</td>\n",
       "      <td>52.390000</td>\n",
       "    </tr>\n",
       "    <tr>\n",
       "      <th>75%</th>\n",
       "      <td>2015.000000</td>\n",
       "      <td>109.000000</td>\n",
       "      <td>140.122500</td>\n",
       "    </tr>\n",
       "    <tr>\n",
       "      <th>max</th>\n",
       "      <td>2017.000000</td>\n",
       "      <td>250.000000</td>\n",
       "      <td>920.550000</td>\n",
       "    </tr>\n",
       "  </tbody>\n",
       "</table>\n",
       "</div>"
      ],
      "text/plain": [
       "              YEAR  WEIGHT, KG PER BAG  PRICE, ¢ GH\n",
       "count   720.000000          720.000000   720.000000\n",
       "mean   2012.491667          123.833333   113.982091\n",
       "std       2.871361           56.759258   162.115749\n",
       "min    2008.000000           91.000000     0.007000\n",
       "25%    2010.000000           93.000000    15.141000\n",
       "50%    2012.500000          100.000000    52.390000\n",
       "75%    2015.000000          109.000000   140.122500\n",
       "max    2017.000000          250.000000   920.550000"
      ]
     },
     "execution_count": 7,
     "metadata": {},
     "output_type": "execute_result"
    }
   ],
   "source": [
    "commodities.describe()"
   ]
  },
  {
   "cell_type": "markdown",
   "id": "09ea0650",
   "metadata": {},
   "source": [
    "Now that we have the data cleaned, we will begin with the analysis of the data"
   ]
  },
  {
   "cell_type": "markdown",
   "id": "1f83016d",
   "metadata": {},
   "source": [
    "# UNIVARIATE ANALYSIS"
   ]
  },
  {
   "cell_type": "markdown",
   "id": "3beccafc",
   "metadata": {},
   "source": [
    "# commodity analysis"
   ]
  },
  {
   "cell_type": "code",
   "execution_count": 25,
   "id": "6dbe3c96",
   "metadata": {},
   "outputs": [
    {
     "data": {
      "text/plain": [
       "MAIZE         120\n",
       "MILLET        120\n",
       "LOCAL RICE    120\n",
       "SORGHUM       120\n",
       "YAM           120\n",
       "COCOYAM       120\n",
       "Name: COMMODITY, dtype: int64"
      ]
     },
     "execution_count": 25,
     "metadata": {},
     "output_type": "execute_result"
    }
   ],
   "source": [
    "commodities.COMMODITY.value_counts()"
   ]
  },
  {
   "cell_type": "markdown",
   "id": "425c5613",
   "metadata": {},
   "source": [
    "None of the commodities repeats itself or is misspelt"
   ]
  },
  {
   "cell_type": "markdown",
   "id": "b5144ed3",
   "metadata": {},
   "source": [
    "# Price analysis"
   ]
  },
  {
   "cell_type": "code",
   "execution_count": 26,
   "id": "f89ddb74",
   "metadata": {},
   "outputs": [
    {
     "data": {
      "text/plain": [
       "count    720.000000\n",
       "mean     113.982091\n",
       "std      162.115749\n",
       "min        0.007000\n",
       "25%       15.141000\n",
       "50%       52.390000\n",
       "75%      140.122500\n",
       "max      920.550000\n",
       "Name: PRICE, ¢ GH, dtype: float64"
      ]
     },
     "execution_count": 26,
     "metadata": {},
     "output_type": "execute_result"
    }
   ],
   "source": [
    "commodities['PRICE, ¢ GH'].describe()"
   ]
  },
  {
   "cell_type": "code",
   "execution_count": 27,
   "id": "2e3f8456",
   "metadata": {},
   "outputs": [
    {
     "data": {
      "image/png": "[encoded data removed]",
      "text/plain": [
       "<Figure size 432x288 with 1 Axes>"
      ]
     },
     "metadata": {
      "needs_background": "light"
     },
     "output_type": "display_data"
    }
   ],
   "source": [
    "# PLotting histogram of Prices\n",
    "plt.hist(commodities['PRICE, ¢ GH'], bins = 15)\n",
    "plt.title('Price Distribution', fontsize=13)\n",
    "plt.xlabel('Wholesale commodities', fontsize=11)\n",
    "plt.ylabel('Ghs', fontsize=11)\n",
    "plt.show()"
   ]
  },
  {
   "cell_type": "code",
   "execution_count": 28,
   "id": "9bdea318",
   "metadata": {},
   "outputs": [
    {
     "data": {
      "image/png": "[encoded data removed]",
      "text/plain": [
       "<Figure size 432x288 with 1 Axes>"
      ]
     },
     "metadata": {
      "needs_background": "light"
     },
     "output_type": "display_data"
    }
   ],
   "source": [
    "# PLotting boxplot of Prices\n",
    "plt.boxplot(commodities['PRICE, ¢ GH'])\n",
    "plt.title('Price Distribution', fontsize=13)\n",
    "plt.xlabel('Wholesale commodities', fontsize=11)\n",
    "plt.ylabel('Ghs', fontsize=11)\n",
    "plt.show()"
   ]
  },
  {
   "cell_type": "markdown",
   "id": "1feeaf71",
   "metadata": {},
   "source": [
    "# weight analysis"
   ]
  },
  {
   "cell_type": "code",
   "execution_count": 29,
   "id": "b693e57c",
   "metadata": {},
   "outputs": [
    {
     "data": {
      "text/plain": [
       "100    240\n",
       "93     120\n",
       "109    120\n",
       "250    120\n",
       "91     120\n",
       "Name: WEIGHT, KG PER BAG, dtype: int64"
      ]
     },
     "execution_count": 29,
     "metadata": {},
     "output_type": "execute_result"
    }
   ],
   "source": [
    "commodities['WEIGHT, KG PER BAG'].value_counts()"
   ]
  },
  {
   "cell_type": "code",
   "execution_count": 30,
   "id": "d2fae7e8",
   "metadata": {},
   "outputs": [
    {
     "data": {
      "image/png": "[encoded data removed]",
      "text/plain": [
       "<Figure size 432x288 with 1 Axes>"
      ]
     },
     "metadata": {
      "needs_background": "light"
     },
     "output_type": "display_data"
    }
   ],
   "source": [
    "# PLotting histogram of WEIGHT\n",
    "plt.hist(commodities['WEIGHT, KG PER BAG'], bins = 15)\n",
    "plt.title('Weight Distribution', fontsize=13)\n",
    "plt.xlabel('Wholesale commodities', fontsize=11)\n",
    "plt.ylabel('KG', fontsize=11)\n",
    "plt.show()"
   ]
  },
  {
   "cell_type": "code",
   "execution_count": 31,
   "id": "023d2013",
   "metadata": {},
   "outputs": [
    {
     "data": {
      "image/png": "[encoded data removed]",
      "text/plain": [
       "<Figure size 432x288 with 1 Axes>"
      ]
     },
     "metadata": {
      "needs_background": "light"
     },
     "output_type": "display_data"
    }
   ],
   "source": [
    "# PLotting Boxplot of WEIGHT\n",
    "plt.boxplot(commodities['WEIGHT, KG PER BAG'])\n",
    "plt.title('Weight Distribution', fontsize=13)\n",
    "plt.xlabel('Wholesale commodities', fontsize=11)\n",
    "plt.ylabel('KG', fontsize=11)\n",
    "plt.show()"
   ]
  },
  {
   "cell_type": "markdown",
   "id": "c04c6741",
   "metadata": {},
   "source": [
    "# MULTIVARIATE ANALYSIS"
   ]
  },
  {
   "cell_type": "code",
   "execution_count": 32,
   "id": "1f21f2cb",
   "metadata": {
    "scrolled": true
   },
   "outputs": [
    {
     "data": {
      "text/html": [
       "<div>\n",
       "<style scoped>\n",
       "    .dataframe tbody tr th:only-of-type {\n",
       "        vertical-align: middle;\n",
       "    }\n",
       "\n",
       "    .dataframe tbody tr th {\n",
       "        vertical-align: top;\n",
       "    }\n",
       "\n",
       "    .dataframe thead th {\n",
       "        text-align: right;\n",
       "    }\n",
       "</style>\n",
       "<table border=\"1\" class=\"dataframe\">\n",
       "  <thead>\n",
       "    <tr style=\"text-align: right;\">\n",
       "      <th></th>\n",
       "      <th>COMMODITY</th>\n",
       "      <th>PRICE, ¢ GH</th>\n",
       "    </tr>\n",
       "    <tr>\n",
       "      <th>YEAR</th>\n",
       "      <th></th>\n",
       "      <th></th>\n",
       "    </tr>\n",
       "  </thead>\n",
       "  <tbody>\n",
       "    <tr>\n",
       "      <th>2008</th>\n",
       "      <td>YAM</td>\n",
       "      <td>689.87</td>\n",
       "    </tr>\n",
       "    <tr>\n",
       "      <th>2009</th>\n",
       "      <td>YAM</td>\n",
       "      <td>920.55</td>\n",
       "    </tr>\n",
       "    <tr>\n",
       "      <th>2010</th>\n",
       "      <td>YAM</td>\n",
       "      <td>884.20</td>\n",
       "    </tr>\n",
       "    <tr>\n",
       "      <th>2011</th>\n",
       "      <td>YAM</td>\n",
       "      <td>202.10</td>\n",
       "    </tr>\n",
       "    <tr>\n",
       "      <th>2012</th>\n",
       "      <td>YAM</td>\n",
       "      <td>280.46</td>\n",
       "    </tr>\n",
       "    <tr>\n",
       "      <th>2013</th>\n",
       "      <td>YAM</td>\n",
       "      <td>297.40</td>\n",
       "    </tr>\n",
       "    <tr>\n",
       "      <th>2014</th>\n",
       "      <td>YAM</td>\n",
       "      <td>344.45</td>\n",
       "    </tr>\n",
       "    <tr>\n",
       "      <th>2015</th>\n",
       "      <td>YAM</td>\n",
       "      <td>378.35</td>\n",
       "    </tr>\n",
       "    <tr>\n",
       "      <th>2016</th>\n",
       "      <td>YAM</td>\n",
       "      <td>524.89</td>\n",
       "    </tr>\n",
       "    <tr>\n",
       "      <th>2017</th>\n",
       "      <td>YAM</td>\n",
       "      <td>637.65</td>\n",
       "    </tr>\n",
       "  </tbody>\n",
       "</table>\n",
       "</div>"
      ],
      "text/plain": [
       "     COMMODITY  PRICE, ¢ GH\n",
       "YEAR                       \n",
       "2008       YAM       689.87\n",
       "2009       YAM       920.55\n",
       "2010       YAM       884.20\n",
       "2011       YAM       202.10\n",
       "2012       YAM       280.46\n",
       "2013       YAM       297.40\n",
       "2014       YAM       344.45\n",
       "2015       YAM       378.35\n",
       "2016       YAM       524.89\n",
       "2017       YAM       637.65"
      ]
     },
     "execution_count": 32,
     "metadata": {},
     "output_type": "execute_result"
    }
   ],
   "source": [
    "commodities.groupby(['YEAR'])[['COMMODITY','PRICE, ¢ GH']].max()"
   ]
  },
  {
   "cell_type": "code",
   "execution_count": 33,
   "id": "e592a3ed",
   "metadata": {},
   "outputs": [
    {
     "data": {
      "text/html": [
       "<div>\n",
       "<style scoped>\n",
       "    .dataframe tbody tr th:only-of-type {\n",
       "        vertical-align: middle;\n",
       "    }\n",
       "\n",
       "    .dataframe tbody tr th {\n",
       "        vertical-align: top;\n",
       "    }\n",
       "\n",
       "    .dataframe thead th {\n",
       "        text-align: right;\n",
       "    }\n",
       "</style>\n",
       "<table border=\"1\" class=\"dataframe\">\n",
       "  <thead>\n",
       "    <tr style=\"text-align: right;\">\n",
       "      <th></th>\n",
       "      <th>COMMODITY</th>\n",
       "      <th>PRICE, ¢ GH</th>\n",
       "    </tr>\n",
       "    <tr>\n",
       "      <th>YEAR</th>\n",
       "      <th></th>\n",
       "      <th></th>\n",
       "    </tr>\n",
       "  </thead>\n",
       "  <tbody>\n",
       "    <tr>\n",
       "      <th>2008</th>\n",
       "      <td>COCOYAM</td>\n",
       "      <td>0.131</td>\n",
       "    </tr>\n",
       "    <tr>\n",
       "      <th>2009</th>\n",
       "      <td>COCOYAM</td>\n",
       "      <td>3.317</td>\n",
       "    </tr>\n",
       "    <tr>\n",
       "      <th>2010</th>\n",
       "      <td>COCOYAM</td>\n",
       "      <td>4.382</td>\n",
       "    </tr>\n",
       "    <tr>\n",
       "      <th>2011</th>\n",
       "      <td>COCOYAM</td>\n",
       "      <td>0.007</td>\n",
       "    </tr>\n",
       "    <tr>\n",
       "      <th>2012</th>\n",
       "      <td>COCOYAM</td>\n",
       "      <td>0.010</td>\n",
       "    </tr>\n",
       "    <tr>\n",
       "      <th>2013</th>\n",
       "      <td>COCOYAM</td>\n",
       "      <td>0.008</td>\n",
       "    </tr>\n",
       "    <tr>\n",
       "      <th>2014</th>\n",
       "      <td>COCOYAM</td>\n",
       "      <td>0.010</td>\n",
       "    </tr>\n",
       "    <tr>\n",
       "      <th>2015</th>\n",
       "      <td>COCOYAM</td>\n",
       "      <td>0.010</td>\n",
       "    </tr>\n",
       "    <tr>\n",
       "      <th>2016</th>\n",
       "      <td>COCOYAM</td>\n",
       "      <td>0.010</td>\n",
       "    </tr>\n",
       "    <tr>\n",
       "      <th>2017</th>\n",
       "      <td>COCOYAM</td>\n",
       "      <td>0.020</td>\n",
       "    </tr>\n",
       "  </tbody>\n",
       "</table>\n",
       "</div>"
      ],
      "text/plain": [
       "     COMMODITY  PRICE, ¢ GH\n",
       "YEAR                       \n",
       "2008   COCOYAM        0.131\n",
       "2009   COCOYAM        3.317\n",
       "2010   COCOYAM        4.382\n",
       "2011   COCOYAM        0.007\n",
       "2012   COCOYAM        0.010\n",
       "2013   COCOYAM        0.008\n",
       "2014   COCOYAM        0.010\n",
       "2015   COCOYAM        0.010\n",
       "2016   COCOYAM        0.010\n",
       "2017   COCOYAM        0.020"
      ]
     },
     "execution_count": 33,
     "metadata": {},
     "output_type": "execute_result"
    }
   ],
   "source": [
    "commodities.groupby(['YEAR'])[['COMMODITY','PRICE, ¢ GH']].min()"
   ]
  },
  {
   "cell_type": "markdown",
   "id": "ff2ec31e",
   "metadata": {},
   "source": [
    "From the above analysis, we can see that Yam had the highest prices over the years and Cocoyam had the lowest prices over the years"
   ]
  },
  {
   "cell_type": "code",
   "execution_count": 34,
   "id": "cc877f0c",
   "metadata": {},
   "outputs": [
    {
     "data": {
      "text/html": [
       "<div>\n",
       "<style scoped>\n",
       "    .dataframe tbody tr th:only-of-type {\n",
       "        vertical-align: middle;\n",
       "    }\n",
       "\n",
       "    .dataframe tbody tr th {\n",
       "        vertical-align: top;\n",
       "    }\n",
       "\n",
       "    .dataframe thead th {\n",
       "        text-align: right;\n",
       "    }\n",
       "</style>\n",
       "<table border=\"1\" class=\"dataframe\">\n",
       "  <thead>\n",
       "    <tr style=\"text-align: right;\">\n",
       "      <th></th>\n",
       "      <th>MONTH</th>\n",
       "      <th>PRICE, ¢ GH</th>\n",
       "    </tr>\n",
       "    <tr>\n",
       "      <th>YEAR</th>\n",
       "      <th></th>\n",
       "      <th></th>\n",
       "    </tr>\n",
       "  </thead>\n",
       "  <tbody>\n",
       "    <tr>\n",
       "      <th>2008</th>\n",
       "      <td>SEPTEMBER</td>\n",
       "      <td>689.87</td>\n",
       "    </tr>\n",
       "    <tr>\n",
       "      <th>2009</th>\n",
       "      <td>SEPTEMBER</td>\n",
       "      <td>920.55</td>\n",
       "    </tr>\n",
       "    <tr>\n",
       "      <th>2010</th>\n",
       "      <td>SEPTEMBER</td>\n",
       "      <td>884.20</td>\n",
       "    </tr>\n",
       "    <tr>\n",
       "      <th>2011</th>\n",
       "      <td>SEPTEMBER</td>\n",
       "      <td>202.10</td>\n",
       "    </tr>\n",
       "    <tr>\n",
       "      <th>2012</th>\n",
       "      <td>SEPTEMBER</td>\n",
       "      <td>280.46</td>\n",
       "    </tr>\n",
       "    <tr>\n",
       "      <th>2013</th>\n",
       "      <td>SEPTEMBER</td>\n",
       "      <td>297.40</td>\n",
       "    </tr>\n",
       "    <tr>\n",
       "      <th>2014</th>\n",
       "      <td>SEPTEMBER</td>\n",
       "      <td>344.45</td>\n",
       "    </tr>\n",
       "    <tr>\n",
       "      <th>2015</th>\n",
       "      <td>SEPTEMBER</td>\n",
       "      <td>378.35</td>\n",
       "    </tr>\n",
       "    <tr>\n",
       "      <th>2016</th>\n",
       "      <td>SEPTEMBER</td>\n",
       "      <td>524.89</td>\n",
       "    </tr>\n",
       "    <tr>\n",
       "      <th>2017</th>\n",
       "      <td>SEPTEMBER</td>\n",
       "      <td>637.65</td>\n",
       "    </tr>\n",
       "  </tbody>\n",
       "</table>\n",
       "</div>"
      ],
      "text/plain": [
       "          MONTH  PRICE, ¢ GH\n",
       "YEAR                        \n",
       "2008  SEPTEMBER       689.87\n",
       "2009  SEPTEMBER       920.55\n",
       "2010  SEPTEMBER       884.20\n",
       "2011  SEPTEMBER       202.10\n",
       "2012  SEPTEMBER       280.46\n",
       "2013  SEPTEMBER       297.40\n",
       "2014  SEPTEMBER       344.45\n",
       "2015  SEPTEMBER       378.35\n",
       "2016  SEPTEMBER       524.89\n",
       "2017  SEPTEMBER       637.65"
      ]
     },
     "execution_count": 34,
     "metadata": {},
     "output_type": "execute_result"
    }
   ],
   "source": [
    "commodities.groupby(['YEAR'])[['MONTH','PRICE, ¢ GH']].max()"
   ]
  },
  {
   "cell_type": "code",
   "execution_count": 35,
   "id": "529cc866",
   "metadata": {},
   "outputs": [
    {
     "data": {
      "text/html": [
       "<div>\n",
       "<style scoped>\n",
       "    .dataframe tbody tr th:only-of-type {\n",
       "        vertical-align: middle;\n",
       "    }\n",
       "\n",
       "    .dataframe tbody tr th {\n",
       "        vertical-align: top;\n",
       "    }\n",
       "\n",
       "    .dataframe thead th {\n",
       "        text-align: right;\n",
       "    }\n",
       "</style>\n",
       "<table border=\"1\" class=\"dataframe\">\n",
       "  <thead>\n",
       "    <tr style=\"text-align: right;\">\n",
       "      <th></th>\n",
       "      <th>MONTH</th>\n",
       "      <th>PRICE, ¢ GH</th>\n",
       "    </tr>\n",
       "    <tr>\n",
       "      <th>YEAR</th>\n",
       "      <th></th>\n",
       "      <th></th>\n",
       "    </tr>\n",
       "  </thead>\n",
       "  <tbody>\n",
       "    <tr>\n",
       "      <th>2008</th>\n",
       "      <td>APRIL</td>\n",
       "      <td>0.131</td>\n",
       "    </tr>\n",
       "    <tr>\n",
       "      <th>2009</th>\n",
       "      <td>APRIL</td>\n",
       "      <td>3.317</td>\n",
       "    </tr>\n",
       "    <tr>\n",
       "      <th>2010</th>\n",
       "      <td>APRIL</td>\n",
       "      <td>4.382</td>\n",
       "    </tr>\n",
       "    <tr>\n",
       "      <th>2011</th>\n",
       "      <td>APRIL</td>\n",
       "      <td>0.007</td>\n",
       "    </tr>\n",
       "    <tr>\n",
       "      <th>2012</th>\n",
       "      <td>APRIL</td>\n",
       "      <td>0.010</td>\n",
       "    </tr>\n",
       "    <tr>\n",
       "      <th>2013</th>\n",
       "      <td>APRIL</td>\n",
       "      <td>0.008</td>\n",
       "    </tr>\n",
       "    <tr>\n",
       "      <th>2014</th>\n",
       "      <td>APRIL</td>\n",
       "      <td>0.010</td>\n",
       "    </tr>\n",
       "    <tr>\n",
       "      <th>2015</th>\n",
       "      <td>APRIL</td>\n",
       "      <td>0.010</td>\n",
       "    </tr>\n",
       "    <tr>\n",
       "      <th>2016</th>\n",
       "      <td>APRIL</td>\n",
       "      <td>0.010</td>\n",
       "    </tr>\n",
       "    <tr>\n",
       "      <th>2017</th>\n",
       "      <td>APRIL</td>\n",
       "      <td>0.020</td>\n",
       "    </tr>\n",
       "  </tbody>\n",
       "</table>\n",
       "</div>"
      ],
      "text/plain": [
       "      MONTH  PRICE, ¢ GH\n",
       "YEAR                    \n",
       "2008  APRIL        0.131\n",
       "2009  APRIL        3.317\n",
       "2010  APRIL        4.382\n",
       "2011  APRIL        0.007\n",
       "2012  APRIL        0.010\n",
       "2013  APRIL        0.008\n",
       "2014  APRIL        0.010\n",
       "2015  APRIL        0.010\n",
       "2016  APRIL        0.010\n",
       "2017  APRIL        0.020"
      ]
     },
     "execution_count": 35,
     "metadata": {},
     "output_type": "execute_result"
    }
   ],
   "source": [
    "commodities.groupby(['YEAR'])[['MONTH','PRICE, ¢ GH']].min()"
   ]
  },
  {
   "cell_type": "markdown",
   "id": "778fd817",
   "metadata": {},
   "source": [
    "September was the month with the highest prices  and April was the month with the lowest prices"
   ]
  },
  {
   "cell_type": "code",
   "execution_count": 8,
   "id": "2f39a4c3",
   "metadata": {},
   "outputs": [
    {
     "data": {
      "image/png": "[encoded data removed]",
      "text/plain": [
       "<Figure size 792x1080 with 1 Axes>"
      ]
     },
     "metadata": {},
     "output_type": "display_data"
    }
   ],
   "source": [
    "commodities.groupby('COMMODITY')['PRICE, ¢ GH'].sum().plot(kind= 'pie', figsize =(11,15), fontsize = 8, autopct= '%1.1f%%')\n",
    "plt.show()"
   ]
  },
  {
   "cell_type": "markdown",
   "id": "92f6d5d1",
   "metadata": {},
   "source": [
    "From the distribution, Yam had the highest price amongst the commodities and Millet had the lowest price."
   ]
  },
  {
   "cell_type": "code",
   "execution_count": 9,
   "id": "904721ba",
   "metadata": {},
   "outputs": [
    {
     "data": {
      "text/html": [
       "<div>\n",
       "<style scoped>\n",
       "    .dataframe tbody tr th:only-of-type {\n",
       "        vertical-align: middle;\n",
       "    }\n",
       "\n",
       "    .dataframe tbody tr th {\n",
       "        vertical-align: top;\n",
       "    }\n",
       "\n",
       "    .dataframe thead th {\n",
       "        text-align: right;\n",
       "    }\n",
       "</style>\n",
       "<table border=\"1\" class=\"dataframe\">\n",
       "  <thead>\n",
       "    <tr style=\"text-align: right;\">\n",
       "      <th></th>\n",
       "      <th>YEAR</th>\n",
       "      <th>WEIGHT, KG PER BAG</th>\n",
       "      <th>PRICE, ¢ GH</th>\n",
       "    </tr>\n",
       "  </thead>\n",
       "  <tbody>\n",
       "    <tr>\n",
       "      <th>YEAR</th>\n",
       "      <td>1.000000e+00</td>\n",
       "      <td>1.103780e-13</td>\n",
       "      <td>0.053873</td>\n",
       "    </tr>\n",
       "    <tr>\n",
       "      <th>WEIGHT, KG PER BAG</th>\n",
       "      <td>1.103780e-13</td>\n",
       "      <td>1.000000e+00</td>\n",
       "      <td>0.404250</td>\n",
       "    </tr>\n",
       "    <tr>\n",
       "      <th>PRICE, ¢ GH</th>\n",
       "      <td>5.387296e-02</td>\n",
       "      <td>4.042497e-01</td>\n",
       "      <td>1.000000</td>\n",
       "    </tr>\n",
       "  </tbody>\n",
       "</table>\n",
       "</div>"
      ],
      "text/plain": [
       "                            YEAR  WEIGHT, KG PER BAG  PRICE, ¢ GH\n",
       "YEAR                1.000000e+00        1.103780e-13     0.053873\n",
       "WEIGHT, KG PER BAG  1.103780e-13        1.000000e+00     0.404250\n",
       "PRICE, ¢ GH         5.387296e-02        4.042497e-01     1.000000"
      ]
     },
     "execution_count": 9,
     "metadata": {},
     "output_type": "execute_result"
    }
   ],
   "source": [
    "commodities.corr()"
   ]
  },
  {
   "cell_type": "markdown",
   "id": "2f825cbb",
   "metadata": {},
   "source": [
    "\n",
    "all columns have a high correlation except YEAR\n"
   ]
  },
  {
   "cell_type": "code",
   "execution_count": null,
   "id": "cb9d759b",
   "metadata": {},
   "outputs": [],
   "source": []
  }
 ],
 "metadata": {
  "kernelspec": {
   "display_name": "Python 3 (ipykernel)",
   "language": "python",
   "name": "python3"
  },
  "language_info": {
   "codemirror_mode": {
    "name": "ipython",
    "version": 3
   },
   "file_extension": ".py",
   "mimetype": "text/x-python",
   "name": "python",
   "nbconvert_exporter": "python",
   "pygments_lexer": "ipython3",
   "version": "3.9.7"
  }
 },
 "nbformat": 4,
 "nbformat_minor": 5
}
